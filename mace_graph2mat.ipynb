{
 "cells": [
  {
   "cell_type": "code",
   "execution_count": 15,
   "metadata": {},
   "outputs": [
    {
     "name": "stdout",
     "output_type": "stream",
     "text": [
      "converged SCF energy = -40.1804247851502\n",
      "converged SCF energy = -40.180485902773\n",
      "converged SCF energy = -40.1804904062469\n",
      "converged SCF energy = -40.1804376931617\n",
      "converged SCF energy = -40.1803288490457\n",
      "converged SCF energy = -40.1801658867229\n",
      "converged SCF energy = -40.1799521161784\n",
      "converged SCF energy = -40.1796920960634\n",
      "converged SCF energy = -40.1793913085195\n",
      "converged SCF energy = -40.1790554871682\n",
      "converged SCF energy = -40.1786917585473\n",
      "converged SCF energy = -40.1783062555122\n",
      "converged SCF energy = -40.1779064227487\n",
      "converged SCF energy = -40.1774989045493\n",
      "converged SCF energy = -40.1770901612418\n",
      "converged SCF energy = -40.1766852629896\n",
      "converged SCF energy = -40.1762902365194\n",
      "converged SCF energy = -40.1759073821623\n",
      "converged SCF energy = -40.1755403410112\n",
      "converged SCF energy = -40.1751885488187\n",
      "converged SCF energy = -40.1748529883265\n",
      "converged SCF energy = -40.1745323654618\n",
      "converged SCF energy = -40.1742208146562\n",
      "converged SCF energy = -40.1739166416311\n",
      "converged SCF energy = -40.1736118584494\n",
      "converged SCF energy = -40.1733033217025\n",
      "converged SCF energy = -40.1729827027223\n",
      "converged SCF energy = -40.1726435033686\n",
      "converged SCF energy = -40.1722801359514\n",
      "converged SCF energy = -40.1718850889217\n",
      "converged SCF energy = -40.1714524263264\n",
      "converged SCF energy = -40.1709806946405\n",
      "converged SCF energy = -40.1704628093335\n",
      "converged SCF energy = -40.1698983859633\n",
      "converged SCF energy = -40.1692847988275\n",
      "converged SCF energy = -40.1686225042548\n",
      "converged SCF energy = -40.1679123083553\n",
      "converged SCF energy = -40.1671544235057\n",
      "converged SCF energy = -40.1663531816979\n",
      "converged SCF energy = -40.1655119440576\n",
      "converged SCF energy = -40.1646360430456\n",
      "converged SCF energy = -40.1637277828764\n",
      "converged SCF energy = -40.1627971789603\n",
      "converged SCF energy = -40.1618477999126\n",
      "converged SCF energy = -40.1608836883285\n",
      "converged SCF energy = -40.1599175251736\n",
      "converged SCF energy = -40.1589504897099\n",
      "converged SCF energy = -40.1579936887719\n",
      "converged SCF energy = -40.1570535869514\n",
      "converged SCF energy = -40.1561363908741\n",
      "converged SCF energy = -40.1552509690148\n",
      "converged SCF energy = -40.1544040870296\n",
      "converged SCF energy = -40.1536006689726\n",
      "converged SCF energy = -40.1528505828024\n",
      "converged SCF energy = -40.1521599771143\n",
      "converged SCF energy = -40.1515359860548\n",
      "converged SCF energy = -40.1509826538726\n",
      "converged SCF energy = -40.1505064520019\n",
      "converged SCF energy = -40.1501126109556\n",
      "converged SCF energy = -40.149806816263\n",
      "converged SCF energy = -40.1495913439517\n",
      "converged SCF energy = -40.1494703926283\n",
      "converged SCF energy = -40.1494471941199\n",
      "converged SCF energy = -40.1495208493155\n",
      "converged SCF energy = -40.1496924348099\n",
      "converged SCF energy = -40.1499644797017\n",
      "converged SCF energy = -40.1503346406145\n",
      "converged SCF energy = -40.1507985443404\n",
      "converged SCF energy = -40.1513567793999\n",
      "converged SCF energy = -40.1520021343897\n",
      "converged SCF energy = -40.1527324978379\n",
      "converged SCF energy = -40.1535407085628\n",
      "converged SCF energy = -40.1544209408075\n",
      "converged SCF energy = -40.1553664617166\n",
      "converged SCF energy = -40.1563704445228\n",
      "converged SCF energy = -40.1574226533439\n",
      "converged SCF energy = -40.1585169015036\n",
      "converged SCF energy = -40.1596446093846\n",
      "converged SCF energy = -40.1607933397623\n",
      "converged SCF energy = -40.1619580239452\n",
      "converged SCF energy = -40.1631272365225\n",
      "converged SCF energy = -40.164292225415\n",
      "converged SCF energy = -40.1654438561495\n",
      "converged SCF energy = -40.1665729064624\n",
      "converged SCF energy = -40.1676736034968\n",
      "converged SCF energy = -40.1687341828745\n",
      "converged SCF energy = -40.1697482985287\n",
      "converged SCF energy = -40.1707110746125\n",
      "converged SCF energy = -40.1716126598511\n",
      "converged SCF energy = -40.1724503384794\n",
      "converged SCF energy = -40.1732178939179\n",
      "converged SCF energy = -40.1739122526535\n",
      "converged SCF energy = -40.1745297206689\n",
      "converged SCF energy = -40.17506948942\n",
      "converged SCF energy = -40.1755308551887\n",
      "converged SCF energy = -40.1759136040562\n",
      "converged SCF energy = -40.1762204763078\n",
      "converged SCF energy = -40.1764530016274\n",
      "converged SCF energy = -40.1766158202468\n",
      "converged SCF energy = -40.1767124189585\n",
      "converged SCF energy = -40.1767493919416\n",
      "converged SCF energy = -40.176733491972\n",
      "converged SCF energy = -40.1766712625582\n",
      "converged SCF energy = -40.1765699157323\n",
      "converged SCF energy = -40.1764394985745\n",
      "converged SCF energy = -40.1762858958269\n",
      "converged SCF energy = -40.176118771587\n",
      "converged SCF energy = -40.1759465847947\n",
      "converged SCF energy = -40.1757739973298\n",
      "converged SCF energy = -40.1756105261165\n",
      "converged SCF energy = -40.175460098839\n",
      "converged SCF energy = -40.1753278363056\n",
      "converged SCF energy = -40.1752156486287\n",
      "converged SCF energy = -40.175125935419\n",
      "converged SCF energy = -40.175057913346\n",
      "converged SCF energy = -40.1750117642369\n",
      "converged SCF energy = -40.1749819490818\n",
      "converged SCF energy = -40.1749657359111\n",
      "converged SCF energy = -40.1749558310705\n",
      "converged SCF energy = -40.1749473817029\n",
      "converged SCF energy = -40.174932266785\n",
      "converged SCF energy = -40.1749037842637\n",
      "converged SCF energy = -40.1748538273215\n",
      "converged SCF energy = -40.1747743815498\n",
      "converged SCF energy = -40.1746606105987\n",
      "converged SCF energy = -40.1745039008485\n",
      "converged SCF energy = -40.1743005648945\n",
      "converged SCF energy = -40.1740464093738\n",
      "converged SCF energy = -40.1737375772974\n",
      "converged SCF energy = -40.1733726448604\n",
      "converged SCF energy = -40.1729497277763\n",
      "converged SCF energy = -40.1724696317465\n",
      "converged SCF energy = -40.1719331694365\n",
      "converged SCF energy = -40.1713431694724\n",
      "converged SCF energy = -40.1707009009408\n",
      "converged SCF energy = -40.1700117752838\n",
      "converged SCF energy = -40.1692798413147\n",
      "converged SCF energy = -40.1685101415437\n",
      "converged SCF energy = -40.1677069822465\n",
      "converged SCF energy = -40.1668768932896\n",
      "converged SCF energy = -40.1660255999192\n",
      "converged SCF energy = -40.165158699682\n",
      "converged SCF energy = -40.1642840762921\n",
      "converged SCF energy = -40.1634072011623\n",
      "converged SCF energy = -40.1625357731393\n",
      "converged SCF energy = -40.1616752787434\n",
      "converged SCF energy = -40.1608323710772\n",
      "converged SCF energy = -40.160012163067\n",
      "converged SCF energy = -40.1592246898801\n",
      "converged SCF energy = -40.1584709339418\n",
      "converged SCF energy = -40.1577624795884\n",
      "converged SCF energy = -40.1571016070119\n",
      "converged SCF energy = -40.1564940189797\n",
      "converged SCF energy = -40.1559456116742\n",
      "converged SCF energy = -40.1554615597926\n",
      "converged SCF energy = -40.1550460527599\n",
      "converged SCF energy = -40.1547018684353\n",
      "converged SCF energy = -40.154431586952\n",
      "converged SCF energy = -40.1542422964735\n",
      "converged SCF energy = -40.1541329104168\n",
      "converged SCF energy = -40.1541034315387\n",
      "converged SCF energy = -40.1541583550267\n",
      "converged SCF energy = -40.1542940779142\n",
      "converged SCF energy = -40.1545127976701\n",
      "converged SCF energy = -40.1548104556982\n",
      "converged SCF energy = -40.1551856716615\n",
      "converged SCF energy = -40.1556361024289\n",
      "converged SCF energy = -40.1561576981002\n",
      "converged SCF energy = -40.1567433802858\n",
      "converged SCF energy = -40.1573891917152\n",
      "converged SCF energy = -40.1580905177783\n",
      "converged SCF energy = -40.158840103276\n",
      "converged SCF energy = -40.1596327391326\n",
      "converged SCF energy = -40.1604569902419\n",
      "converged SCF energy = -40.1613111270065\n",
      "converged SCF energy = -40.162183922805\n",
      "converged SCF energy = -40.1630673994161\n",
      "converged SCF energy = -40.1639553230148\n",
      "converged SCF energy = -40.1648402485274\n",
      "converged SCF energy = -40.1657115692749\n",
      "converged SCF energy = -40.1665680446362\n",
      "converged SCF energy = -40.1673960539134\n",
      "converged SCF energy = -40.1681947379421\n",
      "converged SCF energy = -40.1689556269814\n",
      "converged SCF energy = -40.1696745451726\n",
      "converged SCF energy = -40.1703469321109\n",
      "converged SCF energy = -40.1709670567109\n",
      "converged SCF energy = -40.1715368881204\n",
      "converged SCF energy = -40.1720511060546\n",
      "converged SCF energy = -40.1725091042043\n",
      "converged SCF energy = -40.1729118319951\n",
      "converged SCF energy = -40.1732600178744\n",
      "converged SCF energy = -40.1735559773414\n",
      "converged SCF energy = -40.1738020103448\n",
      "converged SCF energy = -40.1740015314144\n",
      "converged SCF energy = -40.1741604687953\n",
      "converged SCF energy = -40.1742821873951\n",
      "converged SCF energy = -40.1743734247807\n",
      "converged SCF energy = -40.1744413673992\n",
      "converged SCF energy = -40.1744893748475\n",
      "converged SCF energy = -40.1745269349154\n",
      "converged SCF energy = -40.1745580252965\n",
      "converged SCF energy = -40.1745914723074\n",
      "converged SCF energy = -40.1746300512874\n",
      "converged SCF energy = -40.1746804428046\n",
      "converged SCF energy = -40.1747468899424\n",
      "converged SCF energy = -40.1748298481542\n",
      "converged SCF energy = -40.1749331925253\n",
      "converged SCF energy = -40.1750573011198\n",
      "converged SCF energy = -40.1752021833294\n",
      "converged SCF energy = -40.1753640113343\n",
      "converged SCF energy = -40.1755422132639\n",
      "converged SCF energy = -40.175730656668\n",
      "converged SCF energy = -40.1759231618743\n",
      "converged SCF energy = -40.1761181593952\n",
      "converged SCF energy = -40.1763056241857\n",
      "converged SCF energy = -40.1764811794379\n",
      "converged SCF energy = -40.1766363079319\n",
      "converged SCF energy = -40.1767669211481\n",
      "converged SCF energy = -40.1768648983247\n",
      "converged SCF energy = -40.1769257331128\n",
      "converged SCF energy = -40.1769438744789\n",
      "converged SCF energy = -40.1769157675639\n",
      "converged SCF energy = -40.1768388583885\n",
      "converged SCF energy = -40.1767092213384\n",
      "converged SCF energy = -40.1765270361986\n",
      "converged SCF energy = -40.1762899116771\n",
      "converged SCF energy = -40.1759998906022\n",
      "converged SCF energy = -40.1756581374838\n",
      "converged SCF energy = -40.1752654229341\n",
      "converged SCF energy = -40.174824223976\n",
      "converged SCF energy = -40.1743398899912\n",
      "converged SCF energy = -40.1738137345411\n",
      "converged SCF energy = -40.1732507448284\n",
      "converged SCF energy = -40.1726561175994\n",
      "converged SCF energy = -40.1720335190023\n",
      "converged SCF energy = -40.1713891691616\n",
      "converged SCF energy = -40.1707270585273\n",
      "converged SCF energy = -40.1700532825637\n",
      "converged SCF energy = -40.1693738061004\n",
      "converged SCF energy = -40.168691651191\n",
      "converged SCF energy = -40.1680132764293\n",
      "converged SCF energy = -40.1673467237463\n",
      "converged SCF energy = -40.1666931662656\n",
      "converged SCF energy = -40.1660592457344\n",
      "converged SCF energy = -40.1654504890533\n",
      "converged SCF energy = -40.1648693536458\n",
      "converged SCF energy = -40.1643237361202\n",
      "converged SCF energy = -40.1638145187125\n",
      "converged SCF energy = -40.1633485485611\n",
      "converged SCF energy = -40.1629289538671\n",
      "converged SCF energy = -40.1625547840677\n",
      "converged SCF energy = -40.1622328718558\n",
      "converged SCF energy = -40.1619644429911\n",
      "converged SCF energy = -40.161749417385\n",
      "converged SCF energy = -40.1615938812591\n",
      "converged SCF energy = -40.1614943914178\n",
      "converged SCF energy = -40.1614514341775\n",
      "converged SCF energy = -40.1614657877334\n",
      "converged SCF energy = -40.1615350001069\n",
      "converged SCF energy = -40.1616605901089\n",
      "converged SCF energy = -40.1618345243641\n",
      "converged SCF energy = -40.1620594697796\n",
      "converged SCF energy = -40.162328816875\n",
      "converged SCF energy = -40.1626413174703\n",
      "converged SCF energy = -40.1629900549243\n",
      "converged SCF energy = -40.163371150291\n",
      "converged SCF energy = -40.1637790780583\n",
      "converged SCF energy = -40.1642090647396\n",
      "converged SCF energy = -40.1646545989218\n",
      "converged SCF energy = -40.1651102607917\n",
      "converged SCF energy = -40.1655700034135\n",
      "converged SCF energy = -40.1660257767124\n",
      "converged SCF energy = -40.1664765376185\n",
      "converged SCF energy = -40.1669101918133\n",
      "converged SCF energy = -40.1673251026865\n",
      "converged SCF energy = -40.1677167617407\n",
      "converged SCF energy = -40.1680792151421\n",
      "converged SCF energy = -40.1684064911777\n",
      "converged SCF energy = -40.1686970973855\n",
      "converged SCF energy = -40.1689481126719\n",
      "converged SCF energy = -40.1691579676023\n",
      "converged SCF energy = -40.1693229203959\n",
      "converged SCF energy = -40.1694441107477\n",
      "converged SCF energy = -40.1695194585924\n",
      "converged SCF energy = -40.1695542168847\n",
      "converged SCF energy = -40.1695476127171\n",
      "converged SCF energy = -40.169502222078\n",
      "converged SCF energy = -40.1694234071556\n",
      "converged SCF energy = -40.1693145521535\n",
      "converged SCF energy = -40.1691820043574\n",
      "converged SCF energy = -40.1690309739061\n",
      "converged SCF energy = -40.1688674542195\n",
      "converged SCF energy = -40.1686995290794\n",
      "converged SCF energy = -40.168532778877\n",
      "converged SCF energy = -40.1683748583522\n",
      "converged SCF energy = -40.168231869524\n",
      "converged SCF energy = -40.1681105839705\n",
      "converged SCF energy = -40.1680176014075\n",
      "converged SCF energy = -40.1679570808438\n",
      "converged SCF energy = -40.1679332757572\n",
      "converged SCF energy = -40.1679492689917\n",
      "converged SCF energy = -40.1680057671918\n",
      "converged SCF energy = -40.1681048546913\n",
      "converged SCF energy = -40.1682429978412\n",
      "converged SCF energy = -40.1684195462147\n",
      "converged SCF energy = -40.168631230186\n",
      "converged SCF energy = -40.168870233168\n",
      "converged SCF energy = -40.1691319669404\n",
      "converged SCF energy = -40.169409772716\n",
      "converged SCF energy = -40.1696959621797\n",
      "converged SCF energy = -40.1699835021107\n",
      "converged SCF energy = -40.1702639711407\n",
      "converged SCF energy = -40.1705296661697\n",
      "converged SCF energy = -40.1707751046248\n",
      "converged SCF energy = -40.1709916257554\n",
      "converged SCF energy = -40.1711749845289\n",
      "converged SCF energy = -40.1713209380416\n",
      "converged SCF energy = -40.1714237468459\n",
      "converged SCF energy = -40.1714822571391\n",
      "converged SCF energy = -40.1714933687091\n",
      "converged SCF energy = -40.1714577011696\n",
      "converged SCF energy = -40.1713729369076\n",
      "converged SCF energy = -40.1712427811214\n",
      "converged SCF energy = -40.1710661915131\n",
      "converged SCF energy = -40.1708468308919\n",
      "converged SCF energy = -40.1705877345807\n",
      "converged SCF energy = -40.1702916002956\n",
      "converged SCF energy = -40.1699637160853\n",
      "converged SCF energy = -40.1696085540404\n",
      "converged SCF energy = -40.1692286532935\n",
      "converged SCF energy = -40.1688298246298\n",
      "converged SCF energy = -40.1684185274494\n",
      "converged SCF energy = -40.1679986194989\n",
      "converged SCF energy = -40.1675743892818\n",
      "converged SCF energy = -40.1671518345925\n",
      "converged SCF energy = -40.166736633542\n",
      "converged SCF energy = -40.1663322616053\n",
      "converged SCF energy = -40.1659449193863\n",
      "converged SCF energy = -40.1655772472072\n",
      "converged SCF energy = -40.1652343727652\n",
      "converged SCF energy = -40.1649200517121\n",
      "converged SCF energy = -40.1646391359736\n",
      "converged SCF energy = -40.1643928272985\n",
      "converged SCF energy = -40.164187634096\n",
      "converged SCF energy = -40.1640229554035\n",
      "converged SCF energy = -40.1639022908762\n",
      "converged SCF energy = -40.1638268943042\n",
      "converged SCF energy = -40.163796000473\n",
      "converged SCF energy = -40.1638164805047\n",
      "converged SCF energy = -40.1638822938738\n",
      "converged SCF energy = -40.1639982626991\n",
      "converged SCF energy = -40.1641592039134\n",
      "converged SCF energy = -40.164366042822\n",
      "converged SCF energy = -40.1646173648862\n",
      "converged SCF energy = -40.1649103244795\n",
      "converged SCF energy = -40.1652430625831\n",
      "converged SCF energy = -40.1656118558442\n",
      "converged SCF energy = -40.1660134523118\n",
      "converged SCF energy = -40.1664436955319\n",
      "converged SCF energy = -40.1668958859665\n",
      "converged SCF energy = -40.1673700812501\n",
      "converged SCF energy = -40.1678596671966\n",
      "converged SCF energy = -40.1683585987076\n",
      "converged SCF energy = -40.1688612695252\n",
      "converged SCF energy = -40.169365680929\n",
      "converged SCF energy = -40.1698642154272\n",
      "converged SCF energy = -40.1703521890742\n",
      "converged SCF energy = -40.1708252814733\n",
      "converged SCF energy = -40.17127685917\n",
      "converged SCF energy = -40.1717047953521\n",
      "converged SCF energy = -40.1721037098413\n",
      "converged SCF energy = -40.1724698932412\n",
      "converged SCF energy = -40.1728006930537\n",
      "converged SCF energy = -40.1730933925549\n",
      "converged SCF energy = -40.1733452356199\n",
      "converged SCF energy = -40.1735542676289\n",
      "converged SCF energy = -40.1737197045298\n",
      "converged SCF energy = -40.173841873399\n",
      "converged SCF energy = -40.173921549482\n",
      "converged SCF energy = -40.1739578319747\n",
      "converged SCF energy = -40.173954831029\n",
      "converged SCF energy = -40.1739120657533\n",
      "converged SCF energy = -40.1738348585861\n",
      "converged SCF energy = -40.1737260096562\n",
      "converged SCF energy = -40.1735896942841\n",
      "converged SCF energy = -40.1734297698832\n",
      "converged SCF energy = -40.1732520278074\n",
      "converged SCF energy = -40.1730614565265\n",
      "converged SCF energy = -40.172863474922\n",
      "converged SCF energy = -40.1726623474698\n",
      "converged SCF energy = -40.1724646752194\n",
      "converged SCF energy = -40.1722757961737\n",
      "converged SCF energy = -40.1720996094701\n",
      "converged SCF energy = -40.1719396212719\n",
      "converged SCF energy = -40.1718015055307\n",
      "converged SCF energy = -40.1716866982869\n",
      "converged SCF energy = -40.1715970501005\n",
      "converged SCF energy = -40.1715363577498\n",
      "converged SCF energy = -40.1715035728881\n",
      "converged SCF energy = -40.1714959446685\n",
      "converged SCF energy = -40.1715154036391\n",
      "converged SCF energy = -40.1715568878647\n",
      "converged SCF energy = -40.1716212962187\n",
      "converged SCF energy = -40.1717000278561\n",
      "converged SCF energy = -40.1717907519294\n",
      "converged SCF energy = -40.1718901613947\n",
      "converged SCF energy = -40.1719921376014\n",
      "converged SCF energy = -40.1720912477655\n",
      "converged SCF energy = -40.1721835004497\n",
      "converged SCF energy = -40.1722632493403\n",
      "converged SCF energy = -40.1723279003363\n",
      "converged SCF energy = -40.1723712806132\n",
      "converged SCF energy = -40.1723912486257\n",
      "converged SCF energy = -40.1723854314178\n",
      "converged SCF energy = -40.1723509422233\n",
      "converged SCF energy = -40.1722864072947\n",
      "converged SCF energy = -40.1721920704495\n",
      "converged SCF energy = -40.1720660022112\n",
      "converged SCF energy = -40.1719095335954\n",
      "converged SCF energy = -40.1717246869784\n",
      "converged SCF energy = -40.1715110457425\n",
      "converged SCF energy = -40.1712716879281\n",
      "converged SCF energy = -40.1710093227218\n",
      "converged SCF energy = -40.170725999459\n",
      "converged SCF energy = -40.1704260772603\n",
      "converged SCF energy = -40.1701122183642\n",
      "converged SCF energy = -40.1697868189511\n",
      "converged SCF energy = -40.1694556775766\n",
      "converged SCF energy = -40.1691218057342\n",
      "converged SCF energy = -40.1687883782975\n",
      "converged SCF energy = -40.1684600112211\n",
      "converged SCF energy = -40.1681389687049\n",
      "converged SCF energy = -40.1678333747662\n",
      "converged SCF energy = -40.1675408580564\n",
      "converged SCF energy = -40.1672681071195\n",
      "converged SCF energy = -40.1670185158879\n",
      "converged SCF energy = -40.1667937248663\n",
      "converged SCF energy = -40.1665969963375\n",
      "converged SCF energy = -40.1664296528537\n",
      "converged SCF energy = -40.166297131946\n",
      "converged SCF energy = -40.1661976340103\n",
      "converged SCF energy = -40.1661338952639\n",
      "converged SCF energy = -40.1661084414301\n",
      "converged SCF energy = -40.1661174257695\n",
      "converged SCF energy = -40.1661650222236\n",
      "converged SCF energy = -40.1662483459076\n",
      "converged SCF energy = -40.1663688952946\n",
      "converged SCF energy = -40.1665249189872\n",
      "converged SCF energy = -40.1667152023844\n",
      "converged SCF energy = -40.1669374734949\n",
      "converged SCF energy = -40.1671891200607\n",
      "converged SCF energy = -40.1674665140351\n",
      "converged SCF energy = -40.1677688278245\n",
      "converged SCF energy = -40.1680902476035\n",
      "converged SCF energy = -40.1684302242053\n",
      "converged SCF energy = -40.1687824940515\n",
      "converged SCF energy = -40.169145337519\n",
      "converged SCF energy = -40.1695117842239\n",
      "converged SCF energy = -40.16988022969\n",
      "converged SCF energy = -40.1702446247665\n",
      "converged SCF energy = -40.170602850031\n",
      "converged SCF energy = -40.1709480071808\n",
      "converged SCF energy = -40.171277985487\n",
      "converged SCF energy = -40.1715888914972\n",
      "converged SCF energy = -40.1718777490151\n",
      "converged SCF energy = -40.1721398201927\n",
      "converged SCF energy = -40.1723735815743\n",
      "converged SCF energy = -40.1725765536197\n",
      "converged SCF energy = -40.1727455931796\n",
      "converged SCF energy = -40.1728808774239\n",
      "converged SCF energy = -40.1729801815486\n",
      "converged SCF energy = -40.1730433234614\n",
      "converged SCF energy = -40.1730715478643\n",
      "converged SCF energy = -40.1730629523472\n",
      "converged SCF energy = -40.1730205758358\n",
      "converged SCF energy = -40.1729466743306\n",
      "converged SCF energy = -40.1728422954495\n",
      "converged SCF energy = -40.172709702589\n",
      "converged SCF energy = -40.1725540949653\n",
      "converged SCF energy = -40.172375873089\n",
      "converged SCF energy = -40.1721810796639\n",
      "converged SCF energy = -40.1719726570435\n",
      "converged SCF energy = -40.1717553459731\n",
      "converged SCF energy = -40.171531789474\n",
      "converged SCF energy = -40.1713081183115\n",
      "converged SCF energy = -40.1710875460164\n",
      "converged SCF energy = -40.170873796227\n",
      "converged SCF energy = -40.1706695933621\n",
      "converged SCF energy = -40.1704789599729\n",
      "converged SCF energy = -40.1703029379672\n",
      "converged SCF energy = -40.1701449383253\n",
      "converged SCF energy = -40.1700053380861\n",
      "converged SCF energy = -40.1698842816083\n",
      "converged SCF energy = -40.1697821055501\n",
      "converged SCF energy = -40.169698305358\n",
      "converged SCF energy = -40.1696295545212\n",
      "converged SCF energy = -40.1695754342494\n",
      "converged SCF energy = -40.1695332462047\n",
      "converged SCF energy = -40.1694995743128\n",
      "converged SCF energy = -40.1694699922383\n",
      "converged SCF energy = -40.1694425632483\n",
      "converged SCF energy = -40.1694125180718\n",
      "converged SCF energy = -40.1693757139535\n",
      "converged SCF energy = -40.1693300759074\n",
      "converged SCF energy = -40.1692707563005\n",
      "converged SCF energy = -40.1691962791674\n",
      "converged SCF energy = -40.1691023729586\n",
      "converged SCF energy = -40.1689888006896\n",
      "converged SCF energy = -40.1688531090964\n",
      "converged SCF energy = -40.1686941116311\n",
      "converged SCF energy = -40.1685112963399\n",
      "converged SCF energy = -40.1683041663727\n",
      "converged SCF energy = -40.1680746458906\n",
      "converged SCF energy = -40.1678222846428\n",
      "converged SCF energy = -40.1675494187926\n",
      "converged SCF energy = -40.1672572808509\n",
      "converged SCF energy = -40.1669482753492\n",
      "converged SCF energy = -40.1666243824245\n",
      "converged SCF energy = -40.1662905627881\n",
      "converged SCF energy = -40.1659476840445\n",
      "converged SCF energy = -40.1655994223238\n",
      "converged SCF energy = -40.165249688847\n",
      "converged SCF energy = -40.1649012692311\n",
      "converged SCF energy = -40.1645590802388\n",
      "converged SCF energy = -40.1642249527577\n",
      "converged SCF energy = -40.1639048808888\n",
      "converged SCF energy = -40.1636000473006\n",
      "converged SCF energy = -40.1633146595582\n",
      "converged SCF energy = -40.1630509827353\n",
      "converged SCF energy = -40.1628156049374\n",
      "converged SCF energy = -40.1626081505807\n",
      "converged SCF energy = -40.1624333653482\n",
      "converged SCF energy = -40.1622932946175\n",
      "converged SCF energy = -40.1621900057449\n",
      "converged SCF energy = -40.162126007128\n",
      "converged SCF energy = -40.1621032699874\n",
      "converged SCF energy = -40.1621209883729\n",
      "converged SCF energy = -40.1621827590988\n",
      "converged SCF energy = -40.1622874475004\n",
      "converged SCF energy = -40.1624377096509\n",
      "converged SCF energy = -40.1626316920429\n",
      "converged SCF energy = -40.1628674677289\n",
      "converged SCF energy = -40.1631466738582\n",
      "converged SCF energy = -40.1634669789474\n",
      "converged SCF energy = -40.1638256763976\n",
      "converged SCF energy = -40.1642217420608\n",
      "converged SCF energy = -40.1646520490658\n",
      "converged SCF energy = -40.165114813448\n",
      "converged SCF energy = -40.1656048959291\n",
      "converged SCF energy = -40.1661199744929\n",
      "converged SCF energy = -40.1666573252208\n",
      "converged SCF energy = -40.1672123779383\n",
      "converged SCF energy = -40.1677806628661\n",
      "converged SCF energy = -40.1683567509713\n",
      "converged SCF energy = -40.1689395829215\n",
      "converged SCF energy = -40.1695231230288\n",
      "converged SCF energy = -40.1701035034619\n",
      "converged SCF energy = -40.1706774855073\n",
      "converged SCF energy = -40.1712406267528\n",
      "converged SCF energy = -40.1717880980971\n",
      "converged SCF energy = -40.172317957455\n",
      "converged SCF energy = -40.1728269463665\n",
      "converged SCF energy = -40.1733121884789\n",
      "converged SCF energy = -40.1737703037895\n",
      "converged SCF energy = -40.1741989014966\n",
      "converged SCF energy = -40.1745979032601\n",
      "converged SCF energy = -40.1749645105292\n",
      "converged SCF energy = -40.1752976274636\n",
      "converged SCF energy = -40.1755976154741\n",
      "converged SCF energy = -40.1758632508558\n",
      "converged SCF energy = -40.1760956677062\n",
      "converged SCF energy = -40.1762947730933\n",
      "converged SCF energy = -40.1764611596406\n",
      "converged SCF energy = -40.176597589355\n",
      "converged SCF energy = -40.1767030685167\n",
      "converged SCF energy = -40.1767811282142\n",
      "converged SCF energy = -40.1768330637306\n",
      "converged SCF energy = -40.1768604998694\n",
      "converged SCF energy = -40.1768676365646\n",
      "converged SCF energy = -40.176854023489\n",
      "converged SCF energy = -40.1768232343376\n",
      "converged SCF energy = -40.1767778285961\n",
      "converged SCF energy = -40.1767194346994\n",
      "converged SCF energy = -40.1766502044951\n",
      "converged SCF energy = -40.1765719652198\n",
      "converged SCF energy = -40.1764859887318\n",
      "converged SCF energy = -40.1763929255564\n",
      "converged SCF energy = -40.1762962832742\n",
      "converged SCF energy = -40.1761951799857\n",
      "converged SCF energy = -40.17608939287\n",
      "converged SCF energy = -40.1759802258777\n",
      "converged SCF energy = -40.1758678875529\n",
      "converged SCF energy = -40.1757507482542\n",
      "converged SCF energy = -40.1756286303416\n",
      "converged SCF energy = -40.1755010978449\n",
      "converged SCF energy = -40.1753668902818\n",
      "converged SCF energy = -40.1752244173183\n",
      "converged SCF energy = -40.1750731905006\n",
      "converged SCF energy = -40.1749113987995\n",
      "converged SCF energy = -40.1747380539981\n",
      "converged SCF energy = -40.1745514343204\n",
      "converged SCF energy = -40.17435074356\n",
      "converged SCF energy = -40.1741351876582\n",
      "converged SCF energy = -40.1739031603527\n",
      "converged SCF energy = -40.1736548048166\n",
      "converged SCF energy = -40.1733896788711\n",
      "converged SCF energy = -40.1731073125192\n",
      "converged SCF energy = -40.1728084022393\n",
      "converged SCF energy = -40.1724922829312\n",
      "converged SCF energy = -40.1721602455016\n",
      "converged SCF energy = -40.171813448783\n",
      "converged SCF energy = -40.1714529731909\n",
      "converged SCF energy = -40.1710780788064\n",
      "converged SCF energy = -40.1706944373312\n",
      "converged SCF energy = -40.1703005465113\n",
      "converged SCF energy = -40.1698996349137\n",
      "converged SCF energy = -40.1694938662309\n",
      "converged SCF energy = -40.1690843290468\n",
      "converged SCF energy = -40.1686746909739\n",
      "converged SCF energy = -40.1682688419748\n",
      "converged SCF energy = -40.1678666900797\n",
      "converged SCF energy = -40.1674719906598\n",
      "converged SCF energy = -40.1670891124501\n",
      "converged SCF energy = -40.1667178054739\n",
      "converged SCF energy = -40.1663631611068\n",
      "converged SCF energy = -40.1660261806119\n",
      "converged SCF energy = -40.1657096214916\n",
      "converged SCF energy = -40.1654168481043\n",
      "converged SCF energy = -40.1651506443075\n",
      "converged SCF energy = -40.1649088715123\n",
      "converged SCF energy = -40.1646992636782\n",
      "converged SCF energy = -40.1645195486773\n",
      "converged SCF energy = -40.1643700870682\n",
      "converged SCF energy = -40.1642565008151\n",
      "converged SCF energy = -40.1641763640182\n",
      "converged SCF energy = -40.1641293861121\n",
      "converged SCF energy = -40.1641187013705\n",
      "converged SCF energy = -40.1641424194873\n",
      "converged SCF energy = -40.164199012131\n",
      "converged SCF energy = -40.1642908928179\n",
      "converged SCF energy = -40.1644142238509\n",
      "converged SCF energy = -40.1645687842384\n",
      "converged SCF energy = -40.1647509423918\n",
      "converged SCF energy = -40.1649605131782\n",
      "converged SCF energy = -40.1651961736954\n",
      "converged SCF energy = -40.1654545968001\n",
      "converged SCF energy = -40.1657323138648\n",
      "converged SCF energy = -40.1660257403038\n",
      "converged SCF energy = -40.1663351230758\n",
      "converged SCF energy = -40.1666548165186\n",
      "converged SCF energy = -40.1669852952879\n",
      "converged SCF energy = -40.1673171797139\n",
      "converged SCF energy = -40.167654840788\n",
      "converged SCF energy = -40.1679898040424\n",
      "converged SCF energy = -40.1683231741414\n",
      "converged SCF energy = -40.1686501151527\n",
      "converged SCF energy = -40.1689688849868\n",
      "converged SCF energy = -40.1692767012607\n",
      "converged SCF energy = -40.1695736977167\n",
      "converged SCF energy = -40.1698563662705\n",
      "converged SCF energy = -40.1701233788431\n",
      "converged SCF energy = -40.1703738311517\n",
      "converged SCF energy = -40.1706076498472\n",
      "converged SCF energy = -40.1708228476373\n",
      "converged SCF energy = -40.1710201482984\n",
      "converged SCF energy = -40.171200080321\n",
      "converged SCF energy = -40.1713618701105\n",
      "converged SCF energy = -40.1715076662987\n",
      "converged SCF energy = -40.1716372385643\n",
      "converged SCF energy = -40.171751914944\n",
      "converged SCF energy = -40.1718536812786\n",
      "converged SCF energy = -40.1719427682279\n",
      "converged SCF energy = -40.1720220676466\n",
      "converged SCF energy = -40.1720927686508\n",
      "converged SCF energy = -40.1721565192409\n",
      "converged SCF energy = -40.1722147484757\n",
      "converged SCF energy = -40.1722695534334\n",
      "converged SCF energy = -40.1723231474112\n",
      "converged SCF energy = -40.1723754776881\n",
      "converged SCF energy = -40.1724277617539\n",
      "converged SCF energy = -40.1724817474487\n",
      "converged SCF energy = -40.172537097196\n",
      "converged SCF energy = -40.17259480575\n",
      "converged SCF energy = -40.1726539416183\n",
      "converged SCF energy = -40.1727152354163\n",
      "converged SCF energy = -40.1727763725327\n",
      "converged SCF energy = -40.1728379426445\n",
      "converged SCF energy = -40.1728970787269\n",
      "converged SCF energy = -40.172953355838\n",
      "converged SCF energy = -40.173004093234\n",
      "converged SCF energy = -40.1730469658139\n",
      "converged SCF energy = -40.1730806439465\n",
      "converged SCF energy = -40.1731029377864\n",
      "converged SCF energy = -40.1731108797044\n",
      "converged SCF energy = -40.173102489273\n",
      "converged SCF energy = -40.1730757254679\n",
      "converged SCF energy = -40.1730293166094\n",
      "converged SCF energy = -40.1729605352089\n",
      "converged SCF energy = -40.1728681400329\n",
      "converged SCF energy = -40.1727516353424\n",
      "converged SCF energy = -40.1726093504639\n",
      "converged SCF energy = -40.1724414363777\n",
      "converged SCF energy = -40.1722484142116\n",
      "converged SCF energy = -40.1720286552127\n",
      "converged SCF energy = -40.1717844649382\n",
      "converged SCF energy = -40.1715153141913\n",
      "converged SCF energy = -40.1712246401313\n",
      "converged SCF energy = -40.1709115917967\n",
      "converged SCF energy = -40.1705788051491\n",
      "converged SCF energy = -40.1702293055736\n",
      "converged SCF energy = -40.1698650935002\n",
      "converged SCF energy = -40.1694882106684\n",
      "converged SCF energy = -40.1691018440889\n",
      "converged SCF energy = -40.1687089521367\n",
      "converged SCF energy = -40.1683125325771\n",
      "converged SCF energy = -40.1679160261131\n",
      "converged SCF energy = -40.1675229802525\n",
      "converged SCF energy = -40.1671349832417\n",
      "converged SCF energy = -40.1667566633207\n",
      "converged SCF energy = -40.16639107599\n",
      "converged SCF energy = -40.1660416276414\n",
      "converged SCF energy = -40.165709154826\n",
      "converged SCF energy = -40.1653999825621\n",
      "converged SCF energy = -40.1651148346721\n",
      "converged SCF energy = -40.1648561691416\n",
      "converged SCF energy = -40.1646261581701\n",
      "converged SCF energy = -40.1644263940892\n",
      "converged SCF energy = -40.1642601030511\n",
      "converged SCF energy = -40.1641281379678\n",
      "converged SCF energy = -40.164031743264\n",
      "converged SCF energy = -40.163971841722\n",
      "converged SCF energy = -40.1639469881594\n",
      "converged SCF energy = -40.1639612206156\n",
      "converged SCF energy = -40.1640113616377\n",
      "converged SCF energy = -40.1640985813975\n",
      "converged SCF energy = -40.1642197224436\n",
      "converged SCF energy = -40.1643780135797\n",
      "converged SCF energy = -40.1645689967077\n",
      "converged SCF energy = -40.1647911809066\n",
      "converged SCF energy = -40.1650429656749\n",
      "converged SCF energy = -40.1653228699845\n",
      "converged SCF energy = -40.1656288890262\n",
      "converged SCF energy = -40.1659562475923\n",
      "converged SCF energy = -40.1663048006647\n",
      "converged SCF energy = -40.1666694851495\n",
      "converged SCF energy = -40.1670494855491\n",
      "converged SCF energy = -40.1674400800172\n",
      "converged SCF energy = -40.1678398003682\n",
      "converged SCF energy = -40.1682459781295\n",
      "converged SCF energy = -40.1686545138117\n",
      "converged SCF energy = -40.1690630002147\n",
      "converged SCF energy = -40.1694696462845\n",
      "converged SCF energy = -40.1698698018678\n",
      "converged SCF energy = -40.1702635322915\n",
      "converged SCF energy = -40.1706460543633\n",
      "converged SCF energy = -40.1710192993211\n",
      "converged SCF energy = -40.1713767487292\n",
      "converged SCF energy = -40.1717203035452\n",
      "converged SCF energy = -40.1720467121294\n",
      "converged SCF energy = -40.1723565971343\n",
      "converged SCF energy = -40.1726483096667\n",
      "converged SCF energy = -40.1729212981465\n",
      "converged SCF energy = -40.1731750823887\n",
      "converged SCF energy = -40.1734107911564\n",
      "converged SCF energy = -40.1736267252979\n",
      "converged SCF energy = -40.173825135717\n",
      "converged SCF energy = -40.1740049312628\n",
      "converged SCF energy = -40.1741671747351\n",
      "converged SCF energy = -40.1743148365196\n",
      "converged SCF energy = -40.1744462817991\n",
      "converged SCF energy = -40.1745641546029\n",
      "converged SCF energy = -40.1746698832894\n",
      "converged SCF energy = -40.1747636445374\n",
      "converged SCF energy = -40.1748473134626\n",
      "converged SCF energy = -40.1749214578472\n",
      "converged SCF energy = -40.1749880265322\n",
      "converged SCF energy = -40.1750474417344\n",
      "converged SCF energy = -40.1751014118448\n",
      "converged SCF energy = -40.1751492808936\n",
      "converged SCF energy = -40.1751928629313\n",
      "converged SCF energy = -40.175231400591\n",
      "converged SCF energy = -40.1752664309613\n",
      "converged SCF energy = -40.1752966446381\n",
      "converged SCF energy = -40.17532165328\n",
      "converged SCF energy = -40.1753413624967\n",
      "converged SCF energy = -40.1753553599631\n",
      "converged SCF energy = -40.1753619772134\n",
      "converged SCF energy = -40.1753602146283\n",
      "converged SCF energy = -40.1753499890728\n",
      "converged SCF energy = -40.1753281102765\n",
      "converged SCF energy = -40.1752945718973\n",
      "converged SCF energy = -40.1752470673721\n",
      "converged SCF energy = -40.1751848045156\n",
      "converged SCF energy = -40.175106566383\n",
      "converged SCF energy = -40.1750094088074\n",
      "converged SCF energy = -40.1748941184231\n",
      "converged SCF energy = -40.1747596229284\n",
      "converged SCF energy = -40.1746041926752\n",
      "converged SCF energy = -40.1744275280343\n",
      "converged SCF energy = -40.1742291904421\n",
      "converged SCF energy = -40.1740098281787\n",
      "converged SCF energy = -40.1737694534721\n",
      "converged SCF energy = -40.1735084100671\n",
      "converged SCF energy = -40.1732285459148\n",
      "converged SCF energy = -40.1729302199152\n",
      "converged SCF energy = -40.1726138605474\n",
      "converged SCF energy = -40.1722835153451\n",
      "converged SCF energy = -40.1719391733608\n",
      "converged SCF energy = -40.1715834435709\n",
      "converged SCF energy = -40.1712192888782\n",
      "converged SCF energy = -40.1708487218197\n",
      "converged SCF energy = -40.1704742839652\n",
      "converged SCF energy = -40.1700970679237\n",
      "converged SCF energy = -40.1697240183741\n",
      "converged SCF energy = -40.1693528446033\n",
      "converged SCF energy = -40.1689890308402\n",
      "converged SCF energy = -40.1686350989641\n",
      "converged SCF energy = -40.1682923546373\n",
      "converged SCF energy = -40.1679643861855\n",
      "converged SCF energy = -40.1676538021015\n",
      "converged SCF energy = -40.1673610505861\n",
      "converged SCF energy = -40.1670902581874\n",
      "converged SCF energy = -40.1668418180259\n",
      "converged SCF energy = -40.1666182403768\n",
      "converged SCF energy = -40.166419413575\n",
      "converged SCF energy = -40.1662485536594\n",
      "converged SCF energy = -40.166105897295\n",
      "converged SCF energy = -40.1659887897598\n",
      "converged SCF energy = -40.1659034874484\n",
      "converged SCF energy = -40.1658450004731\n",
      "converged SCF energy = -40.165816323351\n",
      "converged SCF energy = -40.1658141543591\n",
      "converged SCF energy = -40.16583812071\n",
      "converged SCF energy = -40.1658904109817\n",
      "converged SCF energy = -40.1659662688062\n",
      "converged SCF energy = -40.1660653549095\n",
      "converged SCF energy = -40.1661860885532\n",
      "converged SCF energy = -40.1663273174151\n",
      "converged SCF energy = -40.1664853045908\n",
      "converged SCF energy = -40.1666588298424\n",
      "converged SCF energy = -40.1668465768371\n",
      "converged SCF energy = -40.1670425016839\n",
      "converged SCF energy = -40.1672478312824\n",
      "converged SCF energy = -40.1674603251159\n",
      "converged SCF energy = -40.1676746090901\n",
      "converged SCF energy = -40.1678902482504\n",
      "converged SCF energy = -40.1681048595765\n",
      "converged SCF energy = -40.1683173270245\n",
      "converged SCF energy = -40.1685222452911\n",
      "converged SCF energy = -40.1687210719691\n",
      "converged SCF energy = -40.1689121422348\n",
      "converged SCF energy = -40.1690922758454\n",
      "converged SCF energy = -40.1692611741535\n",
      "converged SCF energy = -40.1694196505756\n",
      "converged SCF energy = -40.1695646422234\n",
      "converged SCF energy = -40.1696965999692\n",
      "converged SCF energy = -40.1698171933367\n",
      "converged SCF energy = -40.1699251500966\n",
      "converged SCF energy = -40.170022780964\n",
      "converged SCF energy = -40.1701093004261\n",
      "converged SCF energy = -40.1701869874957\n",
      "converged SCF energy = -40.170257187466\n",
      "converged SCF energy = -40.1703219586289\n",
      "converged SCF energy = -40.1703808019406\n",
      "converged SCF energy = -40.1704384385385\n",
      "converged SCF energy = -40.1704942745369\n",
      "converged SCF energy = -40.1705527415613\n",
      "converged SCF energy = -40.1706132340797\n",
      "converged SCF energy = -40.1706783138871\n",
      "converged SCF energy = -40.1707496045583\n",
      "converged SCF energy = -40.1708271009298\n",
      "converged SCF energy = -40.1709127599617\n",
      "converged SCF energy = -40.1710064403531\n",
      "converged SCF energy = -40.1711080255641\n",
      "converged SCF energy = -40.1712175984138\n",
      "converged SCF energy = -40.1713348238936\n",
      "converged SCF energy = -40.1714563754817\n",
      "converged SCF energy = -40.1715836799231\n",
      "converged SCF energy = -40.1717136114828\n",
      "converged SCF energy = -40.1718434606624\n",
      "converged SCF energy = -40.1719707348063\n",
      "converged SCF energy = -40.1720941637724\n",
      "converged SCF energy = -40.1722096769904\n",
      "converged SCF energy = -40.172314559688\n",
      "converged SCF energy = -40.1724061932193\n",
      "converged SCF energy = -40.1724816138157\n",
      "converged SCF energy = -40.1725392277039\n",
      "converged SCF energy = -40.1725746629748\n",
      "converged SCF energy = -40.1725880320288\n",
      "converged SCF energy = -40.1725771951416\n",
      "converged SCF energy = -40.1725393711725\n",
      "converged SCF energy = -40.1724747995521\n",
      "converged SCF energy = -40.1723825644802\n",
      "converged SCF energy = -40.1722631093484\n",
      "converged SCF energy = -40.172116126806\n",
      "converged SCF energy = -40.1719415791473\n",
      "converged SCF energy = -40.1717415124611\n",
      "converged SCF energy = -40.1715184479233\n",
      "converged SCF energy = -40.1712725980613\n",
      "converged SCF energy = -40.1710056645195\n",
      "converged SCF energy = -40.1707216417415\n",
      "converged SCF energy = -40.1704228369608\n",
      "converged SCF energy = -40.1701112377085\n",
      "converged SCF energy = -40.1697910154097\n",
      "converged SCF energy = -40.1694628816892\n",
      "converged SCF energy = -40.1691330615247\n",
      "converged SCF energy = -40.1688028626314\n",
      "converged SCF energy = -40.1684743935843\n",
      "converged SCF energy = -40.1681537253223\n",
      "converged SCF energy = -40.1678419789134\n",
      "converged SCF energy = -40.1675423988016\n",
      "converged SCF energy = -40.1672577667202\n",
      "converged SCF energy = -40.1669910390538\n",
      "converged SCF energy = -40.1667458478603\n",
      "converged SCF energy = -40.1665221408409\n",
      "converged SCF energy = -40.1663235373466\n",
      "converged SCF energy = -40.166151795507\n",
      "converged SCF energy = -40.1660075500633\n",
      "converged SCF energy = -40.1658950050995\n",
      "converged SCF energy = -40.1658112320995\n",
      "converged SCF energy = -40.1657585384477\n",
      "converged SCF energy = -40.1657387070054\n",
      "converged SCF energy = -40.1657506146063\n",
      "converged SCF energy = -40.1657949127514\n",
      "converged SCF energy = -40.1658711738027\n",
      "converged SCF energy = -40.1659771799487\n",
      "converged SCF energy = -40.1661125141008\n",
      "converged SCF energy = -40.1662787835098\n",
      "converged SCF energy = -40.1664696871691\n",
      "converged SCF energy = -40.166686624217\n",
      "converged SCF energy = -40.1669264500721\n",
      "converged SCF energy = -40.1671881719735\n",
      "converged SCF energy = -40.1674680833177\n",
      "converged SCF energy = -40.1677638549239\n",
      "converged SCF energy = -40.1680730811374\n",
      "converged SCF energy = -40.1683935338974\n",
      "converged SCF energy = -40.1687210633057\n",
      "converged SCF energy = -40.169054654675\n",
      "converged SCF energy = -40.1693914144537\n",
      "converged SCF energy = -40.1697268083806\n",
      "converged SCF energy = -40.170058615019\n",
      "converged SCF energy = -40.1703857329094\n",
      "converged SCF energy = -40.1707048385706\n",
      "converged SCF energy = -40.1710139302136\n",
      "converged SCF energy = -40.1713099177318\n",
      "converged SCF energy = -40.1715932601885\n",
      "converged SCF energy = -40.1718597168359\n",
      "converged SCF energy = -40.1721101134806\n",
      "converged SCF energy = -40.1723416753664\n",
      "converged SCF energy = -40.1725553903951\n",
      "converged SCF energy = -40.1727484430295\n",
      "converged SCF energy = -40.1729234821659\n",
      "converged SCF energy = -40.1730786373468\n",
      "converged SCF energy = -40.173215061346\n",
      "converged SCF energy = -40.1733324845404\n",
      "converged SCF energy = -40.1734329582585\n",
      "converged SCF energy = -40.1735169775051\n",
      "converged SCF energy = -40.1735860357382\n",
      "converged SCF energy = -40.1736421592725\n",
      "converged SCF energy = -40.1736870550346\n",
      "converged SCF energy = -40.1737218622727\n",
      "converged SCF energy = -40.1737498148368\n",
      "converged SCF energy = -40.1737710395335\n",
      "converged SCF energy = -40.173789652944\n",
      "converged SCF energy = -40.173806289261\n",
      "converged SCF energy = -40.1738225319831\n",
      "converged SCF energy = -40.173840744835\n",
      "converged SCF energy = -40.1738619503999\n",
      "converged SCF energy = -40.173887345465\n",
      "converged SCF energy = -40.1739174323586\n",
      "converged SCF energy = -40.173953492589\n",
      "converged SCF energy = -40.1739943972612\n",
      "converged SCF energy = -40.1740408898017\n",
      "converged SCF energy = -40.1740919827551\n",
      "converged SCF energy = -40.1741452826773\n",
      "converged SCF energy = -40.174201541065\n",
      "converged SCF energy = -40.174257320946\n",
      "converged SCF energy = -40.1743124484856\n",
      "converged SCF energy = -40.1743620188153\n",
      "converged SCF energy = -40.1744054362197\n",
      "converged SCF energy = -40.1744409606914\n",
      "converged SCF energy = -40.1744644599981\n",
      "converged SCF energy = -40.1744741785326\n",
      "converged SCF energy = -40.1744680451224\n",
      "converged SCF energy = -40.1744433269732\n",
      "converged SCF energy = -40.1743994854263\n",
      "converged SCF energy = -40.1743336241656\n",
      "converged SCF energy = -40.1742448612928\n",
      "converged SCF energy = -40.1741328924271\n",
      "converged SCF energy = -40.1739972164668\n",
      "converged SCF energy = -40.1738379013969\n",
      "converged SCF energy = -40.1736543832067\n",
      "converged SCF energy = -40.1734481735517\n",
      "converged SCF energy = -40.1732201397204\n",
      "converged SCF energy = -40.1729715118834\n",
      "converged SCF energy = -40.1727054587292\n",
      "converged SCF energy = -40.1724217402242\n",
      "converged SCF energy = -40.1721232531233\n",
      "converged SCF energy = -40.1718135555871\n"
     ]
    }
   ],
   "source": [
    "from pyscf import gto, scf\n",
    "from tools import get_atom_coords, format_for_pyscf, get_atom_list, get_atom_position_list\n",
    "import pickle\n",
    "\n",
    "# Load and parse the .xyz file\n",
    "filename = \"CH4.xyz\"  # Replace with your .xyz file path\n",
    "molecular_data = get_atom_coords(filename)\n",
    "\n",
    "\n",
    "un_correlated_structures = []\n",
    "# take one frame every 25 frames\n",
    "# for i in range(0, len(molecular_data), 25):\n",
    "# take all frames\n",
    "for i in range(0, len(molecular_data)):\n",
    "    mol = gto.Mole()\n",
    "    mol.atom = format_for_pyscf(molecular_data[i])\n",
    "    mol.basis = '6-31g'\n",
    "    mol.build()\n",
    "    un_correlated_structures.append(mol)\n",
    "\n",
    "# Compute the energy of each structure\n",
    "density_matrixes = []\n",
    "for mol in un_correlated_structures:\n",
    "    mf = scf.RHF(mol)\n",
    "    mf.kernel()\n",
    "    density_matrixes.append(mf.make_rdm1())\n",
    "\n",
    "# form the dataset\n",
    "data = {'feature':[mol.atom for mol in un_correlated_structures], 'target':density_matrixes}\n",
    "\n",
    "# save the data\n",
    "with open('data_full_631g.pkl', 'wb') as f:\n",
    "    pickle.dump(data, f)"
   ]
  },
  {
   "cell_type": "code",
   "execution_count": 1,
   "metadata": {},
   "outputs": [
    {
     "data": {
      "text/plain": [
       "(17, 17)"
      ]
     },
     "execution_count": 1,
     "metadata": {},
     "output_type": "execute_result"
    }
   ],
   "source": [
    "from pyscf import gto, scf\n",
    "from tools import get_atom_coords, format_for_pyscf, get_atom_list, get_atom_position_list\n",
    "import pickle\n",
    "\n",
    "with open('data_631g.pkl', 'rb') as f:\n",
    "    data = pickle.load(f)\n",
    "    \n",
    "data['target'][0].shape"
   ]
  },
  {
   "cell_type": "code",
   "execution_count": 11,
   "metadata": {},
   "outputs": [],
   "source": [
    "import numpy as np\n",
    "import torch\n",
    "from torch_geometric.loader import DataLoader\n",
    "\n",
    "# To load plotly templates for sisl visualization\n",
    "# import sisl.viz\n",
    "\n",
    "from e3nn import o3\n",
    "\n",
    "from graph2mat import (\n",
    "    BasisConfiguration,\n",
    "    PointBasis,\n",
    "    BasisTableWithEdges,\n",
    "    MatrixDataProcessor,\n",
    ")\n",
    "from graph2mat.bindings.torch import TorchBasisMatrixDataset, TorchBasisMatrixData\n",
    "\n",
    "from graph2mat.bindings.e3nn import E3nnGraph2Mat\n",
    "\n",
    "from graph2mat.tools.viz import plot_basis_matrix\n",
    "\n",
    "# The basis 6-31g\n",
    "hydrogen = PointBasis(\"H\", R=2, basis=\"2x0e\", basis_convention=\"spherical\")\n",
    "carbon = PointBasis(\"C\", R=5, basis=\"3x0e + 2x1o\", basis_convention=\"spherical\")\n",
    "basis_list = [hydrogen, carbon]\n",
    "\n",
    "# The basis table.\n",
    "table = BasisTableWithEdges([hydrogen, carbon])\n",
    "\n",
    "# The data processor.\n",
    "processor = MatrixDataProcessor(\n",
    "    basis_table=table, symmetric_matrix=True, sub_point_matrix=False\n",
    ")"
   ]
  },
  {
   "cell_type": "code",
   "execution_count": 12,
   "metadata": {},
   "outputs": [],
   "source": [
    "def prepare_config(atom_data, density_matrixes):\n",
    "# def prepare_config(atom_data):\n",
    "    configs = []\n",
    "    for i in range(len(atom_data)):\n",
    "        config = BasisConfiguration(\n",
    "            point_types = [\"C\", \"H\", \"H\", \"H\", \"H\"],\n",
    "            positions = get_atom_position_list(atom_data[i]),\n",
    "            basis = basis_list,\n",
    "            cell=np.eye(3) * 100,\n",
    "            pbc=(False, False, False),\n",
    "            matrix = np.array(density_matrixes[i])\n",
    "        )\n",
    "        configs.append(config)\n",
    "    return configs\n",
    "\n",
    "# configs = prepare_config(data['feature'])\n",
    "configs = prepare_config(data['feature'], data['target'])\n",
    "\n",
    "# dataset = TorchBasisMatrixDataset(configs, data_processor=processor)\n",
    "\n",
    "# data_example = dataset[0]\n",
    "\n",
    "# loader = DataLoader(dataset, batch_size=10, shuffle=True)\n",
    "\n",
    "# data_0 = next(iter(loader))"
   ]
  },
  {
   "cell_type": "code",
   "execution_count": 13,
   "metadata": {},
   "outputs": [],
   "source": [
    "# split the dataset into training and validation\n",
    "from sklearn.model_selection import train_test_split\n",
    "\n",
    "train_configs, val_configs = train_test_split(configs, test_size=0.25, random_state=56)\n",
    "\n",
    "# create the loaders\n",
    "\n",
    "train_dataset = TorchBasisMatrixDataset(train_configs, data_processor=processor)\n",
    "val_dataset = TorchBasisMatrixDataset(val_configs, data_processor=processor)\n",
    "\n",
    "train_loader = DataLoader(train_dataset, batch_size=6, shuffle=True)\n",
    "val_loader = DataLoader(val_dataset, batch_size=5, shuffle=True)\n",
    "\n",
    "data_example = train_dataset[0]\n",
    "data_0 = next(iter(train_loader))"
   ]
  },
  {
   "cell_type": "code",
   "execution_count": 14,
   "metadata": {},
   "outputs": [
    {
     "data": {
      "application/vnd.plotly.v1+json": {
       "config": {
        "plotlyServerURL": "https://plot.ly"
       },
       "data": [
        {
         "coloraxis": "coloraxis",
         "hovertemplate": "x: %{x}<br>y: %{y}<br>color: %{z}<extra></extra>",
         "name": "0",
         "texttemplate": "%{z:.2f}",
         "type": "heatmap",
         "xaxis": "x",
         "yaxis": "y",
         "z": [
          [
           2.0617929,
           -0.09590486,
           -0.18460637,
           0.0005847681,
           0.0010172984,
           0.0007179713,
           0.00045427214,
           -0.000050272054,
           -0.000012398283,
           -0.052682877,
           -0.007895716,
           -0.053631987,
           -0.008044059,
           -0.052171286,
           -0.0049969624,
           -0.051439304,
           -0.009080086
          ],
          [
           -0.09590486,
           0.2784062,
           0.2891924,
           -0.0016277512,
           -0.003345644,
           -0.0020741636,
           0.00019964874,
           -0.00028540898,
           -0.00018115813,
           0.09969524,
           0.026467958,
           0.10193347,
           0.02727005,
           0.098669864,
           0.021635363,
           0.09627661,
           0.027241811
          ],
          [
           -0.18460637,
           0.2891924,
           0.30417347,
           0.002709709,
           0.0034284706,
           0.0015417377,
           0.0024178538,
           0.0033904684,
           0.0017860681,
           0.10396456,
           0.027248794,
           0.104260996,
           0.02622601,
           0.1000524,
           0.019820344,
           0.10668891,
           0.03330994
          ],
          [
           0.0005847681,
           -0.0016277512,
           0.002709709,
           0.38025248,
           -0.002804822,
           -0.0003178574,
           0.19439368,
           -0.0046179695,
           0.0032216602,
           0.053069457,
           0.05758852,
           0.114059456,
           0.09594116,
           -0.26165512,
           -0.2166151,
           0.08496978,
           0.06918595
          ],
          [
           0.0010172984,
           -0.003345644,
           0.0034284706,
           -0.002804822,
           0.37109205,
           -0.00043676028,
           -0.0041079745,
           0.19874948,
           0.0018014712,
           -0.15849522,
           -0.13187584,
           -0.08783232,
           -0.0788876,
           0.009676624,
           0.017116388,
           0.23329611,
           0.19863893
          ],
          [
           0.0007179713,
           -0.0020741636,
           0.0015417377,
           -0.0003178574,
           -0.00043676028,
           0.37773627,
           0.0030785305,
           0.002028595,
           0.19347234,
           0.19783172,
           0.16160293,
           -0.21692854,
           -0.17355272,
           -0.035794996,
           -0.034509517,
           0.053429853,
           0.050048843
          ],
          [
           0.00045427214,
           0.00019964874,
           0.0024178538,
           0.19439368,
           -0.0041079745,
           0.0030785305,
           0.09942938,
           -0.0037679344,
           0.0032956235,
           0.030326422,
           0.031869747,
           0.057442483,
           0.048219107,
           -0.13377415,
           -0.11107085,
           0.04257403,
           0.034475
          ],
          [
           -0.000050272054,
           -0.00028540898,
           0.0033904684,
           -0.0046179695,
           0.19874948,
           0.002028595,
           -0.0037679344,
           0.10649344,
           0.0021007867,
           -0.08358999,
           -0.069984816,
           -0.048724435,
           -0.043929648,
           0.0076382393,
           0.010845353,
           0.1250961,
           0.106269136
          ],
          [
           -0.000012398283,
           -0.00018115813,
           0.0017860681,
           0.0032216602,
           0.0018014712,
           0.19347234,
           0.0032956235,
           0.0021007867,
           0.099138856,
           0.10125657,
           0.08264651,
           -0.110246256,
           -0.088386804,
           -0.020299718,
           -0.019450378,
           0.029741637,
           0.027448507
          ],
          [
           -0.052682877,
           0.09969524,
           0.10396456,
           0.053069457,
           -0.15849522,
           0.19783172,
           0.030326422,
           -0.08358999,
           0.10125657,
           0.21402247,
           0.1580031,
           -0.024451016,
           -0.034839742,
           -0.02364472,
           -0.04762184,
           -0.024064511,
           -0.038257696
          ],
          [
           -0.007895716,
           0.026467958,
           0.027248794,
           0.05758852,
           -0.13187584,
           0.16160293,
           0.031869747,
           -0.069984816,
           0.08264651,
           0.1580031,
           0.12684019,
           -0.035137225,
           -0.029510502,
           -0.048530485,
           -0.051165305,
           -0.03761722,
           -0.035736196
          ],
          [
           -0.053631987,
           0.10193347,
           0.104260996,
           0.114059456,
           -0.08783232,
           -0.21692854,
           0.057442483,
           -0.048724435,
           -0.110246256,
           -0.024451016,
           -0.035137225,
           0.21560617,
           0.15616176,
           -0.024304729,
           -0.0412695,
           -0.024328673,
           -0.04416268
          ],
          [
           -0.008044059,
           0.02727005,
           0.02622601,
           0.09594116,
           -0.0788876,
           -0.17355272,
           0.048219107,
           -0.043929648,
           -0.088386804,
           -0.034839742,
           -0.029510502,
           0.15616176,
           0.12286215,
           -0.042012274,
           -0.04005958,
           -0.043309487,
           -0.044865105
          ],
          [
           -0.052171286,
           0.098669864,
           0.1000524,
           -0.26165512,
           0.009676624,
           -0.035794996,
           -0.13377415,
           0.0076382393,
           -0.020299718,
           -0.02364472,
           -0.048530485,
           -0.024304729,
           -0.042012274,
           0.21789975,
           0.15989135,
           -0.023880702,
           -0.037886135
          ],
          [
           -0.0049969624,
           0.021635363,
           0.019820344,
           -0.2166151,
           0.017116388,
           -0.034509517,
           -0.11107085,
           0.010845353,
           -0.019450378,
           -0.04762184,
           -0.051165305,
           -0.0412695,
           -0.04005958,
           0.15989135,
           0.12876485,
           -0.03622854,
           -0.033506412
          ],
          [
           -0.051439304,
           0.09627661,
           0.10668891,
           0.08496978,
           0.23329611,
           0.053429853,
           0.04257403,
           0.1250961,
           0.029741637,
           -0.024064511,
           -0.03761722,
           -0.024328673,
           -0.043309487,
           -0.023880702,
           -0.03622854,
           0.20951898,
           0.15870649
          ],
          [
           -0.009080086,
           0.027241811,
           0.03330994,
           0.06918595,
           0.19863893,
           0.050048843,
           0.034475,
           0.106269136,
           0.027448507,
           -0.038257696,
           -0.035736196,
           -0.04416268,
           -0.044865105,
           -0.037886135,
           -0.033506412,
           0.15870649,
           0.12932971
          ]
         ]
        }
       ],
       "layout": {
        "coloraxis": {
         "cmid": 0,
         "colorscale": [
          [
           0,
           "rgb(103,0,31)"
          ],
          [
           0.1,
           "rgb(178,24,43)"
          ],
          [
           0.2,
           "rgb(214,96,77)"
          ],
          [
           0.3,
           "rgb(244,165,130)"
          ],
          [
           0.4,
           "rgb(253,219,199)"
          ],
          [
           0.5,
           "rgb(247,247,247)"
          ],
          [
           0.6,
           "rgb(209,229,240)"
          ],
          [
           0.7,
           "rgb(146,197,222)"
          ],
          [
           0.8,
           "rgb(67,147,195)"
          ],
          [
           0.9,
           "rgb(33,102,172)"
          ],
          [
           1,
           "rgb(5,48,97)"
          ]
         ]
        },
        "height": 600,
        "margin": {
         "t": 60
        },
        "shapes": [
         {
          "line": {
           "color": "#123456"
          },
          "type": "line",
          "x0": 0,
          "x1": 1,
          "xref": "x domain",
          "y0": 8.5,
          "y1": 8.5,
          "yref": "y"
         },
         {
          "line": {
           "color": "#123456"
          },
          "type": "line",
          "x0": 8.5,
          "x1": 8.5,
          "xref": "x",
          "y0": 0,
          "y1": 1,
          "yref": "y domain"
         },
         {
          "line": {
           "color": "#123456"
          },
          "type": "line",
          "x0": 0,
          "x1": 1,
          "xref": "x domain",
          "y0": 10.5,
          "y1": 10.5,
          "yref": "y"
         },
         {
          "line": {
           "color": "#123456"
          },
          "type": "line",
          "x0": 10.5,
          "x1": 10.5,
          "xref": "x",
          "y0": 0,
          "y1": 1,
          "yref": "y domain"
         },
         {
          "line": {
           "color": "#123456"
          },
          "type": "line",
          "x0": 0,
          "x1": 1,
          "xref": "x domain",
          "y0": 12.5,
          "y1": 12.5,
          "yref": "y"
         },
         {
          "line": {
           "color": "#123456"
          },
          "type": "line",
          "x0": 12.5,
          "x1": 12.5,
          "xref": "x",
          "y0": 0,
          "y1": 1,
          "yref": "y domain"
         },
         {
          "line": {
           "color": "#123456"
          },
          "type": "line",
          "x0": 0,
          "x1": 1,
          "xref": "x domain",
          "y0": 14.5,
          "y1": 14.5,
          "yref": "y"
         },
         {
          "line": {
           "color": "#123456"
          },
          "type": "line",
          "x0": 14.5,
          "x1": 14.5,
          "xref": "x",
          "y0": 0,
          "y1": 1,
          "yref": "y domain"
         },
         {
          "line": {
           "color": "#888888",
           "dash": "dot"
          },
          "type": "line",
          "x0": 0,
          "x1": 1,
          "xref": "x domain",
          "y0": 0.5,
          "y1": 0.5,
          "yref": "y"
         },
         {
          "line": {
           "color": "#888888",
           "dash": "dot"
          },
          "type": "line",
          "x0": 0.5,
          "x1": 0.5,
          "xref": "x",
          "y0": 0,
          "y1": 1,
          "yref": "y domain"
         },
         {
          "line": {
           "color": "#888888",
           "dash": "dot"
          },
          "type": "line",
          "x0": 0,
          "x1": 1,
          "xref": "x domain",
          "y0": 1.5,
          "y1": 1.5,
          "yref": "y"
         },
         {
          "line": {
           "color": "#888888",
           "dash": "dot"
          },
          "type": "line",
          "x0": 1.5,
          "x1": 1.5,
          "xref": "x",
          "y0": 0,
          "y1": 1,
          "yref": "y domain"
         },
         {
          "line": {
           "color": "#888888",
           "dash": "dot"
          },
          "type": "line",
          "x0": 0,
          "x1": 1,
          "xref": "x domain",
          "y0": 2.5,
          "y1": 2.5,
          "yref": "y"
         },
         {
          "line": {
           "color": "#888888",
           "dash": "dot"
          },
          "type": "line",
          "x0": 2.5,
          "x1": 2.5,
          "xref": "x",
          "y0": 0,
          "y1": 1,
          "yref": "y domain"
         },
         {
          "line": {
           "color": "#888888",
           "dash": "dot"
          },
          "type": "line",
          "x0": 0,
          "x1": 1,
          "xref": "x domain",
          "y0": 5.5,
          "y1": 5.5,
          "yref": "y"
         },
         {
          "line": {
           "color": "#888888",
           "dash": "dot"
          },
          "type": "line",
          "x0": 5.5,
          "x1": 5.5,
          "xref": "x",
          "y0": 0,
          "y1": 1,
          "yref": "y domain"
         },
         {
          "line": {
           "color": "#888888",
           "dash": "dot"
          },
          "type": "line",
          "x0": 0,
          "x1": 1,
          "xref": "x domain",
          "y0": 9.5,
          "y1": 9.5,
          "yref": "y"
         },
         {
          "line": {
           "color": "#888888",
           "dash": "dot"
          },
          "type": "line",
          "x0": 9.5,
          "x1": 9.5,
          "xref": "x",
          "y0": 0,
          "y1": 1,
          "yref": "y domain"
         },
         {
          "line": {
           "color": "#888888",
           "dash": "dot"
          },
          "type": "line",
          "x0": 0,
          "x1": 1,
          "xref": "x domain",
          "y0": 11.5,
          "y1": 11.5,
          "yref": "y"
         },
         {
          "line": {
           "color": "#888888",
           "dash": "dot"
          },
          "type": "line",
          "x0": 11.5,
          "x1": 11.5,
          "xref": "x",
          "y0": 0,
          "y1": 1,
          "yref": "y domain"
         },
         {
          "line": {
           "color": "#888888",
           "dash": "dot"
          },
          "type": "line",
          "x0": 0,
          "x1": 1,
          "xref": "x domain",
          "y0": 13.5,
          "y1": 13.5,
          "yref": "y"
         },
         {
          "line": {
           "color": "#888888",
           "dash": "dot"
          },
          "type": "line",
          "x0": 13.5,
          "x1": 13.5,
          "xref": "x",
          "y0": 0,
          "y1": 1,
          "yref": "y domain"
         },
         {
          "line": {
           "color": "#888888",
           "dash": "dot"
          },
          "type": "line",
          "x0": 0,
          "x1": 1,
          "xref": "x domain",
          "y0": 15.5,
          "y1": 15.5,
          "yref": "y"
         },
         {
          "line": {
           "color": "#888888",
           "dash": "dot"
          },
          "type": "line",
          "x0": 15.5,
          "x1": 15.5,
          "xref": "x",
          "y0": 0,
          "y1": 1,
          "yref": "y domain"
         }
        ],
        "template": {
         "data": {
          "bar": [
           {
            "error_x": {
             "color": "#2a3f5f"
            },
            "error_y": {
             "color": "#2a3f5f"
            },
            "marker": {
             "line": {
              "color": "#E5ECF6",
              "width": 0.5
             },
             "pattern": {
              "fillmode": "overlay",
              "size": 10,
              "solidity": 0.2
             }
            },
            "type": "bar"
           }
          ],
          "barpolar": [
           {
            "marker": {
             "line": {
              "color": "#E5ECF6",
              "width": 0.5
             },
             "pattern": {
              "fillmode": "overlay",
              "size": 10,
              "solidity": 0.2
             }
            },
            "type": "barpolar"
           }
          ],
          "carpet": [
           {
            "aaxis": {
             "endlinecolor": "#2a3f5f",
             "gridcolor": "white",
             "linecolor": "white",
             "minorgridcolor": "white",
             "startlinecolor": "#2a3f5f"
            },
            "baxis": {
             "endlinecolor": "#2a3f5f",
             "gridcolor": "white",
             "linecolor": "white",
             "minorgridcolor": "white",
             "startlinecolor": "#2a3f5f"
            },
            "type": "carpet"
           }
          ],
          "choropleth": [
           {
            "colorbar": {
             "outlinewidth": 0,
             "ticks": ""
            },
            "type": "choropleth"
           }
          ],
          "contour": [
           {
            "colorbar": {
             "outlinewidth": 0,
             "ticks": ""
            },
            "colorscale": [
             [
              0,
              "#0d0887"
             ],
             [
              0.1111111111111111,
              "#46039f"
             ],
             [
              0.2222222222222222,
              "#7201a8"
             ],
             [
              0.3333333333333333,
              "#9c179e"
             ],
             [
              0.4444444444444444,
              "#bd3786"
             ],
             [
              0.5555555555555556,
              "#d8576b"
             ],
             [
              0.6666666666666666,
              "#ed7953"
             ],
             [
              0.7777777777777778,
              "#fb9f3a"
             ],
             [
              0.8888888888888888,
              "#fdca26"
             ],
             [
              1,
              "#f0f921"
             ]
            ],
            "type": "contour"
           }
          ],
          "contourcarpet": [
           {
            "colorbar": {
             "outlinewidth": 0,
             "ticks": ""
            },
            "type": "contourcarpet"
           }
          ],
          "heatmap": [
           {
            "colorbar": {
             "outlinewidth": 0,
             "ticks": ""
            },
            "colorscale": [
             [
              0,
              "#0d0887"
             ],
             [
              0.1111111111111111,
              "#46039f"
             ],
             [
              0.2222222222222222,
              "#7201a8"
             ],
             [
              0.3333333333333333,
              "#9c179e"
             ],
             [
              0.4444444444444444,
              "#bd3786"
             ],
             [
              0.5555555555555556,
              "#d8576b"
             ],
             [
              0.6666666666666666,
              "#ed7953"
             ],
             [
              0.7777777777777778,
              "#fb9f3a"
             ],
             [
              0.8888888888888888,
              "#fdca26"
             ],
             [
              1,
              "#f0f921"
             ]
            ],
            "type": "heatmap"
           }
          ],
          "heatmapgl": [
           {
            "colorbar": {
             "outlinewidth": 0,
             "ticks": ""
            },
            "colorscale": [
             [
              0,
              "#0d0887"
             ],
             [
              0.1111111111111111,
              "#46039f"
             ],
             [
              0.2222222222222222,
              "#7201a8"
             ],
             [
              0.3333333333333333,
              "#9c179e"
             ],
             [
              0.4444444444444444,
              "#bd3786"
             ],
             [
              0.5555555555555556,
              "#d8576b"
             ],
             [
              0.6666666666666666,
              "#ed7953"
             ],
             [
              0.7777777777777778,
              "#fb9f3a"
             ],
             [
              0.8888888888888888,
              "#fdca26"
             ],
             [
              1,
              "#f0f921"
             ]
            ],
            "type": "heatmapgl"
           }
          ],
          "histogram": [
           {
            "marker": {
             "pattern": {
              "fillmode": "overlay",
              "size": 10,
              "solidity": 0.2
             }
            },
            "type": "histogram"
           }
          ],
          "histogram2d": [
           {
            "colorbar": {
             "outlinewidth": 0,
             "ticks": ""
            },
            "colorscale": [
             [
              0,
              "#0d0887"
             ],
             [
              0.1111111111111111,
              "#46039f"
             ],
             [
              0.2222222222222222,
              "#7201a8"
             ],
             [
              0.3333333333333333,
              "#9c179e"
             ],
             [
              0.4444444444444444,
              "#bd3786"
             ],
             [
              0.5555555555555556,
              "#d8576b"
             ],
             [
              0.6666666666666666,
              "#ed7953"
             ],
             [
              0.7777777777777778,
              "#fb9f3a"
             ],
             [
              0.8888888888888888,
              "#fdca26"
             ],
             [
              1,
              "#f0f921"
             ]
            ],
            "type": "histogram2d"
           }
          ],
          "histogram2dcontour": [
           {
            "colorbar": {
             "outlinewidth": 0,
             "ticks": ""
            },
            "colorscale": [
             [
              0,
              "#0d0887"
             ],
             [
              0.1111111111111111,
              "#46039f"
             ],
             [
              0.2222222222222222,
              "#7201a8"
             ],
             [
              0.3333333333333333,
              "#9c179e"
             ],
             [
              0.4444444444444444,
              "#bd3786"
             ],
             [
              0.5555555555555556,
              "#d8576b"
             ],
             [
              0.6666666666666666,
              "#ed7953"
             ],
             [
              0.7777777777777778,
              "#fb9f3a"
             ],
             [
              0.8888888888888888,
              "#fdca26"
             ],
             [
              1,
              "#f0f921"
             ]
            ],
            "type": "histogram2dcontour"
           }
          ],
          "mesh3d": [
           {
            "colorbar": {
             "outlinewidth": 0,
             "ticks": ""
            },
            "type": "mesh3d"
           }
          ],
          "parcoords": [
           {
            "line": {
             "colorbar": {
              "outlinewidth": 0,
              "ticks": ""
             }
            },
            "type": "parcoords"
           }
          ],
          "pie": [
           {
            "automargin": true,
            "type": "pie"
           }
          ],
          "scatter": [
           {
            "fillpattern": {
             "fillmode": "overlay",
             "size": 10,
             "solidity": 0.2
            },
            "type": "scatter"
           }
          ],
          "scatter3d": [
           {
            "line": {
             "colorbar": {
              "outlinewidth": 0,
              "ticks": ""
             }
            },
            "marker": {
             "colorbar": {
              "outlinewidth": 0,
              "ticks": ""
             }
            },
            "type": "scatter3d"
           }
          ],
          "scattercarpet": [
           {
            "marker": {
             "colorbar": {
              "outlinewidth": 0,
              "ticks": ""
             }
            },
            "type": "scattercarpet"
           }
          ],
          "scattergeo": [
           {
            "marker": {
             "colorbar": {
              "outlinewidth": 0,
              "ticks": ""
             }
            },
            "type": "scattergeo"
           }
          ],
          "scattergl": [
           {
            "marker": {
             "colorbar": {
              "outlinewidth": 0,
              "ticks": ""
             }
            },
            "type": "scattergl"
           }
          ],
          "scattermapbox": [
           {
            "marker": {
             "colorbar": {
              "outlinewidth": 0,
              "ticks": ""
             }
            },
            "type": "scattermapbox"
           }
          ],
          "scatterpolar": [
           {
            "marker": {
             "colorbar": {
              "outlinewidth": 0,
              "ticks": ""
             }
            },
            "type": "scatterpolar"
           }
          ],
          "scatterpolargl": [
           {
            "marker": {
             "colorbar": {
              "outlinewidth": 0,
              "ticks": ""
             }
            },
            "type": "scatterpolargl"
           }
          ],
          "scatterternary": [
           {
            "marker": {
             "colorbar": {
              "outlinewidth": 0,
              "ticks": ""
             }
            },
            "type": "scatterternary"
           }
          ],
          "surface": [
           {
            "colorbar": {
             "outlinewidth": 0,
             "ticks": ""
            },
            "colorscale": [
             [
              0,
              "#0d0887"
             ],
             [
              0.1111111111111111,
              "#46039f"
             ],
             [
              0.2222222222222222,
              "#7201a8"
             ],
             [
              0.3333333333333333,
              "#9c179e"
             ],
             [
              0.4444444444444444,
              "#bd3786"
             ],
             [
              0.5555555555555556,
              "#d8576b"
             ],
             [
              0.6666666666666666,
              "#ed7953"
             ],
             [
              0.7777777777777778,
              "#fb9f3a"
             ],
             [
              0.8888888888888888,
              "#fdca26"
             ],
             [
              1,
              "#f0f921"
             ]
            ],
            "type": "surface"
           }
          ],
          "table": [
           {
            "cells": {
             "fill": {
              "color": "#EBF0F8"
             },
             "line": {
              "color": "white"
             }
            },
            "header": {
             "fill": {
              "color": "#C8D4E3"
             },
             "line": {
              "color": "white"
             }
            },
            "type": "table"
           }
          ]
         },
         "layout": {
          "annotationdefaults": {
           "arrowcolor": "#2a3f5f",
           "arrowhead": 0,
           "arrowwidth": 1
          },
          "autotypenumbers": "strict",
          "coloraxis": {
           "colorbar": {
            "outlinewidth": 0,
            "ticks": ""
           }
          },
          "colorscale": {
           "diverging": [
            [
             0,
             "#8e0152"
            ],
            [
             0.1,
             "#c51b7d"
            ],
            [
             0.2,
             "#de77ae"
            ],
            [
             0.3,
             "#f1b6da"
            ],
            [
             0.4,
             "#fde0ef"
            ],
            [
             0.5,
             "#f7f7f7"
            ],
            [
             0.6,
             "#e6f5d0"
            ],
            [
             0.7,
             "#b8e186"
            ],
            [
             0.8,
             "#7fbc41"
            ],
            [
             0.9,
             "#4d9221"
            ],
            [
             1,
             "#276419"
            ]
           ],
           "sequential": [
            [
             0,
             "#0d0887"
            ],
            [
             0.1111111111111111,
             "#46039f"
            ],
            [
             0.2222222222222222,
             "#7201a8"
            ],
            [
             0.3333333333333333,
             "#9c179e"
            ],
            [
             0.4444444444444444,
             "#bd3786"
            ],
            [
             0.5555555555555556,
             "#d8576b"
            ],
            [
             0.6666666666666666,
             "#ed7953"
            ],
            [
             0.7777777777777778,
             "#fb9f3a"
            ],
            [
             0.8888888888888888,
             "#fdca26"
            ],
            [
             1,
             "#f0f921"
            ]
           ],
           "sequentialminus": [
            [
             0,
             "#0d0887"
            ],
            [
             0.1111111111111111,
             "#46039f"
            ],
            [
             0.2222222222222222,
             "#7201a8"
            ],
            [
             0.3333333333333333,
             "#9c179e"
            ],
            [
             0.4444444444444444,
             "#bd3786"
            ],
            [
             0.5555555555555556,
             "#d8576b"
            ],
            [
             0.6666666666666666,
             "#ed7953"
            ],
            [
             0.7777777777777778,
             "#fb9f3a"
            ],
            [
             0.8888888888888888,
             "#fdca26"
            ],
            [
             1,
             "#f0f921"
            ]
           ]
          },
          "colorway": [
           "#636efa",
           "#EF553B",
           "#00cc96",
           "#ab63fa",
           "#FFA15A",
           "#19d3f3",
           "#FF6692",
           "#B6E880",
           "#FF97FF",
           "#FECB52"
          ],
          "font": {
           "color": "#2a3f5f"
          },
          "geo": {
           "bgcolor": "white",
           "lakecolor": "white",
           "landcolor": "#E5ECF6",
           "showlakes": true,
           "showland": true,
           "subunitcolor": "white"
          },
          "hoverlabel": {
           "align": "left"
          },
          "hovermode": "closest",
          "mapbox": {
           "style": "light"
          },
          "paper_bgcolor": "white",
          "plot_bgcolor": "#E5ECF6",
          "polar": {
           "angularaxis": {
            "gridcolor": "white",
            "linecolor": "white",
            "ticks": ""
           },
           "bgcolor": "#E5ECF6",
           "radialaxis": {
            "gridcolor": "white",
            "linecolor": "white",
            "ticks": ""
           }
          },
          "scene": {
           "xaxis": {
            "backgroundcolor": "#E5ECF6",
            "gridcolor": "white",
            "gridwidth": 2,
            "linecolor": "white",
            "showbackground": true,
            "ticks": "",
            "zerolinecolor": "white"
           },
           "yaxis": {
            "backgroundcolor": "#E5ECF6",
            "gridcolor": "white",
            "gridwidth": 2,
            "linecolor": "white",
            "showbackground": true,
            "ticks": "",
            "zerolinecolor": "white"
           },
           "zaxis": {
            "backgroundcolor": "#E5ECF6",
            "gridcolor": "white",
            "gridwidth": 2,
            "linecolor": "white",
            "showbackground": true,
            "ticks": "",
            "zerolinecolor": "white"
           }
          },
          "shapedefaults": {
           "line": {
            "color": "#2a3f5f"
           }
          },
          "ternary": {
           "aaxis": {
            "gridcolor": "white",
            "linecolor": "white",
            "ticks": ""
           },
           "baxis": {
            "gridcolor": "white",
            "linecolor": "white",
            "ticks": ""
           },
           "bgcolor": "#E5ECF6",
           "caxis": {
            "gridcolor": "white",
            "linecolor": "white",
            "ticks": ""
           }
          },
          "title": {
           "x": 0.05
          },
          "xaxis": {
           "automargin": true,
           "gridcolor": "white",
           "linecolor": "white",
           "ticks": "",
           "title": {
            "standoff": 15
           },
           "zerolinecolor": "white",
           "zerolinewidth": 2
          },
          "yaxis": {
           "automargin": true,
           "gridcolor": "white",
           "linecolor": "white",
           "ticks": "",
           "title": {
            "standoff": 15
           },
           "zerolinecolor": "white",
           "zerolinewidth": 2
          }
         }
        },
        "title": {
         "text": "Example [0]"
        },
        "width": 600,
        "xaxis": {
         "anchor": "y",
         "constrain": "domain",
         "domain": [
          0,
          1
         ],
         "scaleanchor": "y",
         "ticktext": [
          "0: (0, 0)",
          "0: (0, 0)",
          "0: (0, 0)",
          "0: (1, -1)",
          "0: (1, 0)",
          "0: (1, 1)",
          "0: (1, -1)",
          "0: (1, 0)",
          "0: (1, 1)",
          "1: (0, 0)",
          "1: (0, 0)",
          "2: (0, 0)",
          "2: (0, 0)",
          "3: (0, 0)",
          "3: (0, 0)",
          "4: (0, 0)",
          "4: (0, 0)"
         ],
         "tickvals": [
          0,
          1,
          2,
          3,
          4,
          5,
          6,
          7,
          8,
          9,
          10,
          11,
          12,
          13,
          14,
          15,
          16
         ]
        },
        "yaxis": {
         "anchor": "x",
         "autorange": "reversed",
         "constrain": "domain",
         "domain": [
          0,
          1
         ],
         "ticktext": [
          "0: (0, 0)",
          "0: (0, 0)",
          "0: (0, 0)",
          "0: (1, -1)",
          "0: (1, 0)",
          "0: (1, 1)",
          "0: (1, -1)",
          "0: (1, 0)",
          "0: (1, 1)",
          "1: (0, 0)",
          "1: (0, 0)",
          "2: (0, 0)",
          "2: (0, 0)",
          "3: (0, 0)",
          "3: (0, 0)",
          "4: (0, 0)",
          "4: (0, 0)"
         ],
         "tickvals": [
          0,
          1,
          2,
          3,
          4,
          5,
          6,
          7,
          8,
          9,
          10,
          11,
          12,
          13,
          14,
          15,
          16
         ]
        }
       }
      }
     },
     "metadata": {},
     "output_type": "display_data"
    }
   ],
   "source": [
    "def plot_matrices(data, predictions=None, title=\"\", show=True):\n",
    "    \"\"\"Helper function to plot (possibly batched) matrices\"\"\"\n",
    "\n",
    "    matrices = processor.matrix_from_data(data, predictions=predictions)\n",
    "\n",
    "    if not isinstance(matrices, (tuple, list)):\n",
    "        matrices = (matrices,)\n",
    "\n",
    "    for i, (config, matrix) in enumerate(zip(configs, matrices)):\n",
    "        if show is True or show == i:\n",
    "            plot_basis_matrix(\n",
    "                matrix,\n",
    "                config,\n",
    "                point_lines={\"color\": \"#123456\"},\n",
    "                basis_lines={\"color\": \"#888888\"},\n",
    "                colorscale=\"RdBu\",\n",
    "                text=\".2f\",\n",
    "                basis_labels=True,\n",
    "            ).update_layout(title=f\"{title} [{i}]\", width=600, height=600).show()\n",
    "            \n",
    "plot_matrices(data_example, title=\"Example\")"
   ]
  },
  {
   "cell_type": "code",
   "execution_count": 6,
   "metadata": {},
   "outputs": [
    {
     "name": "stderr",
     "output_type": "stream",
     "text": [
      "/Users/royalty/miniconda3/lib/python3.11/site-packages/torch/jit/_check.py:177: UserWarning:\n",
      "\n",
      "The TorchScript type system doesn't support instance-level annotations on empty non-base types in `__init__`. Instead, either 1) use a type annotation in the class body, or 2) wrap the type in `torch.jit.Attribute`.\n",
      "\n",
      "/Users/royalty/miniconda3/lib/python3.11/site-packages/mace/modules/blocks.py:140: UserWarning:\n",
      "\n",
      "To copy construct from a tensor, it is recommended to use sourceTensor.clone().detach() or sourceTensor.clone().detach().requires_grad_(True), rather than torch.tensor(sourceTensor).\n",
      "\n",
      "/Users/royalty/miniconda3/lib/python3.11/site-packages/torch/jit/_check.py:177: UserWarning:\n",
      "\n",
      "The TorchScript type system doesn't support instance-level annotations on empty non-base types in `__init__`. Instead, either 1) use a type annotation in the class body, or 2) wrap the type in `torch.jit.Attribute`.\n",
      "\n",
      "/Users/royalty/miniconda3/lib/python3.11/site-packages/torch/jit/_check.py:177: UserWarning:\n",
      "\n",
      "The TorchScript type system doesn't support instance-level annotations on empty non-base types in `__init__`. Instead, either 1) use a type annotation in the class body, or 2) wrap the type in `torch.jit.Attribute`.\n",
      "\n",
      "/Users/royalty/miniconda3/lib/python3.11/site-packages/torch/jit/_check.py:177: UserWarning:\n",
      "\n",
      "The TorchScript type system doesn't support instance-level annotations on empty non-base types in `__init__`. Instead, either 1) use a type annotation in the class body, or 2) wrap the type in `torch.jit.Attribute`.\n",
      "\n",
      "/Users/royalty/miniconda3/lib/python3.11/site-packages/torch/jit/_check.py:177: UserWarning:\n",
      "\n",
      "The TorchScript type system doesn't support instance-level annotations on empty non-base types in `__init__`. Instead, either 1) use a type annotation in the class body, or 2) wrap the type in `torch.jit.Attribute`.\n",
      "\n",
      "/Users/royalty/miniconda3/lib/python3.11/site-packages/torch/jit/_check.py:177: UserWarning:\n",
      "\n",
      "The TorchScript type system doesn't support instance-level annotations on empty non-base types in `__init__`. Instead, either 1) use a type annotation in the class body, or 2) wrap the type in `torch.jit.Attribute`.\n",
      "\n",
      "/Users/royalty/miniconda3/lib/python3.11/site-packages/torch/jit/_check.py:177: UserWarning:\n",
      "\n",
      "The TorchScript type system doesn't support instance-level annotations on empty non-base types in `__init__`. Instead, either 1) use a type annotation in the class body, or 2) wrap the type in `torch.jit.Attribute`.\n",
      "\n",
      "/Users/royalty/miniconda3/lib/python3.11/site-packages/torch/jit/_check.py:177: UserWarning:\n",
      "\n",
      "The TorchScript type system doesn't support instance-level annotations on empty non-base types in `__init__`. Instead, either 1) use a type annotation in the class body, or 2) wrap the type in `torch.jit.Attribute`.\n",
      "\n",
      "/Users/royalty/miniconda3/lib/python3.11/site-packages/torch/jit/_check.py:177: UserWarning:\n",
      "\n",
      "The TorchScript type system doesn't support instance-level annotations on empty non-base types in `__init__`. Instead, either 1) use a type annotation in the class body, or 2) wrap the type in `torch.jit.Attribute`.\n",
      "\n",
      "/Users/royalty/miniconda3/lib/python3.11/site-packages/torch/jit/_check.py:177: UserWarning:\n",
      "\n",
      "The TorchScript type system doesn't support instance-level annotations on empty non-base types in `__init__`. Instead, either 1) use a type annotation in the class body, or 2) wrap the type in `torch.jit.Attribute`.\n",
      "\n",
      "/Users/royalty/miniconda3/lib/python3.11/site-packages/torch/jit/_check.py:177: UserWarning:\n",
      "\n",
      "The TorchScript type system doesn't support instance-level annotations on empty non-base types in `__init__`. Instead, either 1) use a type annotation in the class body, or 2) wrap the type in `torch.jit.Attribute`.\n",
      "\n",
      "/Users/royalty/miniconda3/lib/python3.11/site-packages/torch/jit/_check.py:177: UserWarning:\n",
      "\n",
      "The TorchScript type system doesn't support instance-level annotations on empty non-base types in `__init__`. Instead, either 1) use a type annotation in the class body, or 2) wrap the type in `torch.jit.Attribute`.\n",
      "\n",
      "/Users/royalty/miniconda3/lib/python3.11/site-packages/torch/jit/_check.py:177: UserWarning:\n",
      "\n",
      "The TorchScript type system doesn't support instance-level annotations on empty non-base types in `__init__`. Instead, either 1) use a type annotation in the class body, or 2) wrap the type in `torch.jit.Attribute`.\n",
      "\n",
      "/Users/royalty/miniconda3/lib/python3.11/site-packages/torch/jit/_check.py:177: UserWarning:\n",
      "\n",
      "The TorchScript type system doesn't support instance-level annotations on empty non-base types in `__init__`. Instead, either 1) use a type annotation in the class body, or 2) wrap the type in `torch.jit.Attribute`.\n",
      "\n",
      "/Users/royalty/miniconda3/lib/python3.11/site-packages/torch/jit/_check.py:177: UserWarning:\n",
      "\n",
      "The TorchScript type system doesn't support instance-level annotations on empty non-base types in `__init__`. Instead, either 1) use a type annotation in the class body, or 2) wrap the type in `torch.jit.Attribute`.\n",
      "\n",
      "/Users/royalty/miniconda3/lib/python3.11/site-packages/torch/jit/_check.py:177: UserWarning:\n",
      "\n",
      "The TorchScript type system doesn't support instance-level annotations on empty non-base types in `__init__`. Instead, either 1) use a type annotation in the class body, or 2) wrap the type in `torch.jit.Attribute`.\n",
      "\n",
      "/Users/royalty/miniconda3/lib/python3.11/site-packages/torch/jit/_check.py:177: UserWarning:\n",
      "\n",
      "The TorchScript type system doesn't support instance-level annotations on empty non-base types in `__init__`. Instead, either 1) use a type annotation in the class body, or 2) wrap the type in `torch.jit.Attribute`.\n",
      "\n",
      "/Users/royalty/miniconda3/lib/python3.11/site-packages/torch/jit/_check.py:177: UserWarning:\n",
      "\n",
      "The TorchScript type system doesn't support instance-level annotations on empty non-base types in `__init__`. Instead, either 1) use a type annotation in the class body, or 2) wrap the type in `torch.jit.Attribute`.\n",
      "\n",
      "/Users/royalty/miniconda3/lib/python3.11/site-packages/torch/jit/_check.py:177: UserWarning:\n",
      "\n",
      "The TorchScript type system doesn't support instance-level annotations on empty non-base types in `__init__`. Instead, either 1) use a type annotation in the class body, or 2) wrap the type in `torch.jit.Attribute`.\n",
      "\n",
      "/Users/royalty/miniconda3/lib/python3.11/site-packages/torch/jit/_check.py:177: UserWarning:\n",
      "\n",
      "The TorchScript type system doesn't support instance-level annotations on empty non-base types in `__init__`. Instead, either 1) use a type annotation in the class body, or 2) wrap the type in `torch.jit.Attribute`.\n",
      "\n"
     ]
    }
   ],
   "source": [
    "from mace.modules import MACE, RealAgnosticResidualInteractionBlock\n",
    "\n",
    "num_interactions = 3\n",
    "hidden_irreps = o3.Irreps(\"1x0e + 1x1o\")\n",
    "\n",
    "mace_model = MACE(\n",
    "    r_max=10,\n",
    "    num_bessel=10,\n",
    "    num_polynomial_cutoff=10,\n",
    "    max_ell=2,  # 1,\n",
    "    interaction_cls=RealAgnosticResidualInteractionBlock,\n",
    "    interaction_cls_first=RealAgnosticResidualInteractionBlock,\n",
    "    num_interactions=num_interactions,\n",
    "    num_elements=2,\n",
    "    hidden_irreps=hidden_irreps,\n",
    "    MLP_irreps=o3.Irreps(\"2x0e\"),\n",
    "    atomic_energies=torch.tensor([0, 0]),\n",
    "    avg_num_neighbors=2,\n",
    "    atomic_numbers=[0, 1],\n",
    "    correlation=2,\n",
    "    gate=None,\n",
    ")"
   ]
  },
  {
   "cell_type": "code",
   "execution_count": 7,
   "metadata": {},
   "outputs": [
    {
     "name": "stderr",
     "output_type": "stream",
     "text": [
      "/Users/royalty/miniconda3/lib/python3.11/site-packages/torch/jit/_check.py:177: UserWarning:\n",
      "\n",
      "The TorchScript type system doesn't support instance-level annotations on empty non-base types in `__init__`. Instead, either 1) use a type annotation in the class body, or 2) wrap the type in `torch.jit.Attribute`.\n",
      "\n",
      "/Users/royalty/miniconda3/lib/python3.11/site-packages/torch/jit/_check.py:177: UserWarning:\n",
      "\n",
      "The TorchScript type system doesn't support instance-level annotations on empty non-base types in `__init__`. Instead, either 1) use a type annotation in the class body, or 2) wrap the type in `torch.jit.Attribute`.\n",
      "\n",
      "/Users/royalty/miniconda3/lib/python3.11/site-packages/torch/jit/_check.py:177: UserWarning:\n",
      "\n",
      "The TorchScript type system doesn't support instance-level annotations on empty non-base types in `__init__`. Instead, either 1) use a type annotation in the class body, or 2) wrap the type in `torch.jit.Attribute`.\n",
      "\n",
      "/Users/royalty/miniconda3/lib/python3.11/site-packages/torch/jit/_check.py:177: UserWarning:\n",
      "\n",
      "The TorchScript type system doesn't support instance-level annotations on empty non-base types in `__init__`. Instead, either 1) use a type annotation in the class body, or 2) wrap the type in `torch.jit.Attribute`.\n",
      "\n",
      "/Users/royalty/miniconda3/lib/python3.11/site-packages/torch/jit/_check.py:177: UserWarning:\n",
      "\n",
      "The TorchScript type system doesn't support instance-level annotations on empty non-base types in `__init__`. Instead, either 1) use a type annotation in the class body, or 2) wrap the type in `torch.jit.Attribute`.\n",
      "\n",
      "/Users/royalty/miniconda3/lib/python3.11/site-packages/torch/jit/_check.py:177: UserWarning:\n",
      "\n",
      "The TorchScript type system doesn't support instance-level annotations on empty non-base types in `__init__`. Instead, either 1) use a type annotation in the class body, or 2) wrap the type in `torch.jit.Attribute`.\n",
      "\n",
      "/Users/royalty/miniconda3/lib/python3.11/site-packages/torch/jit/_check.py:177: UserWarning:\n",
      "\n",
      "The TorchScript type system doesn't support instance-level annotations on empty non-base types in `__init__`. Instead, either 1) use a type annotation in the class body, or 2) wrap the type in `torch.jit.Attribute`.\n",
      "\n",
      "/Users/royalty/miniconda3/lib/python3.11/site-packages/torch/jit/_check.py:177: UserWarning:\n",
      "\n",
      "The TorchScript type system doesn't support instance-level annotations on empty non-base types in `__init__`. Instead, either 1) use a type annotation in the class body, or 2) wrap the type in `torch.jit.Attribute`.\n",
      "\n",
      "/Users/royalty/miniconda3/lib/python3.11/site-packages/torch/jit/_check.py:177: UserWarning:\n",
      "\n",
      "The TorchScript type system doesn't support instance-level annotations on empty non-base types in `__init__`. Instead, either 1) use a type annotation in the class body, or 2) wrap the type in `torch.jit.Attribute`.\n",
      "\n",
      "/Users/royalty/miniconda3/lib/python3.11/site-packages/torch/jit/_check.py:177: UserWarning:\n",
      "\n",
      "The TorchScript type system doesn't support instance-level annotations on empty non-base types in `__init__`. Instead, either 1) use a type annotation in the class body, or 2) wrap the type in `torch.jit.Attribute`.\n",
      "\n",
      "/Users/royalty/miniconda3/lib/python3.11/site-packages/torch/jit/_check.py:177: UserWarning:\n",
      "\n",
      "The TorchScript type system doesn't support instance-level annotations on empty non-base types in `__init__`. Instead, either 1) use a type annotation in the class body, or 2) wrap the type in `torch.jit.Attribute`.\n",
      "\n",
      "/Users/royalty/miniconda3/lib/python3.11/site-packages/torch/jit/_check.py:177: UserWarning:\n",
      "\n",
      "The TorchScript type system doesn't support instance-level annotations on empty non-base types in `__init__`. Instead, either 1) use a type annotation in the class body, or 2) wrap the type in `torch.jit.Attribute`.\n",
      "\n",
      "/Users/royalty/miniconda3/lib/python3.11/site-packages/torch/jit/_check.py:177: UserWarning:\n",
      "\n",
      "The TorchScript type system doesn't support instance-level annotations on empty non-base types in `__init__`. Instead, either 1) use a type annotation in the class body, or 2) wrap the type in `torch.jit.Attribute`.\n",
      "\n",
      "/Users/royalty/miniconda3/lib/python3.11/site-packages/torch/jit/_check.py:177: UserWarning:\n",
      "\n",
      "The TorchScript type system doesn't support instance-level annotations on empty non-base types in `__init__`. Instead, either 1) use a type annotation in the class body, or 2) wrap the type in `torch.jit.Attribute`.\n",
      "\n",
      "/Users/royalty/miniconda3/lib/python3.11/site-packages/torch/jit/_check.py:177: UserWarning:\n",
      "\n",
      "The TorchScript type system doesn't support instance-level annotations on empty non-base types in `__init__`. Instead, either 1) use a type annotation in the class body, or 2) wrap the type in `torch.jit.Attribute`.\n",
      "\n",
      "/Users/royalty/miniconda3/lib/python3.11/site-packages/torch/jit/_check.py:177: UserWarning:\n",
      "\n",
      "The TorchScript type system doesn't support instance-level annotations on empty non-base types in `__init__`. Instead, either 1) use a type annotation in the class body, or 2) wrap the type in `torch.jit.Attribute`.\n",
      "\n",
      "/Users/royalty/miniconda3/lib/python3.11/site-packages/torch/jit/_check.py:177: UserWarning:\n",
      "\n",
      "The TorchScript type system doesn't support instance-level annotations on empty non-base types in `__init__`. Instead, either 1) use a type annotation in the class body, or 2) wrap the type in `torch.jit.Attribute`.\n",
      "\n",
      "/Users/royalty/miniconda3/lib/python3.11/site-packages/torch/jit/_check.py:177: UserWarning:\n",
      "\n",
      "The TorchScript type system doesn't support instance-level annotations on empty non-base types in `__init__`. Instead, either 1) use a type annotation in the class body, or 2) wrap the type in `torch.jit.Attribute`.\n",
      "\n",
      "/Users/royalty/miniconda3/lib/python3.11/site-packages/torch/jit/_check.py:177: UserWarning:\n",
      "\n",
      "The TorchScript type system doesn't support instance-level annotations on empty non-base types in `__init__`. Instead, either 1) use a type annotation in the class body, or 2) wrap the type in `torch.jit.Attribute`.\n",
      "\n",
      "/Users/royalty/miniconda3/lib/python3.11/site-packages/torch/jit/_check.py:177: UserWarning:\n",
      "\n",
      "The TorchScript type system doesn't support instance-level annotations on empty non-base types in `__init__`. Instead, either 1) use a type annotation in the class body, or 2) wrap the type in `torch.jit.Attribute`.\n",
      "\n",
      "/Users/royalty/miniconda3/lib/python3.11/site-packages/torch/jit/_check.py:177: UserWarning:\n",
      "\n",
      "The TorchScript type system doesn't support instance-level annotations on empty non-base types in `__init__`. Instead, either 1) use a type annotation in the class body, or 2) wrap the type in `torch.jit.Attribute`.\n",
      "\n",
      "/Users/royalty/miniconda3/lib/python3.11/site-packages/torch/jit/_check.py:177: UserWarning:\n",
      "\n",
      "The TorchScript type system doesn't support instance-level annotations on empty non-base types in `__init__`. Instead, either 1) use a type annotation in the class body, or 2) wrap the type in `torch.jit.Attribute`.\n",
      "\n",
      "/Users/royalty/miniconda3/lib/python3.11/site-packages/torch/jit/_check.py:177: UserWarning:\n",
      "\n",
      "The TorchScript type system doesn't support instance-level annotations on empty non-base types in `__init__`. Instead, either 1) use a type annotation in the class body, or 2) wrap the type in `torch.jit.Attribute`.\n",
      "\n",
      "/Users/royalty/miniconda3/lib/python3.11/site-packages/torch/jit/_check.py:177: UserWarning:\n",
      "\n",
      "The TorchScript type system doesn't support instance-level annotations on empty non-base types in `__init__`. Instead, either 1) use a type annotation in the class body, or 2) wrap the type in `torch.jit.Attribute`.\n",
      "\n",
      "/Users/royalty/miniconda3/lib/python3.11/site-packages/torch/jit/_check.py:177: UserWarning:\n",
      "\n",
      "The TorchScript type system doesn't support instance-level annotations on empty non-base types in `__init__`. Instead, either 1) use a type annotation in the class body, or 2) wrap the type in `torch.jit.Attribute`.\n",
      "\n",
      "/Users/royalty/miniconda3/lib/python3.11/site-packages/torch/jit/_check.py:177: UserWarning:\n",
      "\n",
      "The TorchScript type system doesn't support instance-level annotations on empty non-base types in `__init__`. Instead, either 1) use a type annotation in the class body, or 2) wrap the type in `torch.jit.Attribute`.\n",
      "\n",
      "/Users/royalty/miniconda3/lib/python3.11/site-packages/torch/jit/_check.py:177: UserWarning:\n",
      "\n",
      "The TorchScript type system doesn't support instance-level annotations on empty non-base types in `__init__`. Instead, either 1) use a type annotation in the class body, or 2) wrap the type in `torch.jit.Attribute`.\n",
      "\n",
      "/Users/royalty/miniconda3/lib/python3.11/site-packages/torch/jit/_check.py:177: UserWarning:\n",
      "\n",
      "The TorchScript type system doesn't support instance-level annotations on empty non-base types in `__init__`. Instead, either 1) use a type annotation in the class body, or 2) wrap the type in `torch.jit.Attribute`.\n",
      "\n",
      "/Users/royalty/miniconda3/lib/python3.11/site-packages/torch/jit/_check.py:177: UserWarning:\n",
      "\n",
      "The TorchScript type system doesn't support instance-level annotations on empty non-base types in `__init__`. Instead, either 1) use a type annotation in the class body, or 2) wrap the type in `torch.jit.Attribute`.\n",
      "\n",
      "/Users/royalty/miniconda3/lib/python3.11/site-packages/torch/jit/_check.py:177: UserWarning:\n",
      "\n",
      "The TorchScript type system doesn't support instance-level annotations on empty non-base types in `__init__`. Instead, either 1) use a type annotation in the class body, or 2) wrap the type in `torch.jit.Attribute`.\n",
      "\n",
      "/Users/royalty/miniconda3/lib/python3.11/site-packages/torch/jit/_check.py:177: UserWarning:\n",
      "\n",
      "The TorchScript type system doesn't support instance-level annotations on empty non-base types in `__init__`. Instead, either 1) use a type annotation in the class body, or 2) wrap the type in `torch.jit.Attribute`.\n",
      "\n",
      "/Users/royalty/miniconda3/lib/python3.11/site-packages/torch/jit/_check.py:177: UserWarning:\n",
      "\n",
      "The TorchScript type system doesn't support instance-level annotations on empty non-base types in `__init__`. Instead, either 1) use a type annotation in the class body, or 2) wrap the type in `torch.jit.Attribute`.\n",
      "\n",
      "/Users/royalty/miniconda3/lib/python3.11/site-packages/torch/jit/_check.py:177: UserWarning:\n",
      "\n",
      "The TorchScript type system doesn't support instance-level annotations on empty non-base types in `__init__`. Instead, either 1) use a type annotation in the class body, or 2) wrap the type in `torch.jit.Attribute`.\n",
      "\n",
      "/Users/royalty/miniconda3/lib/python3.11/site-packages/torch/jit/_check.py:177: UserWarning:\n",
      "\n",
      "The TorchScript type system doesn't support instance-level annotations on empty non-base types in `__init__`. Instead, either 1) use a type annotation in the class body, or 2) wrap the type in `torch.jit.Attribute`.\n",
      "\n",
      "/Users/royalty/miniconda3/lib/python3.11/site-packages/torch/jit/_check.py:177: UserWarning:\n",
      "\n",
      "The TorchScript type system doesn't support instance-level annotations on empty non-base types in `__init__`. Instead, either 1) use a type annotation in the class body, or 2) wrap the type in `torch.jit.Attribute`.\n",
      "\n",
      "/Users/royalty/miniconda3/lib/python3.11/site-packages/torch/jit/_check.py:177: UserWarning:\n",
      "\n",
      "The TorchScript type system doesn't support instance-level annotations on empty non-base types in `__init__`. Instead, either 1) use a type annotation in the class body, or 2) wrap the type in `torch.jit.Attribute`.\n",
      "\n",
      "/Users/royalty/miniconda3/lib/python3.11/site-packages/torch/jit/_check.py:177: UserWarning:\n",
      "\n",
      "The TorchScript type system doesn't support instance-level annotations on empty non-base types in `__init__`. Instead, either 1) use a type annotation in the class body, or 2) wrap the type in `torch.jit.Attribute`.\n",
      "\n",
      "/Users/royalty/miniconda3/lib/python3.11/site-packages/torch/jit/_check.py:177: UserWarning:\n",
      "\n",
      "The TorchScript type system doesn't support instance-level annotations on empty non-base types in `__init__`. Instead, either 1) use a type annotation in the class body, or 2) wrap the type in `torch.jit.Attribute`.\n",
      "\n",
      "/Users/royalty/miniconda3/lib/python3.11/site-packages/torch/jit/_check.py:177: UserWarning:\n",
      "\n",
      "The TorchScript type system doesn't support instance-level annotations on empty non-base types in `__init__`. Instead, either 1) use a type annotation in the class body, or 2) wrap the type in `torch.jit.Attribute`.\n",
      "\n",
      "/Users/royalty/miniconda3/lib/python3.11/site-packages/torch/jit/_check.py:177: UserWarning:\n",
      "\n",
      "The TorchScript type system doesn't support instance-level annotations on empty non-base types in `__init__`. Instead, either 1) use a type annotation in the class body, or 2) wrap the type in `torch.jit.Attribute`.\n",
      "\n",
      "/Users/royalty/miniconda3/lib/python3.11/site-packages/torch/jit/_check.py:177: UserWarning:\n",
      "\n",
      "The TorchScript type system doesn't support instance-level annotations on empty non-base types in `__init__`. Instead, either 1) use a type annotation in the class body, or 2) wrap the type in `torch.jit.Attribute`.\n",
      "\n",
      "/Users/royalty/miniconda3/lib/python3.11/site-packages/torch/jit/_check.py:177: UserWarning:\n",
      "\n",
      "The TorchScript type system doesn't support instance-level annotations on empty non-base types in `__init__`. Instead, either 1) use a type annotation in the class body, or 2) wrap the type in `torch.jit.Attribute`.\n",
      "\n",
      "/Users/royalty/miniconda3/lib/python3.11/site-packages/torch/jit/_check.py:177: UserWarning:\n",
      "\n",
      "The TorchScript type system doesn't support instance-level annotations on empty non-base types in `__init__`. Instead, either 1) use a type annotation in the class body, or 2) wrap the type in `torch.jit.Attribute`.\n",
      "\n",
      "/Users/royalty/miniconda3/lib/python3.11/site-packages/torch/jit/_check.py:177: UserWarning:\n",
      "\n",
      "The TorchScript type system doesn't support instance-level annotations on empty non-base types in `__init__`. Instead, either 1) use a type annotation in the class body, or 2) wrap the type in `torch.jit.Attribute`.\n",
      "\n",
      "/Users/royalty/miniconda3/lib/python3.11/site-packages/torch/jit/_check.py:177: UserWarning:\n",
      "\n",
      "The TorchScript type system doesn't support instance-level annotations on empty non-base types in `__init__`. Instead, either 1) use a type annotation in the class body, or 2) wrap the type in `torch.jit.Attribute`.\n",
      "\n",
      "/Users/royalty/miniconda3/lib/python3.11/site-packages/torch/jit/_check.py:177: UserWarning:\n",
      "\n",
      "The TorchScript type system doesn't support instance-level annotations on empty non-base types in `__init__`. Instead, either 1) use a type annotation in the class body, or 2) wrap the type in `torch.jit.Attribute`.\n",
      "\n",
      "/Users/royalty/miniconda3/lib/python3.11/site-packages/torch/jit/_check.py:177: UserWarning:\n",
      "\n",
      "The TorchScript type system doesn't support instance-level annotations on empty non-base types in `__init__`. Instead, either 1) use a type annotation in the class body, or 2) wrap the type in `torch.jit.Attribute`.\n",
      "\n",
      "/Users/royalty/miniconda3/lib/python3.11/site-packages/torch/jit/_check.py:177: UserWarning:\n",
      "\n",
      "The TorchScript type system doesn't support instance-level annotations on empty non-base types in `__init__`. Instead, either 1) use a type annotation in the class body, or 2) wrap the type in `torch.jit.Attribute`.\n",
      "\n",
      "/Users/royalty/miniconda3/lib/python3.11/site-packages/torch/jit/_check.py:177: UserWarning:\n",
      "\n",
      "The TorchScript type system doesn't support instance-level annotations on empty non-base types in `__init__`. Instead, either 1) use a type annotation in the class body, or 2) wrap the type in `torch.jit.Attribute`.\n",
      "\n",
      "/Users/royalty/miniconda3/lib/python3.11/site-packages/torch/jit/_check.py:177: UserWarning:\n",
      "\n",
      "The TorchScript type system doesn't support instance-level annotations on empty non-base types in `__init__`. Instead, either 1) use a type annotation in the class body, or 2) wrap the type in `torch.jit.Attribute`.\n",
      "\n",
      "/Users/royalty/miniconda3/lib/python3.11/site-packages/torch/jit/_check.py:177: UserWarning:\n",
      "\n",
      "The TorchScript type system doesn't support instance-level annotations on empty non-base types in `__init__`. Instead, either 1) use a type annotation in the class body, or 2) wrap the type in `torch.jit.Attribute`.\n",
      "\n",
      "/Users/royalty/miniconda3/lib/python3.11/site-packages/torch/jit/_check.py:177: UserWarning:\n",
      "\n",
      "The TorchScript type system doesn't support instance-level annotations on empty non-base types in `__init__`. Instead, either 1) use a type annotation in the class body, or 2) wrap the type in `torch.jit.Attribute`.\n",
      "\n",
      "/Users/royalty/miniconda3/lib/python3.11/site-packages/torch/jit/_check.py:177: UserWarning:\n",
      "\n",
      "The TorchScript type system doesn't support instance-level annotations on empty non-base types in `__init__`. Instead, either 1) use a type annotation in the class body, or 2) wrap the type in `torch.jit.Attribute`.\n",
      "\n",
      "/Users/royalty/miniconda3/lib/python3.11/site-packages/torch/jit/_check.py:177: UserWarning:\n",
      "\n",
      "The TorchScript type system doesn't support instance-level annotations on empty non-base types in `__init__`. Instead, either 1) use a type annotation in the class body, or 2) wrap the type in `torch.jit.Attribute`.\n",
      "\n",
      "/Users/royalty/miniconda3/lib/python3.11/site-packages/torch/jit/_check.py:177: UserWarning:\n",
      "\n",
      "The TorchScript type system doesn't support instance-level annotations on empty non-base types in `__init__`. Instead, either 1) use a type annotation in the class body, or 2) wrap the type in `torch.jit.Attribute`.\n",
      "\n",
      "/Users/royalty/miniconda3/lib/python3.11/site-packages/torch/jit/_check.py:177: UserWarning:\n",
      "\n",
      "The TorchScript type system doesn't support instance-level annotations on empty non-base types in `__init__`. Instead, either 1) use a type annotation in the class body, or 2) wrap the type in `torch.jit.Attribute`.\n",
      "\n",
      "/Users/royalty/miniconda3/lib/python3.11/site-packages/torch/jit/_check.py:177: UserWarning:\n",
      "\n",
      "The TorchScript type system doesn't support instance-level annotations on empty non-base types in `__init__`. Instead, either 1) use a type annotation in the class body, or 2) wrap the type in `torch.jit.Attribute`.\n",
      "\n",
      "/Users/royalty/miniconda3/lib/python3.11/site-packages/torch/jit/_check.py:177: UserWarning:\n",
      "\n",
      "The TorchScript type system doesn't support instance-level annotations on empty non-base types in `__init__`. Instead, either 1) use a type annotation in the class body, or 2) wrap the type in `torch.jit.Attribute`.\n",
      "\n",
      "/Users/royalty/miniconda3/lib/python3.11/site-packages/torch/jit/_check.py:177: UserWarning:\n",
      "\n",
      "The TorchScript type system doesn't support instance-level annotations on empty non-base types in `__init__`. Instead, either 1) use a type annotation in the class body, or 2) wrap the type in `torch.jit.Attribute`.\n",
      "\n",
      "/Users/royalty/miniconda3/lib/python3.11/site-packages/torch/jit/_check.py:177: UserWarning:\n",
      "\n",
      "The TorchScript type system doesn't support instance-level annotations on empty non-base types in `__init__`. Instead, either 1) use a type annotation in the class body, or 2) wrap the type in `torch.jit.Attribute`.\n",
      "\n",
      "/Users/royalty/miniconda3/lib/python3.11/site-packages/torch/jit/_check.py:177: UserWarning:\n",
      "\n",
      "The TorchScript type system doesn't support instance-level annotations on empty non-base types in `__init__`. Instead, either 1) use a type annotation in the class body, or 2) wrap the type in `torch.jit.Attribute`.\n",
      "\n",
      "/Users/royalty/miniconda3/lib/python3.11/site-packages/torch/jit/_check.py:177: UserWarning:\n",
      "\n",
      "The TorchScript type system doesn't support instance-level annotations on empty non-base types in `__init__`. Instead, either 1) use a type annotation in the class body, or 2) wrap the type in `torch.jit.Attribute`.\n",
      "\n",
      "/Users/royalty/miniconda3/lib/python3.11/site-packages/torch/jit/_check.py:177: UserWarning:\n",
      "\n",
      "The TorchScript type system doesn't support instance-level annotations on empty non-base types in `__init__`. Instead, either 1) use a type annotation in the class body, or 2) wrap the type in `torch.jit.Attribute`.\n",
      "\n",
      "/Users/royalty/miniconda3/lib/python3.11/site-packages/torch/jit/_check.py:177: UserWarning:\n",
      "\n",
      "The TorchScript type system doesn't support instance-level annotations on empty non-base types in `__init__`. Instead, either 1) use a type annotation in the class body, or 2) wrap the type in `torch.jit.Attribute`.\n",
      "\n",
      "/Users/royalty/miniconda3/lib/python3.11/site-packages/torch/jit/_check.py:177: UserWarning:\n",
      "\n",
      "The TorchScript type system doesn't support instance-level annotations on empty non-base types in `__init__`. Instead, either 1) use a type annotation in the class body, or 2) wrap the type in `torch.jit.Attribute`.\n",
      "\n",
      "/Users/royalty/miniconda3/lib/python3.11/site-packages/torch/jit/_check.py:177: UserWarning:\n",
      "\n",
      "The TorchScript type system doesn't support instance-level annotations on empty non-base types in `__init__`. Instead, either 1) use a type annotation in the class body, or 2) wrap the type in `torch.jit.Attribute`.\n",
      "\n",
      "/Users/royalty/miniconda3/lib/python3.11/site-packages/torch/jit/_check.py:177: UserWarning:\n",
      "\n",
      "The TorchScript type system doesn't support instance-level annotations on empty non-base types in `__init__`. Instead, either 1) use a type annotation in the class body, or 2) wrap the type in `torch.jit.Attribute`.\n",
      "\n",
      "/Users/royalty/miniconda3/lib/python3.11/site-packages/torch/jit/_check.py:177: UserWarning:\n",
      "\n",
      "The TorchScript type system doesn't support instance-level annotations on empty non-base types in `__init__`. Instead, either 1) use a type annotation in the class body, or 2) wrap the type in `torch.jit.Attribute`.\n",
      "\n",
      "/Users/royalty/miniconda3/lib/python3.11/site-packages/torch/jit/_check.py:177: UserWarning:\n",
      "\n",
      "The TorchScript type system doesn't support instance-level annotations on empty non-base types in `__init__`. Instead, either 1) use a type annotation in the class body, or 2) wrap the type in `torch.jit.Attribute`.\n",
      "\n",
      "/Users/royalty/miniconda3/lib/python3.11/site-packages/torch/jit/_check.py:177: UserWarning:\n",
      "\n",
      "The TorchScript type system doesn't support instance-level annotations on empty non-base types in `__init__`. Instead, either 1) use a type annotation in the class body, or 2) wrap the type in `torch.jit.Attribute`.\n",
      "\n",
      "/Users/royalty/miniconda3/lib/python3.11/site-packages/torch/jit/_check.py:177: UserWarning:\n",
      "\n",
      "The TorchScript type system doesn't support instance-level annotations on empty non-base types in `__init__`. Instead, either 1) use a type annotation in the class body, or 2) wrap the type in `torch.jit.Attribute`.\n",
      "\n",
      "/Users/royalty/miniconda3/lib/python3.11/site-packages/torch/jit/_check.py:177: UserWarning:\n",
      "\n",
      "The TorchScript type system doesn't support instance-level annotations on empty non-base types in `__init__`. Instead, either 1) use a type annotation in the class body, or 2) wrap the type in `torch.jit.Attribute`.\n",
      "\n",
      "/Users/royalty/miniconda3/lib/python3.11/site-packages/torch/jit/_check.py:177: UserWarning:\n",
      "\n",
      "The TorchScript type system doesn't support instance-level annotations on empty non-base types in `__init__`. Instead, either 1) use a type annotation in the class body, or 2) wrap the type in `torch.jit.Attribute`.\n",
      "\n",
      "/Users/royalty/miniconda3/lib/python3.11/site-packages/torch/jit/_check.py:177: UserWarning:\n",
      "\n",
      "The TorchScript type system doesn't support instance-level annotations on empty non-base types in `__init__`. Instead, either 1) use a type annotation in the class body, or 2) wrap the type in `torch.jit.Attribute`.\n",
      "\n",
      "/Users/royalty/miniconda3/lib/python3.11/site-packages/torch/jit/_check.py:177: UserWarning:\n",
      "\n",
      "The TorchScript type system doesn't support instance-level annotations on empty non-base types in `__init__`. Instead, either 1) use a type annotation in the class body, or 2) wrap the type in `torch.jit.Attribute`.\n",
      "\n",
      "/Users/royalty/miniconda3/lib/python3.11/site-packages/torch/jit/_check.py:177: UserWarning:\n",
      "\n",
      "The TorchScript type system doesn't support instance-level annotations on empty non-base types in `__init__`. Instead, either 1) use a type annotation in the class body, or 2) wrap the type in `torch.jit.Attribute`.\n",
      "\n",
      "/Users/royalty/miniconda3/lib/python3.11/site-packages/torch/jit/_check.py:177: UserWarning:\n",
      "\n",
      "The TorchScript type system doesn't support instance-level annotations on empty non-base types in `__init__`. Instead, either 1) use a type annotation in the class body, or 2) wrap the type in `torch.jit.Attribute`.\n",
      "\n",
      "/Users/royalty/miniconda3/lib/python3.11/site-packages/torch/jit/_check.py:177: UserWarning:\n",
      "\n",
      "The TorchScript type system doesn't support instance-level annotations on empty non-base types in `__init__`. Instead, either 1) use a type annotation in the class body, or 2) wrap the type in `torch.jit.Attribute`.\n",
      "\n",
      "/Users/royalty/miniconda3/lib/python3.11/site-packages/torch/jit/_check.py:177: UserWarning:\n",
      "\n",
      "The TorchScript type system doesn't support instance-level annotations on empty non-base types in `__init__`. Instead, either 1) use a type annotation in the class body, or 2) wrap the type in `torch.jit.Attribute`.\n",
      "\n",
      "/Users/royalty/miniconda3/lib/python3.11/site-packages/torch/jit/_check.py:177: UserWarning:\n",
      "\n",
      "The TorchScript type system doesn't support instance-level annotations on empty non-base types in `__init__`. Instead, either 1) use a type annotation in the class body, or 2) wrap the type in `torch.jit.Attribute`.\n",
      "\n",
      "/Users/royalty/miniconda3/lib/python3.11/site-packages/torch/jit/_check.py:177: UserWarning:\n",
      "\n",
      "The TorchScript type system doesn't support instance-level annotations on empty non-base types in `__init__`. Instead, either 1) use a type annotation in the class body, or 2) wrap the type in `torch.jit.Attribute`.\n",
      "\n",
      "/Users/royalty/miniconda3/lib/python3.11/site-packages/torch/jit/_check.py:177: UserWarning:\n",
      "\n",
      "The TorchScript type system doesn't support instance-level annotations on empty non-base types in `__init__`. Instead, either 1) use a type annotation in the class body, or 2) wrap the type in `torch.jit.Attribute`.\n",
      "\n",
      "/Users/royalty/miniconda3/lib/python3.11/site-packages/torch/jit/_check.py:177: UserWarning:\n",
      "\n",
      "The TorchScript type system doesn't support instance-level annotations on empty non-base types in `__init__`. Instead, either 1) use a type annotation in the class body, or 2) wrap the type in `torch.jit.Attribute`.\n",
      "\n",
      "/Users/royalty/miniconda3/lib/python3.11/site-packages/torch/jit/_check.py:177: UserWarning:\n",
      "\n",
      "The TorchScript type system doesn't support instance-level annotations on empty non-base types in `__init__`. Instead, either 1) use a type annotation in the class body, or 2) wrap the type in `torch.jit.Attribute`.\n",
      "\n",
      "/Users/royalty/miniconda3/lib/python3.11/site-packages/torch/jit/_check.py:177: UserWarning:\n",
      "\n",
      "The TorchScript type system doesn't support instance-level annotations on empty non-base types in `__init__`. Instead, either 1) use a type annotation in the class body, or 2) wrap the type in `torch.jit.Attribute`.\n",
      "\n",
      "/Users/royalty/miniconda3/lib/python3.11/site-packages/torch/jit/_check.py:177: UserWarning:\n",
      "\n",
      "The TorchScript type system doesn't support instance-level annotations on empty non-base types in `__init__`. Instead, either 1) use a type annotation in the class body, or 2) wrap the type in `torch.jit.Attribute`.\n",
      "\n",
      "/Users/royalty/miniconda3/lib/python3.11/site-packages/torch/jit/_check.py:177: UserWarning:\n",
      "\n",
      "The TorchScript type system doesn't support instance-level annotations on empty non-base types in `__init__`. Instead, either 1) use a type annotation in the class body, or 2) wrap the type in `torch.jit.Attribute`.\n",
      "\n",
      "/Users/royalty/miniconda3/lib/python3.11/site-packages/torch/jit/_check.py:177: UserWarning:\n",
      "\n",
      "The TorchScript type system doesn't support instance-level annotations on empty non-base types in `__init__`. Instead, either 1) use a type annotation in the class body, or 2) wrap the type in `torch.jit.Attribute`.\n",
      "\n",
      "/Users/royalty/miniconda3/lib/python3.11/site-packages/torch/jit/_check.py:177: UserWarning:\n",
      "\n",
      "The TorchScript type system doesn't support instance-level annotations on empty non-base types in `__init__`. Instead, either 1) use a type annotation in the class body, or 2) wrap the type in `torch.jit.Attribute`.\n",
      "\n",
      "/Users/royalty/miniconda3/lib/python3.11/site-packages/torch/jit/_check.py:177: UserWarning:\n",
      "\n",
      "The TorchScript type system doesn't support instance-level annotations on empty non-base types in `__init__`. Instead, either 1) use a type annotation in the class body, or 2) wrap the type in `torch.jit.Attribute`.\n",
      "\n",
      "/Users/royalty/miniconda3/lib/python3.11/site-packages/torch/jit/_check.py:177: UserWarning:\n",
      "\n",
      "The TorchScript type system doesn't support instance-level annotations on empty non-base types in `__init__`. Instead, either 1) use a type annotation in the class body, or 2) wrap the type in `torch.jit.Attribute`.\n",
      "\n",
      "/Users/royalty/miniconda3/lib/python3.11/site-packages/torch/jit/_check.py:177: UserWarning:\n",
      "\n",
      "The TorchScript type system doesn't support instance-level annotations on empty non-base types in `__init__`. Instead, either 1) use a type annotation in the class body, or 2) wrap the type in `torch.jit.Attribute`.\n",
      "\n",
      "/Users/royalty/miniconda3/lib/python3.11/site-packages/torch/jit/_check.py:177: UserWarning:\n",
      "\n",
      "The TorchScript type system doesn't support instance-level annotations on empty non-base types in `__init__`. Instead, either 1) use a type annotation in the class body, or 2) wrap the type in `torch.jit.Attribute`.\n",
      "\n",
      "/Users/royalty/miniconda3/lib/python3.11/site-packages/torch/jit/_check.py:177: UserWarning:\n",
      "\n",
      "The TorchScript type system doesn't support instance-level annotations on empty non-base types in `__init__`. Instead, either 1) use a type annotation in the class body, or 2) wrap the type in `torch.jit.Attribute`.\n",
      "\n",
      "/Users/royalty/miniconda3/lib/python3.11/site-packages/torch/jit/_check.py:177: UserWarning:\n",
      "\n",
      "The TorchScript type system doesn't support instance-level annotations on empty non-base types in `__init__`. Instead, either 1) use a type annotation in the class body, or 2) wrap the type in `torch.jit.Attribute`.\n",
      "\n",
      "/Users/royalty/miniconda3/lib/python3.11/site-packages/torch/jit/_check.py:177: UserWarning:\n",
      "\n",
      "The TorchScript type system doesn't support instance-level annotations on empty non-base types in `__init__`. Instead, either 1) use a type annotation in the class body, or 2) wrap the type in `torch.jit.Attribute`.\n",
      "\n",
      "/Users/royalty/miniconda3/lib/python3.11/site-packages/torch/jit/_check.py:177: UserWarning:\n",
      "\n",
      "The TorchScript type system doesn't support instance-level annotations on empty non-base types in `__init__`. Instead, either 1) use a type annotation in the class body, or 2) wrap the type in `torch.jit.Attribute`.\n",
      "\n",
      "/Users/royalty/miniconda3/lib/python3.11/site-packages/torch/jit/_check.py:177: UserWarning:\n",
      "\n",
      "The TorchScript type system doesn't support instance-level annotations on empty non-base types in `__init__`. Instead, either 1) use a type annotation in the class body, or 2) wrap the type in `torch.jit.Attribute`.\n",
      "\n",
      "/Users/royalty/miniconda3/lib/python3.11/site-packages/torch/jit/_check.py:177: UserWarning:\n",
      "\n",
      "The TorchScript type system doesn't support instance-level annotations on empty non-base types in `__init__`. Instead, either 1) use a type annotation in the class body, or 2) wrap the type in `torch.jit.Attribute`.\n",
      "\n"
     ]
    }
   ],
   "source": [
    "from graph2mat.models import MatrixMACE\n",
    "from graph2mat.bindings.e3nn import E3nnEdgeMessageBlock\n",
    "\n",
    "matrix_mace_model = MatrixMACE(\n",
    "    mace_model,\n",
    "    unique_basis=table,\n",
    "    readout_per_interaction=True,\n",
    "    edge_hidden_irreps=o3.Irreps(\"10x0e + 10x1o + 10x2e\"),\n",
    "    preprocessing_edges=E3nnEdgeMessageBlock,\n",
    "    preprocessing_edges_reuse_nodes=False,\n",
    ")"
   ]
  },
  {
   "cell_type": "code",
   "execution_count": null,
   "metadata": {},
   "outputs": [],
   "source": [
    "import torch.optim as optim\n",
    "\n",
    "# 定义设备：如果有 GPU 则使用 GPU，否则使用 CPU\n",
    "device = torch.device(\"cuda\" if torch.cuda.is_available() else \"cpu\")\n",
    "\n",
    "# 将模型移到指定设备\n",
    "model = matrix_mace_model.to(device)\n",
    "\n",
    "# The loss function, which we get from graph2mat's metrics functions\n",
    "from graph2mat import metrics\n",
    "\n",
    "loss_function = metrics.elementwise_mse\n",
    "\n",
    "# choose element-wise mean square loss\n",
    "# loss_function = torch.nn.MSELoss()\n",
    "# criterion = torch.nn.MSELoss()  # 假设你的输出是连续数值，可以使用均方误差损失\n",
    "optimizer = optim.Adam(model.parameters(), lr=0.001)  # 使用 Adam 优化器"
   ]
  },
  {
   "cell_type": "code",
   "execution_count": 11,
   "metadata": {},
   "outputs": [
    {
     "name": "stdout",
     "output_type": "stream",
     "text": [
      "Step 1/100, Train Loss: 0.04505802318453789, Train Node RMSE: 0.2674102783203125, Train Edge RMSE: 0.09707562625408173\n",
      "Step 2/100, Train Loss: 0.044495053589344025, Train Node RMSE: 0.265582412481308, Train Edge RMSE: 0.09702984243631363\n",
      "Step 3/100, Train Loss: 0.04387690871953964, Train Node RMSE: 0.2635928988456726, Train Edge RMSE: 0.0968618094921112\n",
      "Step 4/100, Train Loss: 0.04288320988416672, Train Node RMSE: 0.26049187779426575, Train Edge RMSE: 0.0961211770772934\n",
      "Step 5/100, Train Loss: 0.04175117611885071, Train Node RMSE: 0.25676482915878296, Train Edge RMSE: 0.09580910950899124\n",
      "Step 6/100, Train Loss: 0.04052281007170677, Train Node RMSE: 0.2525544762611389, Train Edge RMSE: 0.09583917260169983\n",
      "Step 7/100, Train Loss: 0.04021540284156799, Train Node RMSE: 0.2516549229621887, Train Edge RMSE: 0.09526093304157257\n",
      "Step 8/100, Train Loss: 0.03950724005699158, Train Node RMSE: 0.24932865798473358, Train Edge RMSE: 0.09477602690458298\n",
      "Step 9/100, Train Loss: 0.03920884430408478, Train Node RMSE: 0.24830374121665955, Train Edge RMSE: 0.0947059690952301\n",
      "Step 10/100, Train Loss: 0.03883838281035423, Train Node RMSE: 0.2472129613161087, Train Edge RMSE: 0.09395662695169449\n",
      "Step 11/100, Train Loss: 0.03847670555114746, Train Node RMSE: 0.2461298108100891, Train Edge RMSE: 0.09326744824647903\n",
      "Step 12/100, Train Loss: 0.0381053201854229, Train Node RMSE: 0.24501392245292664, Train Edge RMSE: 0.09254968911409378\n",
      "Step 13/100, Train Loss: 0.03777334839105606, Train Node RMSE: 0.2440296858549118, Train Edge RMSE: 0.09184060245752335\n",
      "Step 14/100, Train Loss: 0.03743486478924751, Train Node RMSE: 0.24304994940757751, Train Edge RMSE: 0.09101159125566483\n",
      "Step 15/100, Train Loss: 0.037161607295274734, Train Node RMSE: 0.24215951561927795, Train Edge RMSE: 0.09068508446216583\n",
      "Step 16/100, Train Loss: 0.03682595491409302, Train Node RMSE: 0.24107441306114197, Train Edge RMSE: 0.09023500978946686\n",
      "Step 17/100, Train Loss: 0.03659841790795326, Train Node RMSE: 0.240284726023674, Train Edge RMSE: 0.09011318534612656\n",
      "Step 18/100, Train Loss: 0.03643801808357239, Train Node RMSE: 0.23965999484062195, Train Edge RMSE: 0.09026538580656052\n",
      "Step 19/100, Train Loss: 0.03625471517443657, Train Node RMSE: 0.2390071451663971, Train Edge RMSE: 0.09021411836147308\n",
      "Step 20/100, Train Loss: 0.03612174838781357, Train Node RMSE: 0.23850737512111664, Train Edge RMSE: 0.09026627987623215\n",
      "Step 21/100, Train Loss: 0.035955898463726044, Train Node RMSE: 0.23797985911369324, Train Edge RMSE: 0.08998525142669678\n",
      "Step 22/100, Train Loss: 0.03586813807487488, Train Node RMSE: 0.2376202642917633, Train Edge RMSE: 0.0901208445429802\n",
      "Step 23/100, Train Loss: 0.0356818363070488, Train Node RMSE: 0.23700888454914093, Train Edge RMSE: 0.08986320346593857\n",
      "Step 24/100, Train Loss: 0.035559725016355515, Train Node RMSE: 0.2364872246980667, Train Edge RMSE: 0.0901196226477623\n",
      "Step 25/100, Train Loss: 0.03534672409296036, Train Node RMSE: 0.23571938276290894, Train Edge RMSE: 0.090055912733078\n",
      "Step 26/100, Train Loss: 0.03511936217546463, Train Node RMSE: 0.2348252385854721, Train Edge RMSE: 0.09023980796337128\n",
      "Step 27/100, Train Loss: 0.03476826474070549, Train Node RMSE: 0.23355142772197723, Train Edge RMSE: 0.09012714773416519\n",
      "Step 28/100, Train Loss: 0.0343296155333519, Train Node RMSE: 0.23195572197437286, Train Edge RMSE: 0.08996675163507462\n",
      "Step 29/100, Train Loss: 0.03381302207708359, Train Node RMSE: 0.2299843579530716, Train Edge RMSE: 0.09004613757133484\n",
      "Step 30/100, Train Loss: 0.033418506383895874, Train Node RMSE: 0.2283782660961151, Train Edge RMSE: 0.09041064232587814\n",
      "Step 31/100, Train Loss: 0.03316482529044151, Train Node RMSE: 0.2274753898382187, Train Edge RMSE: 0.09018386155366898\n",
      "Step 32/100, Train Loss: 0.033070702105760574, Train Node RMSE: 0.22701293230056763, Train Edge RMSE: 0.09052826464176178\n",
      "Step 33/100, Train Loss: 0.032885678112506866, Train Node RMSE: 0.2263844609260559, Train Edge RMSE: 0.0902494415640831\n",
      "Step 34/100, Train Loss: 0.03274094685912132, Train Node RMSE: 0.22583109140396118, Train Edge RMSE: 0.090235136449337\n",
      "Step 35/100, Train Loss: 0.032573554664850235, Train Node RMSE: 0.2252560257911682, Train Edge RMSE: 0.08999411016702652\n",
      "Step 36/100, Train Loss: 0.032489921897649765, Train Node RMSE: 0.22487427294254303, Train Edge RMSE: 0.09018949419260025\n",
      "Step 37/100, Train Loss: 0.03233643248677254, Train Node RMSE: 0.22427727282047272, Train Edge RMSE: 0.09019488841295242\n",
      "Step 38/100, Train Loss: 0.03215694800019264, Train Node RMSE: 0.22359468042850494, Train Edge RMSE: 0.09014258533716202\n",
      "Step 39/100, Train Loss: 0.032060131430625916, Train Node RMSE: 0.22318732738494873, Train Edge RMSE: 0.09024203568696976\n",
      "Step 40/100, Train Loss: 0.0319129154086113, Train Node RMSE: 0.22263111174106598, Train Edge RMSE: 0.09017845243215561\n",
      "Step 41/100, Train Loss: 0.031735312193632126, Train Node RMSE: 0.22195285558700562, Train Edge RMSE: 0.09011951088905334\n",
      "Step 42/100, Train Loss: 0.031568922102451324, Train Node RMSE: 0.22133061289787292, Train Edge RMSE: 0.09001432359218597\n",
      "Step 43/100, Train Loss: 0.03144054114818573, Train Node RMSE: 0.2208234667778015, Train Edge RMSE: 0.09001854062080383\n",
      "Step 44/100, Train Loss: 0.03135517239570618, Train Node RMSE: 0.22043335437774658, Train Edge RMSE: 0.0901934877038002\n",
      "Step 45/100, Train Loss: 0.0311291441321373, Train Node RMSE: 0.21959920227527618, Train Edge RMSE: 0.08999348431825638\n",
      "Step 46/100, Train Loss: 0.030990276485681534, Train Node RMSE: 0.21903157234191895, Train Edge RMSE: 0.09004615992307663\n",
      "Step 47/100, Train Loss: 0.0308323185890913, Train Node RMSE: 0.21844398975372314, Train Edge RMSE: 0.08991025388240814\n",
      "Step 48/100, Train Loss: 0.030719147995114326, Train Node RMSE: 0.21793268620967865, Train Edge RMSE: 0.09010440856218338\n",
      "Step 49/100, Train Loss: 0.030527764931321144, Train Node RMSE: 0.2171730101108551, Train Edge RMSE: 0.09008276462554932\n",
      "Step 50/100, Train Loss: 0.030423324555158615, Train Node RMSE: 0.21675248444080353, Train Edge RMSE: 0.09008657932281494\n",
      "Step 51/100, Train Loss: 0.03016187995672226, Train Node RMSE: 0.21573378145694733, Train Edge RMSE: 0.08997485786676407\n",
      "Step 52/100, Train Loss: 0.02999195083975792, Train Node RMSE: 0.21499478816986084, Train Edge RMSE: 0.09014124423265457\n",
      "Step 53/100, Train Loss: 0.02977439947426319, Train Node RMSE: 0.21409402787685394, Train Edge RMSE: 0.09019708633422852\n",
      "Step 54/100, Train Loss: 0.029529118910431862, Train Node RMSE: 0.21320529282093048, Train Edge RMSE: 0.08984096348285675\n",
      "Step 55/100, Train Loss: 0.029437052085995674, Train Node RMSE: 0.2127339094877243, Train Edge RMSE: 0.09014320373535156\n",
      "Step 56/100, Train Loss: 0.02918335609138012, Train Node RMSE: 0.2117224484682083, Train Edge RMSE: 0.09004834294319153\n",
      "Step 57/100, Train Loss: 0.029039205983281136, Train Node RMSE: 0.2111063152551651, Train Edge RMSE: 0.0901184156537056\n",
      "Step 58/100, Train Loss: 0.028838997706770897, Train Node RMSE: 0.21035848557949066, Train Edge RMSE: 0.08986673504114151\n",
      "Step 59/100, Train Loss: 0.028787992894649506, Train Node RMSE: 0.21013841032981873, Train Edge RMSE: 0.08989425003528595\n",
      "Step 60/100, Train Loss: 0.028432823717594147, Train Node RMSE: 0.2086709439754486, Train Edge RMSE: 0.0898626521229744\n",
      "Step 61/100, Train Loss: 0.02841200865805149, Train Node RMSE: 0.2085496485233307, Train Edge RMSE: 0.08997013419866562\n",
      "Step 62/100, Train Loss: 0.028187016025185585, Train Node RMSE: 0.20760631561279297, Train Edge RMSE: 0.08997445553541183\n",
      "Step 63/100, Train Loss: 0.02792946808040142, Train Node RMSE: 0.20650754868984222, Train Edge RMSE: 0.09002158045768738\n",
      "Step 64/100, Train Loss: 0.02785995416343212, Train Node RMSE: 0.20624488592147827, Train Edge RMSE: 0.08992651849985123\n",
      "Step 65/100, Train Loss: 0.02762269414961338, Train Node RMSE: 0.20529085397720337, Train Edge RMSE: 0.08977091312408447\n",
      "Step 66/100, Train Loss: 0.027452096343040466, Train Node RMSE: 0.20451027154922485, Train Edge RMSE: 0.08994075655937195\n",
      "Step 67/100, Train Loss: 0.02721966989338398, Train Node RMSE: 0.2035425901412964, Train Edge RMSE: 0.08986523747444153\n",
      "Step 68/100, Train Loss: 0.026982862502336502, Train Node RMSE: 0.2025192677974701, Train Edge RMSE: 0.08988730609416962\n",
      "Step 69/100, Train Loss: 0.027092719450592995, Train Node RMSE: 0.20293280482292175, Train Edge RMSE: 0.09006495028734207\n",
      "Step 70/100, Train Loss: 0.02675885520875454, Train Node RMSE: 0.20154601335525513, Train Edge RMSE: 0.08990965038537979\n",
      "Step 71/100, Train Loss: 0.026461521163582802, Train Node RMSE: 0.20022623240947723, Train Edge RMSE: 0.09000107645988464\n",
      "Step 72/100, Train Loss: 0.02629336342215538, Train Node RMSE: 0.19950582087039948, Train Edge RMSE: 0.08996362239122391\n",
      "Step 73/100, Train Loss: 0.026100266724824905, Train Node RMSE: 0.19866542518138885, Train Edge RMSE: 0.08995010703802109\n",
      "Step 74/100, Train Loss: 0.02596086822450161, Train Node RMSE: 0.19805243611335754, Train Edge RMSE: 0.08995247632265091\n",
      "Step 75/100, Train Loss: 0.025751113891601562, Train Node RMSE: 0.1970655471086502, Train Edge RMSE: 0.09013570845127106\n",
      "Step 76/100, Train Loss: 0.025354309007525444, Train Node RMSE: 0.19539450109004974, Train Edge RMSE: 0.08986981958150864\n",
      "Step 77/100, Train Loss: 0.025437992066144943, Train Node RMSE: 0.19575947523117065, Train Edge RMSE: 0.08989259600639343\n",
      "Step 78/100, Train Loss: 0.02510368637740612, Train Node RMSE: 0.1942390352487564, Train Edge RMSE: 0.08997136354446411\n",
      "Step 79/100, Train Loss: 0.024880724027752876, Train Node RMSE: 0.19325679540634155, Train Edge RMSE: 0.08991261571645737\n",
      "Step 80/100, Train Loss: 0.02449561282992363, Train Node RMSE: 0.19149644672870636, Train Edge RMSE: 0.089960016310215\n",
      "Step 81/100, Train Loss: 0.024445250630378723, Train Node RMSE: 0.19128470122814178, Train Edge RMSE: 0.08990990370512009\n",
      "Step 82/100, Train Loss: 0.023990226909518242, Train Node RMSE: 0.18921881914138794, Train Edge RMSE: 0.0898597314953804\n",
      "Step 83/100, Train Loss: 0.023919420316815376, Train Node RMSE: 0.18883630633354187, Train Edge RMSE: 0.0900188684463501\n",
      "Step 84/100, Train Loss: 0.023524610325694084, Train Node RMSE: 0.1870735138654709, Train Edge RMSE: 0.08982999622821808\n",
      "Step 85/100, Train Loss: 0.023486116901040077, Train Node RMSE: 0.18688741326332092, Train Edge RMSE: 0.08984896540641785\n",
      "Step 86/100, Train Loss: 0.02297036536037922, Train Node RMSE: 0.18451295793056488, Train Edge RMSE: 0.0897236317396164\n",
      "Step 87/100, Train Loss: 0.022877415642142296, Train Node RMSE: 0.18396426737308502, Train Edge RMSE: 0.0900251641869545\n",
      "Step 88/100, Train Loss: 0.022517193108797073, Train Node RMSE: 0.18233948945999146, Train Edge RMSE: 0.08978211134672165\n",
      "Step 89/100, Train Loss: 0.022370900958776474, Train Node RMSE: 0.18157102167606354, Train Edge RMSE: 0.08996778726577759\n",
      "Step 90/100, Train Loss: 0.02230094186961651, Train Node RMSE: 0.18117086589336395, Train Edge RMSE: 0.09014183282852173\n",
      "Step 91/100, Train Loss: 0.021687708795070648, Train Node RMSE: 0.17828543484210968, Train Edge RMSE: 0.08990814536809921\n",
      "Step 92/100, Train Loss: 0.021347589790821075, Train Node RMSE: 0.17663642764091492, Train Edge RMSE: 0.08985334634780884\n",
      "Step 93/100, Train Loss: 0.021235857158899307, Train Node RMSE: 0.17612284421920776, Train Edge RMSE: 0.08975216001272202\n",
      "Step 94/100, Train Loss: 0.020975204184651375, Train Node RMSE: 0.17471544444561005, Train Edge RMSE: 0.09004915505647659\n",
      "Step 95/100, Train Loss: 0.020420752465724945, Train Node RMSE: 0.17205235362052917, Train Edge RMSE: 0.08973044157028198\n",
      "Step 96/100, Train Loss: 0.020369572564959526, Train Node RMSE: 0.17167054116725922, Train Edge RMSE: 0.09004572033882141\n",
      "Step 97/100, Train Loss: 0.01999938301742077, Train Node RMSE: 0.1698308289051056, Train Edge RMSE: 0.08992067724466324\n",
      "Step 98/100, Train Loss: 0.019525613635778427, Train Node RMSE: 0.16741953790187836, Train Edge RMSE: 0.08982906490564346\n",
      "Step 99/100, Train Loss: 0.019136598333716393, Train Node RMSE: 0.16527773439884186, Train Edge RMSE: 0.09008965641260147\n",
      "Step 100/100, Train Loss: 0.018794752657413483, Train Node RMSE: 0.16355422139167786, Train Edge RMSE: 0.08987373113632202\n"
     ]
    }
   ],
   "source": [
    "from torch.utils.tensorboard import SummaryWriter\n",
    "import os\n",
    "\n",
    "# 训练模型\n",
    "n_steps = 100  # 设置训练的 epoch 数量\n",
    "# Initialize arrays to store errors\n",
    "losses = np.zeros(n_steps)\n",
    "node_rmse = np.zeros(n_steps)\n",
    "edge_rmse = np.zeros(n_steps)\n",
    "\n",
    "# Initialize the SummaryWriter\n",
    "writer = SummaryWriter('runs')\n",
    "# create the model directory\n",
    "if not os.path.exists('./models'):\n",
    "    os.makedirs('./models')\n",
    "\n",
    "# Loop over the number of steps\n",
    "for step in range(n_steps):\n",
    "    model.train()\n",
    "    for batch in train_loader:\n",
    "        # Reset gradients\n",
    "        optimizer.zero_grad()\n",
    "\n",
    "        # Make predictions for this batch\n",
    "        predictions = model(batch)\n",
    "        \n",
    "        # Compute the loss\n",
    "        loss, info = loss_function(\n",
    "            nodes_pred=predictions['node_labels'],\n",
    "            nodes_ref=batch.point_labels,\n",
    "            edges_pred=predictions['edge_labels'],\n",
    "            edges_ref=batch.edge_labels,\n",
    "        )\n",
    "\n",
    "        # Store errors\n",
    "        losses[step] = loss.item()\n",
    "        node_rmse[step] = info[\"node_rmse\"]\n",
    "        edge_rmse[step] = info[\"edge_rmse\"]\n",
    "\n",
    "        # Log the loss and RMSE to TensorBoard\n",
    "        writer.add_scalar('Loss/train', loss.item(), step)\n",
    "        writer.add_scalar('Node RMSE/train', info[\"node_rmse\"], step)\n",
    "        writer.add_scalar('Edge RMSE/train', info[\"edge_rmse\"], step)\n",
    "\n",
    "        # Compute gradients\n",
    "        loss.backward()\n",
    "        \n",
    "        # Update weights\n",
    "        optimizer.step()\n",
    "\n",
    "    model.eval()\n",
    "    with torch.no_grad():\n",
    "        for batch in val_loader:\n",
    "            # Make predictions for this batch\n",
    "            predictions = model(batch)\n",
    "            \n",
    "            # Compute the loss\n",
    "            loss, info = loss_function(\n",
    "                nodes_pred=predictions['node_labels'],\n",
    "                nodes_ref=batch.point_labels,\n",
    "                edges_pred=predictions['edge_labels'],\n",
    "                edges_ref=batch.edge_labels,\n",
    "            )\n",
    "\n",
    "            # Log the validation loss and RMSE to TensorBoard\n",
    "            writer.add_scalar('Loss/val', loss.item(), step)\n",
    "            writer.add_scalar('Node RMSE/val', info[\"node_rmse\"], step)\n",
    "            writer.add_scalar('Edge RMSE/val', info[\"edge_rmse\"], step)\n",
    "\n",
    "    print(f\"Step {step + 1}/{n_steps}, Train Loss: {losses[step]}, Train Node RMSE: {node_rmse[step]}, Train Edge RMSE: {edge_rmse[step]}\")\n",
    "    \n",
    "    # save the model every 20 steps\n",
    "    if (step + 1) % 20 == 0:\n",
    "        torch.save(model.state_dict(), f\"./models/model_{step + 1}.pt\")\n",
    "\n",
    "# Close the writer\n",
    "writer.close()"
   ]
  },
  {
   "cell_type": "code",
   "execution_count": null,
   "metadata": {},
   "outputs": [],
   "source": [
    "import tensorboard"
   ]
  },
  {
   "cell_type": "code",
   "execution_count": null,
   "metadata": {},
   "outputs": [
    {
     "name": "stdout",
     "output_type": "stream",
     "text": [
      "2.2.2\n"
     ]
    }
   ],
   "source": [
    "print(torch.__version__)"
   ]
  },
  {
   "cell_type": "code",
   "execution_count": 94,
   "metadata": {},
   "outputs": [
    {
     "data": {
      "image/png": "[encoded data removed]",
      "text/plain": [
       "<Figure size 1000x618 with 1 Axes>"
      ]
     },
     "metadata": {},
     "output_type": "display_data"
    }
   ],
   "source": [
    "import pandas as pd\n",
    "\n",
    "df = pd.DataFrame(\n",
    "    np.array([losses, node_rmse, edge_rmse]).T,\n",
    "    columns=[\"loss\", \"node_rmse\", \"edge_rmse\"],\n",
    ")\n",
    "\n",
    "# df.plot(backend=\"plotly\").update_layout(\n",
    "#     yaxis_type=\"log\", yaxis_showgrid=True, xaxis_showgrid=True\n",
    "# ).update_layout(\n",
    "#     yaxis_title=\"Value\",\n",
    "#     xaxis_title=\"Training step\",\n",
    "#     title=\"Error evolution during training\",\n",
    "# )\n",
    "\n",
    "# plot the decrease of these errors with a beutiful seaborn plot\n",
    "import seaborn as sns\n",
    "import matplotlib.pyplot as plt\n",
    "\n",
    "sns.set_theme()\n",
    "sns.set_style(\"white\")\n",
    "plt.figure(figsize=(10, 6.18))\n",
    "sns.lineplot(data=df)\n",
    "plt.yscale(\"log\")\n",
    "plt.grid()\n",
    "plt.xlabel(\"Training step\")\n",
    "plt.ylabel(\"Value\")\n",
    "plt.title(\"Error evolution during training\")\n",
    "plt.show()"
   ]
  },
  {
   "cell_type": "code",
   "execution_count": 12,
   "metadata": {},
   "outputs": [
    {
     "name": "stderr",
     "output_type": "stream",
     "text": [
      "dep:0: SislDeprecation:\n",
      "\n",
      "specie is deprecated, use species instead. [>=0.15] [removed in 0.16]\n",
      "\n"
     ]
    },
    {
     "data": {
      "application/vnd.plotly.v1+json": {
       "config": {
        "plotlyServerURL": "https://plot.ly"
       },
       "data": [
        {
         "coloraxis": "coloraxis",
         "hovertemplate": "x: %{x}<br>y: %{y}<br>color: %{z}<extra></extra>",
         "name": "0",
         "texttemplate": "%{z:.2f}",
         "type": "heatmap",
         "xaxis": "x",
         "yaxis": "y",
         "z": [
          [
           2.0609677,
           -0.09465896,
           -0.18807536,
           -0.00028157892,
           -0.0036042838,
           -0.0004486495,
           0.0007157225,
           0.0018130288,
           0.0009830159,
           -0.047652815,
           -0.010428192,
           -0.046053145,
           -0.004564556,
           -0.050351877,
           -0.008622743,
           -0.056121044,
           -0.012485169
          ],
          [
           -0.09465896,
           0.27266133,
           0.29961997,
           0.00078917004,
           0.012799564,
           0.0018659931,
           -0.0010920787,
           0.0012646558,
           0.0006750738,
           0.08783084,
           0.027409324,
           0.08462389,
           0.017111495,
           0.09523076,
           0.027234806,
           0.10968192,
           0.037200797
          ],
          [
           -0.18807536,
           0.29961997,
           0.3342124,
           -0.0002614895,
           -0.009176023,
           0.0008913957,
           -0.0012681986,
           -0.011394542,
           0.00023377137,
           0.10766465,
           0.039346963,
           0.099742025,
           0.024239844,
           0.10443633,
           0.027893841,
           0.10727623,
           0.029215125
          ],
          [
           -0.00028157892,
           0.00078917004,
           -0.0002614895,
           0.3651746,
           0.0055639152,
           0.0003492754,
           0.19754201,
           -0.0058144312,
           -0.0017971952,
           0.045993265,
           0.047867775,
           0.087954745,
           0.088802025,
           -0.24756311,
           -0.21826509,
           0.113057636,
           0.082614616
          ],
          [
           -0.0036042838,
           0.012799564,
           -0.009176023,
           0.0055639152,
           0.364183,
           0.006219347,
           -0.005711824,
           0.19930276,
           0.00058369286,
           -0.16675918,
           -0.1497937,
           -0.08666593,
           -0.08162415,
           0.028024545,
           0.04024842,
           0.21904643,
           0.17986205
          ],
          [
           -0.0004486495,
           0.0018659931,
           0.0008913957,
           0.0003492754,
           0.006219347,
           0.35451618,
           -0.0021611925,
           -0.00006177801,
           0.19905084,
           0.16826057,
           0.15956919,
           -0.21791855,
           -0.19909544,
           -0.022185111,
           -0.009850599,
           0.056872647,
           0.053628992
          ],
          [
           0.0007157225,
           -0.0010920787,
           -0.0012681986,
           0.19754201,
           -0.005711824,
           -0.0021611925,
           0.10708875,
           -0.007874538,
           -0.0022217296,
           0.027415918,
           0.028352281,
           0.050638136,
           0.051162254,
           -0.13496344,
           -0.119165964,
           0.055171516,
           0.03996381
          ],
          [
           0.0018130288,
           0.0012646558,
           -0.011394542,
           -0.0058144312,
           0.19930276,
           -0.00006177801,
           -0.007874538,
           0.109440506,
           -0.0015728924,
           -0.09607008,
           -0.0854437,
           -0.049353518,
           -0.045358323,
           0.01957121,
           0.026889686,
           0.11454858,
           0.09536024
          ],
          [
           0.0009830159,
           0.0006750738,
           0.00023377137,
           -0.0017971952,
           0.00058369286,
           0.19905084,
           -0.0022217296,
           -0.0015728924,
           0.11179595,
           0.09547035,
           0.09051379,
           -0.12226673,
           -0.11166328,
           -0.011462181,
           -0.004710716,
           0.029495146,
           0.028225774
          ],
          [
           -0.047652815,
           0.08783084,
           0.10766465,
           0.045993265,
           -0.16675918,
           0.16826057,
           0.027415918,
           -0.09607008,
           0.09547035,
           0.19718072,
           0.16436361,
           null,
           null,
           null,
           null,
           null,
           null
          ],
          [
           -0.010428192,
           0.027409324,
           0.039346963,
           0.047867775,
           -0.1497937,
           0.15956919,
           0.028352281,
           -0.0854437,
           0.09051379,
           0.16436361,
           0.14636153,
           null,
           null,
           null,
           null,
           null,
           null
          ],
          [
           -0.046053145,
           0.08462389,
           0.099742025,
           0.087954745,
           -0.08666593,
           -0.21791855,
           0.050638136,
           -0.049353518,
           -0.12226673,
           null,
           null,
           0.20363697,
           0.16899063,
           null,
           null,
           null,
           null
          ],
          [
           -0.004564556,
           0.017111495,
           0.024239844,
           0.088802025,
           -0.08162415,
           -0.19909544,
           0.051162254,
           -0.045358323,
           -0.11166328,
           null,
           null,
           0.16899063,
           0.15244292,
           null,
           null,
           null,
           null
          ],
          [
           -0.050351877,
           0.09523076,
           0.10443633,
           -0.24756311,
           0.028024545,
           -0.022185111,
           -0.13496344,
           0.01957121,
           -0.011462181,
           null,
           null,
           null,
           null,
           0.20516671,
           0.16155538,
           null,
           null
          ],
          [
           -0.008622743,
           0.027234806,
           0.027893841,
           -0.21826509,
           0.04024842,
           -0.009850599,
           -0.119165964,
           0.026889686,
           -0.004710716,
           null,
           null,
           null,
           null,
           0.16155538,
           0.13850304,
           null,
           null
          ],
          [
           -0.056121044,
           0.10968192,
           0.10727623,
           0.113057636,
           0.21904643,
           0.056872647,
           0.055171516,
           0.11454858,
           0.029495146,
           null,
           null,
           null,
           null,
           null,
           null,
           0.21072282,
           0.15112779
          ],
          [
           -0.012485169,
           0.037200797,
           0.029215125,
           0.082614616,
           0.17986205,
           0.053628992,
           0.03996381,
           0.09536024,
           0.028225774,
           null,
           null,
           null,
           null,
           null,
           null,
           0.15112779,
           0.1169186
          ]
         ]
        }
       ],
       "layout": {
        "coloraxis": {
         "cmid": 0,
         "colorscale": [
          [
           0,
           "rgb(103,0,31)"
          ],
          [
           0.1,
           "rgb(178,24,43)"
          ],
          [
           0.2,
           "rgb(214,96,77)"
          ],
          [
           0.3,
           "rgb(244,165,130)"
          ],
          [
           0.4,
           "rgb(253,219,199)"
          ],
          [
           0.5,
           "rgb(247,247,247)"
          ],
          [
           0.6,
           "rgb(209,229,240)"
          ],
          [
           0.7,
           "rgb(146,197,222)"
          ],
          [
           0.8,
           "rgb(67,147,195)"
          ],
          [
           0.9,
           "rgb(33,102,172)"
          ],
          [
           1,
           "rgb(5,48,97)"
          ]
         ]
        },
        "height": 600,
        "margin": {
         "t": 60
        },
        "shapes": [
         {
          "line": {
           "color": "#123456"
          },
          "type": "line",
          "x0": 0,
          "x1": 1,
          "xref": "x domain",
          "y0": 8.5,
          "y1": 8.5,
          "yref": "y"
         },
         {
          "line": {
           "color": "#123456"
          },
          "type": "line",
          "x0": 8.5,
          "x1": 8.5,
          "xref": "x",
          "y0": 0,
          "y1": 1,
          "yref": "y domain"
         },
         {
          "line": {
           "color": "#123456"
          },
          "type": "line",
          "x0": 0,
          "x1": 1,
          "xref": "x domain",
          "y0": 10.5,
          "y1": 10.5,
          "yref": "y"
         },
         {
          "line": {
           "color": "#123456"
          },
          "type": "line",
          "x0": 10.5,
          "x1": 10.5,
          "xref": "x",
          "y0": 0,
          "y1": 1,
          "yref": "y domain"
         },
         {
          "line": {
           "color": "#123456"
          },
          "type": "line",
          "x0": 0,
          "x1": 1,
          "xref": "x domain",
          "y0": 12.5,
          "y1": 12.5,
          "yref": "y"
         },
         {
          "line": {
           "color": "#123456"
          },
          "type": "line",
          "x0": 12.5,
          "x1": 12.5,
          "xref": "x",
          "y0": 0,
          "y1": 1,
          "yref": "y domain"
         },
         {
          "line": {
           "color": "#123456"
          },
          "type": "line",
          "x0": 0,
          "x1": 1,
          "xref": "x domain",
          "y0": 14.5,
          "y1": 14.5,
          "yref": "y"
         },
         {
          "line": {
           "color": "#123456"
          },
          "type": "line",
          "x0": 14.5,
          "x1": 14.5,
          "xref": "x",
          "y0": 0,
          "y1": 1,
          "yref": "y domain"
         },
         {
          "line": {
           "color": "#888888",
           "dash": "dot"
          },
          "type": "line",
          "x0": 0,
          "x1": 1,
          "xref": "x domain",
          "y0": 0.5,
          "y1": 0.5,
          "yref": "y"
         },
         {
          "line": {
           "color": "#888888",
           "dash": "dot"
          },
          "type": "line",
          "x0": 0.5,
          "x1": 0.5,
          "xref": "x",
          "y0": 0,
          "y1": 1,
          "yref": "y domain"
         },
         {
          "line": {
           "color": "#888888",
           "dash": "dot"
          },
          "type": "line",
          "x0": 0,
          "x1": 1,
          "xref": "x domain",
          "y0": 1.5,
          "y1": 1.5,
          "yref": "y"
         },
         {
          "line": {
           "color": "#888888",
           "dash": "dot"
          },
          "type": "line",
          "x0": 1.5,
          "x1": 1.5,
          "xref": "x",
          "y0": 0,
          "y1": 1,
          "yref": "y domain"
         },
         {
          "line": {
           "color": "#888888",
           "dash": "dot"
          },
          "type": "line",
          "x0": 0,
          "x1": 1,
          "xref": "x domain",
          "y0": 2.5,
          "y1": 2.5,
          "yref": "y"
         },
         {
          "line": {
           "color": "#888888",
           "dash": "dot"
          },
          "type": "line",
          "x0": 2.5,
          "x1": 2.5,
          "xref": "x",
          "y0": 0,
          "y1": 1,
          "yref": "y domain"
         },
         {
          "line": {
           "color": "#888888",
           "dash": "dot"
          },
          "type": "line",
          "x0": 0,
          "x1": 1,
          "xref": "x domain",
          "y0": 5.5,
          "y1": 5.5,
          "yref": "y"
         },
         {
          "line": {
           "color": "#888888",
           "dash": "dot"
          },
          "type": "line",
          "x0": 5.5,
          "x1": 5.5,
          "xref": "x",
          "y0": 0,
          "y1": 1,
          "yref": "y domain"
         },
         {
          "line": {
           "color": "#888888",
           "dash": "dot"
          },
          "type": "line",
          "x0": 0,
          "x1": 1,
          "xref": "x domain",
          "y0": 9.5,
          "y1": 9.5,
          "yref": "y"
         },
         {
          "line": {
           "color": "#888888",
           "dash": "dot"
          },
          "type": "line",
          "x0": 9.5,
          "x1": 9.5,
          "xref": "x",
          "y0": 0,
          "y1": 1,
          "yref": "y domain"
         },
         {
          "line": {
           "color": "#888888",
           "dash": "dot"
          },
          "type": "line",
          "x0": 0,
          "x1": 1,
          "xref": "x domain",
          "y0": 11.5,
          "y1": 11.5,
          "yref": "y"
         },
         {
          "line": {
           "color": "#888888",
           "dash": "dot"
          },
          "type": "line",
          "x0": 11.5,
          "x1": 11.5,
          "xref": "x",
          "y0": 0,
          "y1": 1,
          "yref": "y domain"
         },
         {
          "line": {
           "color": "#888888",
           "dash": "dot"
          },
          "type": "line",
          "x0": 0,
          "x1": 1,
          "xref": "x domain",
          "y0": 13.5,
          "y1": 13.5,
          "yref": "y"
         },
         {
          "line": {
           "color": "#888888",
           "dash": "dot"
          },
          "type": "line",
          "x0": 13.5,
          "x1": 13.5,
          "xref": "x",
          "y0": 0,
          "y1": 1,
          "yref": "y domain"
         },
         {
          "line": {
           "color": "#888888",
           "dash": "dot"
          },
          "type": "line",
          "x0": 0,
          "x1": 1,
          "xref": "x domain",
          "y0": 15.5,
          "y1": 15.5,
          "yref": "y"
         },
         {
          "line": {
           "color": "#888888",
           "dash": "dot"
          },
          "type": "line",
          "x0": 15.5,
          "x1": 15.5,
          "xref": "x",
          "y0": 0,
          "y1": 1,
          "yref": "y domain"
         }
        ],
        "template": {
         "data": {
          "bar": [
           {
            "error_x": {
             "color": "#2a3f5f"
            },
            "error_y": {
             "color": "#2a3f5f"
            },
            "marker": {
             "line": {
              "color": "#E5ECF6",
              "width": 0.5
             },
             "pattern": {
              "fillmode": "overlay",
              "size": 10,
              "solidity": 0.2
             }
            },
            "type": "bar"
           }
          ],
          "barpolar": [
           {
            "marker": {
             "line": {
              "color": "#E5ECF6",
              "width": 0.5
             },
             "pattern": {
              "fillmode": "overlay",
              "size": 10,
              "solidity": 0.2
             }
            },
            "type": "barpolar"
           }
          ],
          "carpet": [
           {
            "aaxis": {
             "endlinecolor": "#2a3f5f",
             "gridcolor": "white",
             "linecolor": "white",
             "minorgridcolor": "white",
             "startlinecolor": "#2a3f5f"
            },
            "baxis": {
             "endlinecolor": "#2a3f5f",
             "gridcolor": "white",
             "linecolor": "white",
             "minorgridcolor": "white",
             "startlinecolor": "#2a3f5f"
            },
            "type": "carpet"
           }
          ],
          "choropleth": [
           {
            "colorbar": {
             "outlinewidth": 0,
             "ticks": ""
            },
            "type": "choropleth"
           }
          ],
          "contour": [
           {
            "colorbar": {
             "outlinewidth": 0,
             "ticks": ""
            },
            "colorscale": [
             [
              0,
              "#0d0887"
             ],
             [
              0.1111111111111111,
              "#46039f"
             ],
             [
              0.2222222222222222,
              "#7201a8"
             ],
             [
              0.3333333333333333,
              "#9c179e"
             ],
             [
              0.4444444444444444,
              "#bd3786"
             ],
             [
              0.5555555555555556,
              "#d8576b"
             ],
             [
              0.6666666666666666,
              "#ed7953"
             ],
             [
              0.7777777777777778,
              "#fb9f3a"
             ],
             [
              0.8888888888888888,
              "#fdca26"
             ],
             [
              1,
              "#f0f921"
             ]
            ],
            "type": "contour"
           }
          ],
          "contourcarpet": [
           {
            "colorbar": {
             "outlinewidth": 0,
             "ticks": ""
            },
            "type": "contourcarpet"
           }
          ],
          "heatmap": [
           {
            "colorbar": {
             "outlinewidth": 0,
             "ticks": ""
            },
            "colorscale": [
             [
              0,
              "#0d0887"
             ],
             [
              0.1111111111111111,
              "#46039f"
             ],
             [
              0.2222222222222222,
              "#7201a8"
             ],
             [
              0.3333333333333333,
              "#9c179e"
             ],
             [
              0.4444444444444444,
              "#bd3786"
             ],
             [
              0.5555555555555556,
              "#d8576b"
             ],
             [
              0.6666666666666666,
              "#ed7953"
             ],
             [
              0.7777777777777778,
              "#fb9f3a"
             ],
             [
              0.8888888888888888,
              "#fdca26"
             ],
             [
              1,
              "#f0f921"
             ]
            ],
            "type": "heatmap"
           }
          ],
          "heatmapgl": [
           {
            "colorbar": {
             "outlinewidth": 0,
             "ticks": ""
            },
            "colorscale": [
             [
              0,
              "#0d0887"
             ],
             [
              0.1111111111111111,
              "#46039f"
             ],
             [
              0.2222222222222222,
              "#7201a8"
             ],
             [
              0.3333333333333333,
              "#9c179e"
             ],
             [
              0.4444444444444444,
              "#bd3786"
             ],
             [
              0.5555555555555556,
              "#d8576b"
             ],
             [
              0.6666666666666666,
              "#ed7953"
             ],
             [
              0.7777777777777778,
              "#fb9f3a"
             ],
             [
              0.8888888888888888,
              "#fdca26"
             ],
             [
              1,
              "#f0f921"
             ]
            ],
            "type": "heatmapgl"
           }
          ],
          "histogram": [
           {
            "marker": {
             "pattern": {
              "fillmode": "overlay",
              "size": 10,
              "solidity": 0.2
             }
            },
            "type": "histogram"
           }
          ],
          "histogram2d": [
           {
            "colorbar": {
             "outlinewidth": 0,
             "ticks": ""
            },
            "colorscale": [
             [
              0,
              "#0d0887"
             ],
             [
              0.1111111111111111,
              "#46039f"
             ],
             [
              0.2222222222222222,
              "#7201a8"
             ],
             [
              0.3333333333333333,
              "#9c179e"
             ],
             [
              0.4444444444444444,
              "#bd3786"
             ],
             [
              0.5555555555555556,
              "#d8576b"
             ],
             [
              0.6666666666666666,
              "#ed7953"
             ],
             [
              0.7777777777777778,
              "#fb9f3a"
             ],
             [
              0.8888888888888888,
              "#fdca26"
             ],
             [
              1,
              "#f0f921"
             ]
            ],
            "type": "histogram2d"
           }
          ],
          "histogram2dcontour": [
           {
            "colorbar": {
             "outlinewidth": 0,
             "ticks": ""
            },
            "colorscale": [
             [
              0,
              "#0d0887"
             ],
             [
              0.1111111111111111,
              "#46039f"
             ],
             [
              0.2222222222222222,
              "#7201a8"
             ],
             [
              0.3333333333333333,
              "#9c179e"
             ],
             [
              0.4444444444444444,
              "#bd3786"
             ],
             [
              0.5555555555555556,
              "#d8576b"
             ],
             [
              0.6666666666666666,
              "#ed7953"
             ],
             [
              0.7777777777777778,
              "#fb9f3a"
             ],
             [
              0.8888888888888888,
              "#fdca26"
             ],
             [
              1,
              "#f0f921"
             ]
            ],
            "type": "histogram2dcontour"
           }
          ],
          "mesh3d": [
           {
            "colorbar": {
             "outlinewidth": 0,
             "ticks": ""
            },
            "type": "mesh3d"
           }
          ],
          "parcoords": [
           {
            "line": {
             "colorbar": {
              "outlinewidth": 0,
              "ticks": ""
             }
            },
            "type": "parcoords"
           }
          ],
          "pie": [
           {
            "automargin": true,
            "type": "pie"
           }
          ],
          "scatter": [
           {
            "fillpattern": {
             "fillmode": "overlay",
             "size": 10,
             "solidity": 0.2
            },
            "type": "scatter"
           }
          ],
          "scatter3d": [
           {
            "line": {
             "colorbar": {
              "outlinewidth": 0,
              "ticks": ""
             }
            },
            "marker": {
             "colorbar": {
              "outlinewidth": 0,
              "ticks": ""
             }
            },
            "type": "scatter3d"
           }
          ],
          "scattercarpet": [
           {
            "marker": {
             "colorbar": {
              "outlinewidth": 0,
              "ticks": ""
             }
            },
            "type": "scattercarpet"
           }
          ],
          "scattergeo": [
           {
            "marker": {
             "colorbar": {
              "outlinewidth": 0,
              "ticks": ""
             }
            },
            "type": "scattergeo"
           }
          ],
          "scattergl": [
           {
            "marker": {
             "colorbar": {
              "outlinewidth": 0,
              "ticks": ""
             }
            },
            "type": "scattergl"
           }
          ],
          "scattermapbox": [
           {
            "marker": {
             "colorbar": {
              "outlinewidth": 0,
              "ticks": ""
             }
            },
            "type": "scattermapbox"
           }
          ],
          "scatterpolar": [
           {
            "marker": {
             "colorbar": {
              "outlinewidth": 0,
              "ticks": ""
             }
            },
            "type": "scatterpolar"
           }
          ],
          "scatterpolargl": [
           {
            "marker": {
             "colorbar": {
              "outlinewidth": 0,
              "ticks": ""
             }
            },
            "type": "scatterpolargl"
           }
          ],
          "scatterternary": [
           {
            "marker": {
             "colorbar": {
              "outlinewidth": 0,
              "ticks": ""
             }
            },
            "type": "scatterternary"
           }
          ],
          "surface": [
           {
            "colorbar": {
             "outlinewidth": 0,
             "ticks": ""
            },
            "colorscale": [
             [
              0,
              "#0d0887"
             ],
             [
              0.1111111111111111,
              "#46039f"
             ],
             [
              0.2222222222222222,
              "#7201a8"
             ],
             [
              0.3333333333333333,
              "#9c179e"
             ],
             [
              0.4444444444444444,
              "#bd3786"
             ],
             [
              0.5555555555555556,
              "#d8576b"
             ],
             [
              0.6666666666666666,
              "#ed7953"
             ],
             [
              0.7777777777777778,
              "#fb9f3a"
             ],
             [
              0.8888888888888888,
              "#fdca26"
             ],
             [
              1,
              "#f0f921"
             ]
            ],
            "type": "surface"
           }
          ],
          "table": [
           {
            "cells": {
             "fill": {
              "color": "#EBF0F8"
             },
             "line": {
              "color": "white"
             }
            },
            "header": {
             "fill": {
              "color": "#C8D4E3"
             },
             "line": {
              "color": "white"
             }
            },
            "type": "table"
           }
          ]
         },
         "layout": {
          "annotationdefaults": {
           "arrowcolor": "#2a3f5f",
           "arrowhead": 0,
           "arrowwidth": 1
          },
          "autotypenumbers": "strict",
          "coloraxis": {
           "colorbar": {
            "outlinewidth": 0,
            "ticks": ""
           }
          },
          "colorscale": {
           "diverging": [
            [
             0,
             "#8e0152"
            ],
            [
             0.1,
             "#c51b7d"
            ],
            [
             0.2,
             "#de77ae"
            ],
            [
             0.3,
             "#f1b6da"
            ],
            [
             0.4,
             "#fde0ef"
            ],
            [
             0.5,
             "#f7f7f7"
            ],
            [
             0.6,
             "#e6f5d0"
            ],
            [
             0.7,
             "#b8e186"
            ],
            [
             0.8,
             "#7fbc41"
            ],
            [
             0.9,
             "#4d9221"
            ],
            [
             1,
             "#276419"
            ]
           ],
           "sequential": [
            [
             0,
             "#0d0887"
            ],
            [
             0.1111111111111111,
             "#46039f"
            ],
            [
             0.2222222222222222,
             "#7201a8"
            ],
            [
             0.3333333333333333,
             "#9c179e"
            ],
            [
             0.4444444444444444,
             "#bd3786"
            ],
            [
             0.5555555555555556,
             "#d8576b"
            ],
            [
             0.6666666666666666,
             "#ed7953"
            ],
            [
             0.7777777777777778,
             "#fb9f3a"
            ],
            [
             0.8888888888888888,
             "#fdca26"
            ],
            [
             1,
             "#f0f921"
            ]
           ],
           "sequentialminus": [
            [
             0,
             "#0d0887"
            ],
            [
             0.1111111111111111,
             "#46039f"
            ],
            [
             0.2222222222222222,
             "#7201a8"
            ],
            [
             0.3333333333333333,
             "#9c179e"
            ],
            [
             0.4444444444444444,
             "#bd3786"
            ],
            [
             0.5555555555555556,
             "#d8576b"
            ],
            [
             0.6666666666666666,
             "#ed7953"
            ],
            [
             0.7777777777777778,
             "#fb9f3a"
            ],
            [
             0.8888888888888888,
             "#fdca26"
            ],
            [
             1,
             "#f0f921"
            ]
           ]
          },
          "colorway": [
           "#636efa",
           "#EF553B",
           "#00cc96",
           "#ab63fa",
           "#FFA15A",
           "#19d3f3",
           "#FF6692",
           "#B6E880",
           "#FF97FF",
           "#FECB52"
          ],
          "font": {
           "color": "#2a3f5f"
          },
          "geo": {
           "bgcolor": "white",
           "lakecolor": "white",
           "landcolor": "#E5ECF6",
           "showlakes": true,
           "showland": true,
           "subunitcolor": "white"
          },
          "hoverlabel": {
           "align": "left"
          },
          "hovermode": "closest",
          "mapbox": {
           "style": "light"
          },
          "paper_bgcolor": "white",
          "plot_bgcolor": "#E5ECF6",
          "polar": {
           "angularaxis": {
            "gridcolor": "white",
            "linecolor": "white",
            "ticks": ""
           },
           "bgcolor": "#E5ECF6",
           "radialaxis": {
            "gridcolor": "white",
            "linecolor": "white",
            "ticks": ""
           }
          },
          "scene": {
           "xaxis": {
            "backgroundcolor": "#E5ECF6",
            "gridcolor": "white",
            "gridwidth": 2,
            "linecolor": "white",
            "showbackground": true,
            "ticks": "",
            "zerolinecolor": "white"
           },
           "yaxis": {
            "backgroundcolor": "#E5ECF6",
            "gridcolor": "white",
            "gridwidth": 2,
            "linecolor": "white",
            "showbackground": true,
            "ticks": "",
            "zerolinecolor": "white"
           },
           "zaxis": {
            "backgroundcolor": "#E5ECF6",
            "gridcolor": "white",
            "gridwidth": 2,
            "linecolor": "white",
            "showbackground": true,
            "ticks": "",
            "zerolinecolor": "white"
           }
          },
          "shapedefaults": {
           "line": {
            "color": "#2a3f5f"
           }
          },
          "ternary": {
           "aaxis": {
            "gridcolor": "white",
            "linecolor": "white",
            "ticks": ""
           },
           "baxis": {
            "gridcolor": "white",
            "linecolor": "white",
            "ticks": ""
           },
           "bgcolor": "#E5ECF6",
           "caxis": {
            "gridcolor": "white",
            "linecolor": "white",
            "ticks": ""
           }
          },
          "title": {
           "x": 0.05
          },
          "xaxis": {
           "automargin": true,
           "gridcolor": "white",
           "linecolor": "white",
           "ticks": "",
           "title": {
            "standoff": 15
           },
           "zerolinecolor": "white",
           "zerolinewidth": 2
          },
          "yaxis": {
           "automargin": true,
           "gridcolor": "white",
           "linecolor": "white",
           "ticks": "",
           "title": {
            "standoff": 15
           },
           "zerolinecolor": "white",
           "zerolinewidth": 2
          }
         }
        },
        "title": {
         "text": "Target matrix [0]"
        },
        "width": 600,
        "xaxis": {
         "anchor": "y",
         "constrain": "domain",
         "domain": [
          0,
          1
         ],
         "scaleanchor": "y",
         "ticktext": [
          "0: (0, 0)",
          "0: (0, 0)",
          "0: (0, 0)",
          "0: (1, -1)",
          "0: (1, 0)",
          "0: (1, 1)",
          "0: (1, -1)",
          "0: (1, 0)",
          "0: (1, 1)",
          "1: (0, 0)",
          "1: (0, 0)",
          "2: (0, 0)",
          "2: (0, 0)",
          "3: (0, 0)",
          "3: (0, 0)",
          "4: (0, 0)",
          "4: (0, 0)"
         ],
         "tickvals": [
          0,
          1,
          2,
          3,
          4,
          5,
          6,
          7,
          8,
          9,
          10,
          11,
          12,
          13,
          14,
          15,
          16
         ]
        },
        "yaxis": {
         "anchor": "x",
         "autorange": "reversed",
         "constrain": "domain",
         "domain": [
          0,
          1
         ],
         "ticktext": [
          "0: (0, 0)",
          "0: (0, 0)",
          "0: (0, 0)",
          "0: (1, -1)",
          "0: (1, 0)",
          "0: (1, 1)",
          "0: (1, -1)",
          "0: (1, 0)",
          "0: (1, 1)",
          "1: (0, 0)",
          "1: (0, 0)",
          "2: (0, 0)",
          "2: (0, 0)",
          "3: (0, 0)",
          "3: (0, 0)",
          "4: (0, 0)",
          "4: (0, 0)"
         ],
         "tickvals": [
          0,
          1,
          2,
          3,
          4,
          5,
          6,
          7,
          8,
          9,
          10,
          11,
          12,
          13,
          14,
          15,
          16
         ]
        }
       }
      }
     },
     "metadata": {},
     "output_type": "display_data"
    },
    {
     "data": {
      "application/vnd.plotly.v1+json": {
       "config": {
        "plotlyServerURL": "https://plot.ly"
       },
       "data": [
        {
         "coloraxis": "coloraxis",
         "hovertemplate": "x: %{x}<br>y: %{y}<br>color: %{z}<extra></extra>",
         "name": "0",
         "texttemplate": "%{z:.2f}",
         "type": "heatmap",
         "xaxis": "x",
         "yaxis": "y",
         "z": [
          [
           0.5444097,
           -0.34278247,
           -0.20037079,
           0.020730302,
           0.02212708,
           0.0033398503,
           0.000040812127,
           0.0003441372,
           0.000009529715,
           -0.050182737,
           -0.0028277556,
           -0.050034244,
           -0.0026447645,
           -0.052039504,
           -0.005743498,
           -0.05520199,
           -0.013141114
          ],
          [
           -0.0941627,
           0.29672682,
           0.16939375,
           -0.0032878246,
           -0.0044609914,
           -0.00053905416,
           -0.0001388742,
           0.00015817152,
           -0.000019362196,
           0.09050191,
           0.029216966,
           0.09168152,
           0.017283246,
           0.09671673,
           0.025157927,
           0.10801794,
           0.034113925
          ],
          [
           -0.26241478,
           0.40527135,
           0.38901508,
           -0.0035520496,
           -0.00587203,
           -0.00059272087,
           -0.00043495273,
           -0.00019888941,
           -0.00006746662,
           0.10235744,
           0.033271786,
           0.10001575,
           0.019499578,
           0.10405322,
           0.02718496,
           0.11018609,
           0.033680025
          ],
          [
           -0.00046015368,
           -0.0004231115,
           0.0056760274,
           0.20051561,
           -0.04533349,
           -0.0041742995,
           0.27959844,
           0.00009840798,
           -7.2692274e-7,
           -0.0021496846,
           0.00063475315,
           -0.00027003864,
           -0.0007132615,
           -0.00071740296,
           -0.0005962208,
           0.0019306696,
           -0.000006989613
          ],
          [
           0.0005169129,
           0.0020833653,
           -0.004579002,
           -0.04533349,
           0.14237228,
           -0.007642887,
           0.00009840798,
           0.27992094,
           0.000017881343,
           0.0019258441,
           -0.0012200763,
           0.0010133348,
           -0.00012498663,
           -0.00026410192,
           0.00022467699,
           0.000033748653,
           0.00061576464
          ],
          [
           -0.00006422639,
           -0.000043249805,
           0.0008099021,
           -0.0041742995,
           -0.007642887,
           0.22456777,
           -7.2692274e-7,
           0.000017881343,
           0.27960977,
           0.0003207502,
           -0.0003932925,
           -0.00047394147,
           -0.000021632492,
           -0.0007900914,
           0.0001345015,
           0.0015323899,
           0.00018687574
          ],
          [
           -0.011707468,
           0.017301895,
           -0.00007245713,
           0.25242862,
           -0.05254503,
           -0.004864841,
           0.114782855,
           -0.039176058,
           -0.0036005885,
           -0.00011619719,
           0.003097023,
           -0.001330928,
           -0.00011152606,
           -0.0007273598,
           -0.00003703643,
           0.00073371135,
           -0.0007787107
          ],
          [
           -0.023216479,
           0.011764649,
           -0.0008657329,
           -0.05254503,
           0.18556747,
           -0.008855205,
           -0.039176058,
           0.064401776,
           -0.0066056782,
           -0.0025217952,
           -0.0025511433,
           -0.0021548178,
           0.00048074624,
           -0.0008357319,
           0.0008563655,
           0.00029866368,
           0.0008114849
          ],
          [
           -0.0019915586,
           0.0027216144,
           -0.000019422994,
           -0.004864841,
           -0.008855205,
           0.28047895,
           -0.0036005885,
           -0.0066056782,
           0.1355244,
           -0.00041795766,
           -0.00073673634,
           0.00020034183,
           0.000025625164,
           -0.00045766233,
           0.0010858338,
           0.0005286276,
           -0.0005144157
          ],
          [
           -0.050182737,
           0.09050191,
           0.10235744,
           -0.0021496846,
           0.0019258441,
           0.0003207502,
           -0.00011619719,
           -0.0025217952,
           -0.00041795766,
           0.22315288,
           0.15860972,
           null,
           null,
           null,
           null,
           null,
           null
          ],
          [
           -0.0028277556,
           0.029216966,
           0.033271786,
           0.00063475315,
           -0.0012200763,
           -0.0003932925,
           0.003097023,
           -0.0025511433,
           -0.00073673634,
           0.16807675,
           0.040226094,
           null,
           null,
           null,
           null,
           null,
           null
          ],
          [
           -0.050034244,
           0.09168152,
           0.10001575,
           -0.00027003864,
           0.0010133348,
           -0.00047394147,
           -0.001330928,
           -0.0021548178,
           0.00020034183,
           null,
           null,
           0.21751896,
           0.16178821,
           null,
           null,
           null,
           null
          ],
          [
           -0.0026447645,
           0.017283246,
           0.019499578,
           -0.0007132615,
           -0.00012498663,
           -0.000021632492,
           -0.00011152606,
           0.00048074624,
           0.000025625164,
           null,
           null,
           0.16470513,
           0.03934493,
           null,
           null,
           null,
           null
          ],
          [
           -0.052039504,
           0.09671673,
           0.10405322,
           -0.00071740296,
           -0.00026410192,
           -0.0007900914,
           -0.0007273598,
           -0.0008357319,
           -0.00045766233,
           null,
           null,
           null,
           null,
           0.22651263,
           0.16260019,
           null,
           null
          ],
          [
           -0.005743498,
           0.025157927,
           0.02718496,
           -0.0005962208,
           0.00022467699,
           0.0001345015,
           -0.00003703643,
           0.0008563655,
           0.0010858338,
           null,
           null,
           null,
           null,
           0.1717011,
           0.040871765,
           null,
           null
          ],
          [
           -0.05520199,
           0.10801794,
           0.11018609,
           0.0019306696,
           0.000033748653,
           0.0015323899,
           0.00073371135,
           0.00029866368,
           0.0005286276,
           null,
           null,
           null,
           null,
           null,
           null,
           0.23741914,
           0.16788471
          ],
          [
           -0.013141114,
           0.034113925,
           0.033680025,
           -0.000006989613,
           0.00061576464,
           0.00018687574,
           -0.0007787107,
           0.0008114849,
           -0.0005144157,
           null,
           null,
           null,
           null,
           null,
           null,
           0.17698829,
           0.042791758
          ]
         ]
        }
       ],
       "layout": {
        "coloraxis": {
         "cmid": 0,
         "colorscale": [
          [
           0,
           "rgb(103,0,31)"
          ],
          [
           0.1,
           "rgb(178,24,43)"
          ],
          [
           0.2,
           "rgb(214,96,77)"
          ],
          [
           0.3,
           "rgb(244,165,130)"
          ],
          [
           0.4,
           "rgb(253,219,199)"
          ],
          [
           0.5,
           "rgb(247,247,247)"
          ],
          [
           0.6,
           "rgb(209,229,240)"
          ],
          [
           0.7,
           "rgb(146,197,222)"
          ],
          [
           0.8,
           "rgb(67,147,195)"
          ],
          [
           0.9,
           "rgb(33,102,172)"
          ],
          [
           1,
           "rgb(5,48,97)"
          ]
         ]
        },
        "height": 600,
        "margin": {
         "t": 60
        },
        "shapes": [
         {
          "line": {
           "color": "#123456"
          },
          "type": "line",
          "x0": 0,
          "x1": 1,
          "xref": "x domain",
          "y0": 8.5,
          "y1": 8.5,
          "yref": "y"
         },
         {
          "line": {
           "color": "#123456"
          },
          "type": "line",
          "x0": 8.5,
          "x1": 8.5,
          "xref": "x",
          "y0": 0,
          "y1": 1,
          "yref": "y domain"
         },
         {
          "line": {
           "color": "#123456"
          },
          "type": "line",
          "x0": 0,
          "x1": 1,
          "xref": "x domain",
          "y0": 10.5,
          "y1": 10.5,
          "yref": "y"
         },
         {
          "line": {
           "color": "#123456"
          },
          "type": "line",
          "x0": 10.5,
          "x1": 10.5,
          "xref": "x",
          "y0": 0,
          "y1": 1,
          "yref": "y domain"
         },
         {
          "line": {
           "color": "#123456"
          },
          "type": "line",
          "x0": 0,
          "x1": 1,
          "xref": "x domain",
          "y0": 12.5,
          "y1": 12.5,
          "yref": "y"
         },
         {
          "line": {
           "color": "#123456"
          },
          "type": "line",
          "x0": 12.5,
          "x1": 12.5,
          "xref": "x",
          "y0": 0,
          "y1": 1,
          "yref": "y domain"
         },
         {
          "line": {
           "color": "#123456"
          },
          "type": "line",
          "x0": 0,
          "x1": 1,
          "xref": "x domain",
          "y0": 14.5,
          "y1": 14.5,
          "yref": "y"
         },
         {
          "line": {
           "color": "#123456"
          },
          "type": "line",
          "x0": 14.5,
          "x1": 14.5,
          "xref": "x",
          "y0": 0,
          "y1": 1,
          "yref": "y domain"
         },
         {
          "line": {
           "color": "#888888",
           "dash": "dot"
          },
          "type": "line",
          "x0": 0,
          "x1": 1,
          "xref": "x domain",
          "y0": 0.5,
          "y1": 0.5,
          "yref": "y"
         },
         {
          "line": {
           "color": "#888888",
           "dash": "dot"
          },
          "type": "line",
          "x0": 0.5,
          "x1": 0.5,
          "xref": "x",
          "y0": 0,
          "y1": 1,
          "yref": "y domain"
         },
         {
          "line": {
           "color": "#888888",
           "dash": "dot"
          },
          "type": "line",
          "x0": 0,
          "x1": 1,
          "xref": "x domain",
          "y0": 1.5,
          "y1": 1.5,
          "yref": "y"
         },
         {
          "line": {
           "color": "#888888",
           "dash": "dot"
          },
          "type": "line",
          "x0": 1.5,
          "x1": 1.5,
          "xref": "x",
          "y0": 0,
          "y1": 1,
          "yref": "y domain"
         },
         {
          "line": {
           "color": "#888888",
           "dash": "dot"
          },
          "type": "line",
          "x0": 0,
          "x1": 1,
          "xref": "x domain",
          "y0": 2.5,
          "y1": 2.5,
          "yref": "y"
         },
         {
          "line": {
           "color": "#888888",
           "dash": "dot"
          },
          "type": "line",
          "x0": 2.5,
          "x1": 2.5,
          "xref": "x",
          "y0": 0,
          "y1": 1,
          "yref": "y domain"
         },
         {
          "line": {
           "color": "#888888",
           "dash": "dot"
          },
          "type": "line",
          "x0": 0,
          "x1": 1,
          "xref": "x domain",
          "y0": 5.5,
          "y1": 5.5,
          "yref": "y"
         },
         {
          "line": {
           "color": "#888888",
           "dash": "dot"
          },
          "type": "line",
          "x0": 5.5,
          "x1": 5.5,
          "xref": "x",
          "y0": 0,
          "y1": 1,
          "yref": "y domain"
         },
         {
          "line": {
           "color": "#888888",
           "dash": "dot"
          },
          "type": "line",
          "x0": 0,
          "x1": 1,
          "xref": "x domain",
          "y0": 9.5,
          "y1": 9.5,
          "yref": "y"
         },
         {
          "line": {
           "color": "#888888",
           "dash": "dot"
          },
          "type": "line",
          "x0": 9.5,
          "x1": 9.5,
          "xref": "x",
          "y0": 0,
          "y1": 1,
          "yref": "y domain"
         },
         {
          "line": {
           "color": "#888888",
           "dash": "dot"
          },
          "type": "line",
          "x0": 0,
          "x1": 1,
          "xref": "x domain",
          "y0": 11.5,
          "y1": 11.5,
          "yref": "y"
         },
         {
          "line": {
           "color": "#888888",
           "dash": "dot"
          },
          "type": "line",
          "x0": 11.5,
          "x1": 11.5,
          "xref": "x",
          "y0": 0,
          "y1": 1,
          "yref": "y domain"
         },
         {
          "line": {
           "color": "#888888",
           "dash": "dot"
          },
          "type": "line",
          "x0": 0,
          "x1": 1,
          "xref": "x domain",
          "y0": 13.5,
          "y1": 13.5,
          "yref": "y"
         },
         {
          "line": {
           "color": "#888888",
           "dash": "dot"
          },
          "type": "line",
          "x0": 13.5,
          "x1": 13.5,
          "xref": "x",
          "y0": 0,
          "y1": 1,
          "yref": "y domain"
         },
         {
          "line": {
           "color": "#888888",
           "dash": "dot"
          },
          "type": "line",
          "x0": 0,
          "x1": 1,
          "xref": "x domain",
          "y0": 15.5,
          "y1": 15.5,
          "yref": "y"
         },
         {
          "line": {
           "color": "#888888",
           "dash": "dot"
          },
          "type": "line",
          "x0": 15.5,
          "x1": 15.5,
          "xref": "x",
          "y0": 0,
          "y1": 1,
          "yref": "y domain"
         }
        ],
        "template": {
         "data": {
          "bar": [
           {
            "error_x": {
             "color": "#2a3f5f"
            },
            "error_y": {
             "color": "#2a3f5f"
            },
            "marker": {
             "line": {
              "color": "#E5ECF6",
              "width": 0.5
             },
             "pattern": {
              "fillmode": "overlay",
              "size": 10,
              "solidity": 0.2
             }
            },
            "type": "bar"
           }
          ],
          "barpolar": [
           {
            "marker": {
             "line": {
              "color": "#E5ECF6",
              "width": 0.5
             },
             "pattern": {
              "fillmode": "overlay",
              "size": 10,
              "solidity": 0.2
             }
            },
            "type": "barpolar"
           }
          ],
          "carpet": [
           {
            "aaxis": {
             "endlinecolor": "#2a3f5f",
             "gridcolor": "white",
             "linecolor": "white",
             "minorgridcolor": "white",
             "startlinecolor": "#2a3f5f"
            },
            "baxis": {
             "endlinecolor": "#2a3f5f",
             "gridcolor": "white",
             "linecolor": "white",
             "minorgridcolor": "white",
             "startlinecolor": "#2a3f5f"
            },
            "type": "carpet"
           }
          ],
          "choropleth": [
           {
            "colorbar": {
             "outlinewidth": 0,
             "ticks": ""
            },
            "type": "choropleth"
           }
          ],
          "contour": [
           {
            "colorbar": {
             "outlinewidth": 0,
             "ticks": ""
            },
            "colorscale": [
             [
              0,
              "#0d0887"
             ],
             [
              0.1111111111111111,
              "#46039f"
             ],
             [
              0.2222222222222222,
              "#7201a8"
             ],
             [
              0.3333333333333333,
              "#9c179e"
             ],
             [
              0.4444444444444444,
              "#bd3786"
             ],
             [
              0.5555555555555556,
              "#d8576b"
             ],
             [
              0.6666666666666666,
              "#ed7953"
             ],
             [
              0.7777777777777778,
              "#fb9f3a"
             ],
             [
              0.8888888888888888,
              "#fdca26"
             ],
             [
              1,
              "#f0f921"
             ]
            ],
            "type": "contour"
           }
          ],
          "contourcarpet": [
           {
            "colorbar": {
             "outlinewidth": 0,
             "ticks": ""
            },
            "type": "contourcarpet"
           }
          ],
          "heatmap": [
           {
            "colorbar": {
             "outlinewidth": 0,
             "ticks": ""
            },
            "colorscale": [
             [
              0,
              "#0d0887"
             ],
             [
              0.1111111111111111,
              "#46039f"
             ],
             [
              0.2222222222222222,
              "#7201a8"
             ],
             [
              0.3333333333333333,
              "#9c179e"
             ],
             [
              0.4444444444444444,
              "#bd3786"
             ],
             [
              0.5555555555555556,
              "#d8576b"
             ],
             [
              0.6666666666666666,
              "#ed7953"
             ],
             [
              0.7777777777777778,
              "#fb9f3a"
             ],
             [
              0.8888888888888888,
              "#fdca26"
             ],
             [
              1,
              "#f0f921"
             ]
            ],
            "type": "heatmap"
           }
          ],
          "heatmapgl": [
           {
            "colorbar": {
             "outlinewidth": 0,
             "ticks": ""
            },
            "colorscale": [
             [
              0,
              "#0d0887"
             ],
             [
              0.1111111111111111,
              "#46039f"
             ],
             [
              0.2222222222222222,
              "#7201a8"
             ],
             [
              0.3333333333333333,
              "#9c179e"
             ],
             [
              0.4444444444444444,
              "#bd3786"
             ],
             [
              0.5555555555555556,
              "#d8576b"
             ],
             [
              0.6666666666666666,
              "#ed7953"
             ],
             [
              0.7777777777777778,
              "#fb9f3a"
             ],
             [
              0.8888888888888888,
              "#fdca26"
             ],
             [
              1,
              "#f0f921"
             ]
            ],
            "type": "heatmapgl"
           }
          ],
          "histogram": [
           {
            "marker": {
             "pattern": {
              "fillmode": "overlay",
              "size": 10,
              "solidity": 0.2
             }
            },
            "type": "histogram"
           }
          ],
          "histogram2d": [
           {
            "colorbar": {
             "outlinewidth": 0,
             "ticks": ""
            },
            "colorscale": [
             [
              0,
              "#0d0887"
             ],
             [
              0.1111111111111111,
              "#46039f"
             ],
             [
              0.2222222222222222,
              "#7201a8"
             ],
             [
              0.3333333333333333,
              "#9c179e"
             ],
             [
              0.4444444444444444,
              "#bd3786"
             ],
             [
              0.5555555555555556,
              "#d8576b"
             ],
             [
              0.6666666666666666,
              "#ed7953"
             ],
             [
              0.7777777777777778,
              "#fb9f3a"
             ],
             [
              0.8888888888888888,
              "#fdca26"
             ],
             [
              1,
              "#f0f921"
             ]
            ],
            "type": "histogram2d"
           }
          ],
          "histogram2dcontour": [
           {
            "colorbar": {
             "outlinewidth": 0,
             "ticks": ""
            },
            "colorscale": [
             [
              0,
              "#0d0887"
             ],
             [
              0.1111111111111111,
              "#46039f"
             ],
             [
              0.2222222222222222,
              "#7201a8"
             ],
             [
              0.3333333333333333,
              "#9c179e"
             ],
             [
              0.4444444444444444,
              "#bd3786"
             ],
             [
              0.5555555555555556,
              "#d8576b"
             ],
             [
              0.6666666666666666,
              "#ed7953"
             ],
             [
              0.7777777777777778,
              "#fb9f3a"
             ],
             [
              0.8888888888888888,
              "#fdca26"
             ],
             [
              1,
              "#f0f921"
             ]
            ],
            "type": "histogram2dcontour"
           }
          ],
          "mesh3d": [
           {
            "colorbar": {
             "outlinewidth": 0,
             "ticks": ""
            },
            "type": "mesh3d"
           }
          ],
          "parcoords": [
           {
            "line": {
             "colorbar": {
              "outlinewidth": 0,
              "ticks": ""
             }
            },
            "type": "parcoords"
           }
          ],
          "pie": [
           {
            "automargin": true,
            "type": "pie"
           }
          ],
          "scatter": [
           {
            "fillpattern": {
             "fillmode": "overlay",
             "size": 10,
             "solidity": 0.2
            },
            "type": "scatter"
           }
          ],
          "scatter3d": [
           {
            "line": {
             "colorbar": {
              "outlinewidth": 0,
              "ticks": ""
             }
            },
            "marker": {
             "colorbar": {
              "outlinewidth": 0,
              "ticks": ""
             }
            },
            "type": "scatter3d"
           }
          ],
          "scattercarpet": [
           {
            "marker": {
             "colorbar": {
              "outlinewidth": 0,
              "ticks": ""
             }
            },
            "type": "scattercarpet"
           }
          ],
          "scattergeo": [
           {
            "marker": {
             "colorbar": {
              "outlinewidth": 0,
              "ticks": ""
             }
            },
            "type": "scattergeo"
           }
          ],
          "scattergl": [
           {
            "marker": {
             "colorbar": {
              "outlinewidth": 0,
              "ticks": ""
             }
            },
            "type": "scattergl"
           }
          ],
          "scattermapbox": [
           {
            "marker": {
             "colorbar": {
              "outlinewidth": 0,
              "ticks": ""
             }
            },
            "type": "scattermapbox"
           }
          ],
          "scatterpolar": [
           {
            "marker": {
             "colorbar": {
              "outlinewidth": 0,
              "ticks": ""
             }
            },
            "type": "scatterpolar"
           }
          ],
          "scatterpolargl": [
           {
            "marker": {
             "colorbar": {
              "outlinewidth": 0,
              "ticks": ""
             }
            },
            "type": "scatterpolargl"
           }
          ],
          "scatterternary": [
           {
            "marker": {
             "colorbar": {
              "outlinewidth": 0,
              "ticks": ""
             }
            },
            "type": "scatterternary"
           }
          ],
          "surface": [
           {
            "colorbar": {
             "outlinewidth": 0,
             "ticks": ""
            },
            "colorscale": [
             [
              0,
              "#0d0887"
             ],
             [
              0.1111111111111111,
              "#46039f"
             ],
             [
              0.2222222222222222,
              "#7201a8"
             ],
             [
              0.3333333333333333,
              "#9c179e"
             ],
             [
              0.4444444444444444,
              "#bd3786"
             ],
             [
              0.5555555555555556,
              "#d8576b"
             ],
             [
              0.6666666666666666,
              "#ed7953"
             ],
             [
              0.7777777777777778,
              "#fb9f3a"
             ],
             [
              0.8888888888888888,
              "#fdca26"
             ],
             [
              1,
              "#f0f921"
             ]
            ],
            "type": "surface"
           }
          ],
          "table": [
           {
            "cells": {
             "fill": {
              "color": "#EBF0F8"
             },
             "line": {
              "color": "white"
             }
            },
            "header": {
             "fill": {
              "color": "#C8D4E3"
             },
             "line": {
              "color": "white"
             }
            },
            "type": "table"
           }
          ]
         },
         "layout": {
          "annotationdefaults": {
           "arrowcolor": "#2a3f5f",
           "arrowhead": 0,
           "arrowwidth": 1
          },
          "autotypenumbers": "strict",
          "coloraxis": {
           "colorbar": {
            "outlinewidth": 0,
            "ticks": ""
           }
          },
          "colorscale": {
           "diverging": [
            [
             0,
             "#8e0152"
            ],
            [
             0.1,
             "#c51b7d"
            ],
            [
             0.2,
             "#de77ae"
            ],
            [
             0.3,
             "#f1b6da"
            ],
            [
             0.4,
             "#fde0ef"
            ],
            [
             0.5,
             "#f7f7f7"
            ],
            [
             0.6,
             "#e6f5d0"
            ],
            [
             0.7,
             "#b8e186"
            ],
            [
             0.8,
             "#7fbc41"
            ],
            [
             0.9,
             "#4d9221"
            ],
            [
             1,
             "#276419"
            ]
           ],
           "sequential": [
            [
             0,
             "#0d0887"
            ],
            [
             0.1111111111111111,
             "#46039f"
            ],
            [
             0.2222222222222222,
             "#7201a8"
            ],
            [
             0.3333333333333333,
             "#9c179e"
            ],
            [
             0.4444444444444444,
             "#bd3786"
            ],
            [
             0.5555555555555556,
             "#d8576b"
            ],
            [
             0.6666666666666666,
             "#ed7953"
            ],
            [
             0.7777777777777778,
             "#fb9f3a"
            ],
            [
             0.8888888888888888,
             "#fdca26"
            ],
            [
             1,
             "#f0f921"
            ]
           ],
           "sequentialminus": [
            [
             0,
             "#0d0887"
            ],
            [
             0.1111111111111111,
             "#46039f"
            ],
            [
             0.2222222222222222,
             "#7201a8"
            ],
            [
             0.3333333333333333,
             "#9c179e"
            ],
            [
             0.4444444444444444,
             "#bd3786"
            ],
            [
             0.5555555555555556,
             "#d8576b"
            ],
            [
             0.6666666666666666,
             "#ed7953"
            ],
            [
             0.7777777777777778,
             "#fb9f3a"
            ],
            [
             0.8888888888888888,
             "#fdca26"
            ],
            [
             1,
             "#f0f921"
            ]
           ]
          },
          "colorway": [
           "#636efa",
           "#EF553B",
           "#00cc96",
           "#ab63fa",
           "#FFA15A",
           "#19d3f3",
           "#FF6692",
           "#B6E880",
           "#FF97FF",
           "#FECB52"
          ],
          "font": {
           "color": "#2a3f5f"
          },
          "geo": {
           "bgcolor": "white",
           "lakecolor": "white",
           "landcolor": "#E5ECF6",
           "showlakes": true,
           "showland": true,
           "subunitcolor": "white"
          },
          "hoverlabel": {
           "align": "left"
          },
          "hovermode": "closest",
          "mapbox": {
           "style": "light"
          },
          "paper_bgcolor": "white",
          "plot_bgcolor": "#E5ECF6",
          "polar": {
           "angularaxis": {
            "gridcolor": "white",
            "linecolor": "white",
            "ticks": ""
           },
           "bgcolor": "#E5ECF6",
           "radialaxis": {
            "gridcolor": "white",
            "linecolor": "white",
            "ticks": ""
           }
          },
          "scene": {
           "xaxis": {
            "backgroundcolor": "#E5ECF6",
            "gridcolor": "white",
            "gridwidth": 2,
            "linecolor": "white",
            "showbackground": true,
            "ticks": "",
            "zerolinecolor": "white"
           },
           "yaxis": {
            "backgroundcolor": "#E5ECF6",
            "gridcolor": "white",
            "gridwidth": 2,
            "linecolor": "white",
            "showbackground": true,
            "ticks": "",
            "zerolinecolor": "white"
           },
           "zaxis": {
            "backgroundcolor": "#E5ECF6",
            "gridcolor": "white",
            "gridwidth": 2,
            "linecolor": "white",
            "showbackground": true,
            "ticks": "",
            "zerolinecolor": "white"
           }
          },
          "shapedefaults": {
           "line": {
            "color": "#2a3f5f"
           }
          },
          "ternary": {
           "aaxis": {
            "gridcolor": "white",
            "linecolor": "white",
            "ticks": ""
           },
           "baxis": {
            "gridcolor": "white",
            "linecolor": "white",
            "ticks": ""
           },
           "bgcolor": "#E5ECF6",
           "caxis": {
            "gridcolor": "white",
            "linecolor": "white",
            "ticks": ""
           }
          },
          "title": {
           "x": 0.05
          },
          "xaxis": {
           "automargin": true,
           "gridcolor": "white",
           "linecolor": "white",
           "ticks": "",
           "title": {
            "standoff": 15
           },
           "zerolinecolor": "white",
           "zerolinewidth": 2
          },
          "yaxis": {
           "automargin": true,
           "gridcolor": "white",
           "linecolor": "white",
           "ticks": "",
           "title": {
            "standoff": 15
           },
           "zerolinecolor": "white",
           "zerolinewidth": 2
          }
         }
        },
        "title": {
         "text": "Prediction after 100 training steps [0]"
        },
        "width": 600,
        "xaxis": {
         "anchor": "y",
         "constrain": "domain",
         "domain": [
          0,
          1
         ],
         "scaleanchor": "y",
         "ticktext": [
          "0: (0, 0)",
          "0: (0, 0)",
          "0: (0, 0)",
          "0: (1, -1)",
          "0: (1, 0)",
          "0: (1, 1)",
          "0: (1, -1)",
          "0: (1, 0)",
          "0: (1, 1)",
          "1: (0, 0)",
          "1: (0, 0)",
          "2: (0, 0)",
          "2: (0, 0)",
          "3: (0, 0)",
          "3: (0, 0)",
          "4: (0, 0)",
          "4: (0, 0)"
         ],
         "tickvals": [
          0,
          1,
          2,
          3,
          4,
          5,
          6,
          7,
          8,
          9,
          10,
          11,
          12,
          13,
          14,
          15,
          16
         ]
        },
        "yaxis": {
         "anchor": "x",
         "autorange": "reversed",
         "constrain": "domain",
         "domain": [
          0,
          1
         ],
         "ticktext": [
          "0: (0, 0)",
          "0: (0, 0)",
          "0: (0, 0)",
          "0: (1, -1)",
          "0: (1, 0)",
          "0: (1, 1)",
          "0: (1, -1)",
          "0: (1, 0)",
          "0: (1, 1)",
          "1: (0, 0)",
          "1: (0, 0)",
          "2: (0, 0)",
          "2: (0, 0)",
          "3: (0, 0)",
          "3: (0, 0)",
          "4: (0, 0)",
          "4: (0, 0)"
         ],
         "tickvals": [
          0,
          1,
          2,
          3,
          4,
          5,
          6,
          7,
          8,
          9,
          10,
          11,
          12,
          13,
          14,
          15,
          16
         ]
        }
       }
      }
     },
     "metadata": {},
     "output_type": "display_data"
    }
   ],
   "source": [
    "predictions = model(data_0)\n",
    "\n",
    "plot_matrices(data_0, title=f\"Target matrix\", show=0)\n",
    "plot_matrices(\n",
    "    data_0,\n",
    "    predictions={\n",
    "        \"node_labels\": predictions['node_labels'],\n",
    "        \"edge_labels\": predictions['edge_labels'],\n",
    "    },\n",
    "    title=f\"Prediction after {n_steps} training steps\",\n",
    "    show=0,\n",
    ")"
   ]
  },
  {
   "cell_type": "code",
   "execution_count": 83,
   "metadata": {},
   "outputs": [
    {
     "name": "stderr",
     "output_type": "stream",
     "text": [
      "/Users/royalty/miniconda3/lib/python3.11/site-packages/torch/jit/_check.py:177: UserWarning:\n",
      "\n",
      "The TorchScript type system doesn't support instance-level annotations on empty non-base types in `__init__`. Instead, either 1) use a type annotation in the class body, or 2) wrap the type in `torch.jit.Attribute`.\n",
      "\n",
      "/Users/royalty/miniconda3/lib/python3.11/site-packages/torch/jit/_check.py:177: UserWarning:\n",
      "\n",
      "The TorchScript type system doesn't support instance-level annotations on empty non-base types in `__init__`. Instead, either 1) use a type annotation in the class body, or 2) wrap the type in `torch.jit.Attribute`.\n",
      "\n",
      "/Users/royalty/miniconda3/lib/python3.11/site-packages/torch/jit/_check.py:177: UserWarning:\n",
      "\n",
      "The TorchScript type system doesn't support instance-level annotations on empty non-base types in `__init__`. Instead, either 1) use a type annotation in the class body, or 2) wrap the type in `torch.jit.Attribute`.\n",
      "\n",
      "/Users/royalty/miniconda3/lib/python3.11/site-packages/torch/jit/_check.py:177: UserWarning:\n",
      "\n",
      "The TorchScript type system doesn't support instance-level annotations on empty non-base types in `__init__`. Instead, either 1) use a type annotation in the class body, or 2) wrap the type in `torch.jit.Attribute`.\n",
      "\n",
      "/Users/royalty/miniconda3/lib/python3.11/site-packages/torch/jit/_check.py:177: UserWarning:\n",
      "\n",
      "The TorchScript type system doesn't support instance-level annotations on empty non-base types in `__init__`. Instead, either 1) use a type annotation in the class body, or 2) wrap the type in `torch.jit.Attribute`.\n",
      "\n",
      "/Users/royalty/miniconda3/lib/python3.11/site-packages/torch/jit/_check.py:177: UserWarning:\n",
      "\n",
      "The TorchScript type system doesn't support instance-level annotations on empty non-base types in `__init__`. Instead, either 1) use a type annotation in the class body, or 2) wrap the type in `torch.jit.Attribute`.\n",
      "\n",
      "/Users/royalty/miniconda3/lib/python3.11/site-packages/torch/jit/_check.py:177: UserWarning:\n",
      "\n",
      "The TorchScript type system doesn't support instance-level annotations on empty non-base types in `__init__`. Instead, either 1) use a type annotation in the class body, or 2) wrap the type in `torch.jit.Attribute`.\n",
      "\n",
      "/Users/royalty/miniconda3/lib/python3.11/site-packages/torch/jit/_check.py:177: UserWarning:\n",
      "\n",
      "The TorchScript type system doesn't support instance-level annotations on empty non-base types in `__init__`. Instead, either 1) use a type annotation in the class body, or 2) wrap the type in `torch.jit.Attribute`.\n",
      "\n",
      "/Users/royalty/miniconda3/lib/python3.11/site-packages/torch/jit/_check.py:177: UserWarning:\n",
      "\n",
      "The TorchScript type system doesn't support instance-level annotations on empty non-base types in `__init__`. Instead, either 1) use a type annotation in the class body, or 2) wrap the type in `torch.jit.Attribute`.\n",
      "\n",
      "/Users/royalty/miniconda3/lib/python3.11/site-packages/torch/jit/_check.py:177: UserWarning:\n",
      "\n",
      "The TorchScript type system doesn't support instance-level annotations on empty non-base types in `__init__`. Instead, either 1) use a type annotation in the class body, or 2) wrap the type in `torch.jit.Attribute`.\n",
      "\n",
      "/Users/royalty/miniconda3/lib/python3.11/site-packages/torch/jit/_check.py:177: UserWarning:\n",
      "\n",
      "The TorchScript type system doesn't support instance-level annotations on empty non-base types in `__init__`. Instead, either 1) use a type annotation in the class body, or 2) wrap the type in `torch.jit.Attribute`.\n",
      "\n",
      "/Users/royalty/miniconda3/lib/python3.11/site-packages/torch/jit/_check.py:177: UserWarning:\n",
      "\n",
      "The TorchScript type system doesn't support instance-level annotations on empty non-base types in `__init__`. Instead, either 1) use a type annotation in the class body, or 2) wrap the type in `torch.jit.Attribute`.\n",
      "\n",
      "/Users/royalty/miniconda3/lib/python3.11/site-packages/torch/jit/_check.py:177: UserWarning:\n",
      "\n",
      "The TorchScript type system doesn't support instance-level annotations on empty non-base types in `__init__`. Instead, either 1) use a type annotation in the class body, or 2) wrap the type in `torch.jit.Attribute`.\n",
      "\n",
      "/Users/royalty/miniconda3/lib/python3.11/site-packages/torch/jit/_check.py:177: UserWarning:\n",
      "\n",
      "The TorchScript type system doesn't support instance-level annotations on empty non-base types in `__init__`. Instead, either 1) use a type annotation in the class body, or 2) wrap the type in `torch.jit.Attribute`.\n",
      "\n",
      "/Users/royalty/miniconda3/lib/python3.11/site-packages/torch/jit/_check.py:177: UserWarning:\n",
      "\n",
      "The TorchScript type system doesn't support instance-level annotations on empty non-base types in `__init__`. Instead, either 1) use a type annotation in the class body, or 2) wrap the type in `torch.jit.Attribute`.\n",
      "\n",
      "/Users/royalty/miniconda3/lib/python3.11/site-packages/torch/jit/_check.py:177: UserWarning:\n",
      "\n",
      "The TorchScript type system doesn't support instance-level annotations on empty non-base types in `__init__`. Instead, either 1) use a type annotation in the class body, or 2) wrap the type in `torch.jit.Attribute`.\n",
      "\n",
      "/Users/royalty/miniconda3/lib/python3.11/site-packages/torch/jit/_check.py:177: UserWarning:\n",
      "\n",
      "The TorchScript type system doesn't support instance-level annotations on empty non-base types in `__init__`. Instead, either 1) use a type annotation in the class body, or 2) wrap the type in `torch.jit.Attribute`.\n",
      "\n",
      "/Users/royalty/miniconda3/lib/python3.11/site-packages/torch/jit/_check.py:177: UserWarning:\n",
      "\n",
      "The TorchScript type system doesn't support instance-level annotations on empty non-base types in `__init__`. Instead, either 1) use a type annotation in the class body, or 2) wrap the type in `torch.jit.Attribute`.\n",
      "\n",
      "/Users/royalty/miniconda3/lib/python3.11/site-packages/torch/jit/_check.py:177: UserWarning:\n",
      "\n",
      "The TorchScript type system doesn't support instance-level annotations on empty non-base types in `__init__`. Instead, either 1) use a type annotation in the class body, or 2) wrap the type in `torch.jit.Attribute`.\n",
      "\n",
      "/Users/royalty/miniconda3/lib/python3.11/site-packages/torch/jit/_check.py:177: UserWarning:\n",
      "\n",
      "The TorchScript type system doesn't support instance-level annotations on empty non-base types in `__init__`. Instead, either 1) use a type annotation in the class body, or 2) wrap the type in `torch.jit.Attribute`.\n",
      "\n",
      "/Users/royalty/miniconda3/lib/python3.11/site-packages/torch/jit/_check.py:177: UserWarning:\n",
      "\n",
      "The TorchScript type system doesn't support instance-level annotations on empty non-base types in `__init__`. Instead, either 1) use a type annotation in the class body, or 2) wrap the type in `torch.jit.Attribute`.\n",
      "\n",
      "/Users/royalty/miniconda3/lib/python3.11/site-packages/torch/jit/_check.py:177: UserWarning:\n",
      "\n",
      "The TorchScript type system doesn't support instance-level annotations on empty non-base types in `__init__`. Instead, either 1) use a type annotation in the class body, or 2) wrap the type in `torch.jit.Attribute`.\n",
      "\n",
      "/Users/royalty/miniconda3/lib/python3.11/site-packages/torch/jit/_check.py:177: UserWarning:\n",
      "\n",
      "The TorchScript type system doesn't support instance-level annotations on empty non-base types in `__init__`. Instead, either 1) use a type annotation in the class body, or 2) wrap the type in `torch.jit.Attribute`.\n",
      "\n",
      "/Users/royalty/miniconda3/lib/python3.11/site-packages/torch/jit/_check.py:177: UserWarning:\n",
      "\n",
      "The TorchScript type system doesn't support instance-level annotations on empty non-base types in `__init__`. Instead, either 1) use a type annotation in the class body, or 2) wrap the type in `torch.jit.Attribute`.\n",
      "\n",
      "/Users/royalty/miniconda3/lib/python3.11/site-packages/torch/jit/_check.py:177: UserWarning:\n",
      "\n",
      "The TorchScript type system doesn't support instance-level annotations on empty non-base types in `__init__`. Instead, either 1) use a type annotation in the class body, or 2) wrap the type in `torch.jit.Attribute`.\n",
      "\n",
      "/Users/royalty/miniconda3/lib/python3.11/site-packages/torch/jit/_check.py:177: UserWarning:\n",
      "\n",
      "The TorchScript type system doesn't support instance-level annotations on empty non-base types in `__init__`. Instead, either 1) use a type annotation in the class body, or 2) wrap the type in `torch.jit.Attribute`.\n",
      "\n",
      "/Users/royalty/miniconda3/lib/python3.11/site-packages/torch/jit/_check.py:177: UserWarning:\n",
      "\n",
      "The TorchScript type system doesn't support instance-level annotations on empty non-base types in `__init__`. Instead, either 1) use a type annotation in the class body, or 2) wrap the type in `torch.jit.Attribute`.\n",
      "\n",
      "/Users/royalty/miniconda3/lib/python3.11/site-packages/torch/jit/_check.py:177: UserWarning:\n",
      "\n",
      "The TorchScript type system doesn't support instance-level annotations on empty non-base types in `__init__`. Instead, either 1) use a type annotation in the class body, or 2) wrap the type in `torch.jit.Attribute`.\n",
      "\n",
      "/Users/royalty/miniconda3/lib/python3.11/site-packages/torch/jit/_check.py:177: UserWarning:\n",
      "\n",
      "The TorchScript type system doesn't support instance-level annotations on empty non-base types in `__init__`. Instead, either 1) use a type annotation in the class body, or 2) wrap the type in `torch.jit.Attribute`.\n",
      "\n",
      "/Users/royalty/miniconda3/lib/python3.11/site-packages/torch/jit/_check.py:177: UserWarning:\n",
      "\n",
      "The TorchScript type system doesn't support instance-level annotations on empty non-base types in `__init__`. Instead, either 1) use a type annotation in the class body, or 2) wrap the type in `torch.jit.Attribute`.\n",
      "\n",
      "/Users/royalty/miniconda3/lib/python3.11/site-packages/torch/jit/_check.py:177: UserWarning:\n",
      "\n",
      "The TorchScript type system doesn't support instance-level annotations on empty non-base types in `__init__`. Instead, either 1) use a type annotation in the class body, or 2) wrap the type in `torch.jit.Attribute`.\n",
      "\n",
      "/Users/royalty/miniconda3/lib/python3.11/site-packages/torch/jit/_check.py:177: UserWarning:\n",
      "\n",
      "The TorchScript type system doesn't support instance-level annotations on empty non-base types in `__init__`. Instead, either 1) use a type annotation in the class body, or 2) wrap the type in `torch.jit.Attribute`.\n",
      "\n",
      "/Users/royalty/miniconda3/lib/python3.11/site-packages/torch/jit/_check.py:177: UserWarning:\n",
      "\n",
      "The TorchScript type system doesn't support instance-level annotations on empty non-base types in `__init__`. Instead, either 1) use a type annotation in the class body, or 2) wrap the type in `torch.jit.Attribute`.\n",
      "\n",
      "/Users/royalty/miniconda3/lib/python3.11/site-packages/torch/jit/_check.py:177: UserWarning:\n",
      "\n",
      "The TorchScript type system doesn't support instance-level annotations on empty non-base types in `__init__`. Instead, either 1) use a type annotation in the class body, or 2) wrap the type in `torch.jit.Attribute`.\n",
      "\n",
      "/Users/royalty/miniconda3/lib/python3.11/site-packages/torch/jit/_check.py:177: UserWarning:\n",
      "\n",
      "The TorchScript type system doesn't support instance-level annotations on empty non-base types in `__init__`. Instead, either 1) use a type annotation in the class body, or 2) wrap the type in `torch.jit.Attribute`.\n",
      "\n",
      "/Users/royalty/miniconda3/lib/python3.11/site-packages/torch/jit/_check.py:177: UserWarning:\n",
      "\n",
      "The TorchScript type system doesn't support instance-level annotations on empty non-base types in `__init__`. Instead, either 1) use a type annotation in the class body, or 2) wrap the type in `torch.jit.Attribute`.\n",
      "\n",
      "/Users/royalty/miniconda3/lib/python3.11/site-packages/torch/jit/_check.py:177: UserWarning:\n",
      "\n",
      "The TorchScript type system doesn't support instance-level annotations on empty non-base types in `__init__`. Instead, either 1) use a type annotation in the class body, or 2) wrap the type in `torch.jit.Attribute`.\n",
      "\n",
      "/Users/royalty/miniconda3/lib/python3.11/site-packages/torch/jit/_check.py:177: UserWarning:\n",
      "\n",
      "The TorchScript type system doesn't support instance-level annotations on empty non-base types in `__init__`. Instead, either 1) use a type annotation in the class body, or 2) wrap the type in `torch.jit.Attribute`.\n",
      "\n",
      "/Users/royalty/miniconda3/lib/python3.11/site-packages/torch/jit/_check.py:177: UserWarning:\n",
      "\n",
      "The TorchScript type system doesn't support instance-level annotations on empty non-base types in `__init__`. Instead, either 1) use a type annotation in the class body, or 2) wrap the type in `torch.jit.Attribute`.\n",
      "\n",
      "/Users/royalty/miniconda3/lib/python3.11/site-packages/torch/jit/_check.py:177: UserWarning:\n",
      "\n",
      "The TorchScript type system doesn't support instance-level annotations on empty non-base types in `__init__`. Instead, either 1) use a type annotation in the class body, or 2) wrap the type in `torch.jit.Attribute`.\n",
      "\n",
      "/Users/royalty/miniconda3/lib/python3.11/site-packages/torch/jit/_check.py:177: UserWarning:\n",
      "\n",
      "The TorchScript type system doesn't support instance-level annotations on empty non-base types in `__init__`. Instead, either 1) use a type annotation in the class body, or 2) wrap the type in `torch.jit.Attribute`.\n",
      "\n",
      "/Users/royalty/miniconda3/lib/python3.11/site-packages/torch/jit/_check.py:177: UserWarning:\n",
      "\n",
      "The TorchScript type system doesn't support instance-level annotations on empty non-base types in `__init__`. Instead, either 1) use a type annotation in the class body, or 2) wrap the type in `torch.jit.Attribute`.\n",
      "\n",
      "/Users/royalty/miniconda3/lib/python3.11/site-packages/torch/jit/_check.py:177: UserWarning:\n",
      "\n",
      "The TorchScript type system doesn't support instance-level annotations on empty non-base types in `__init__`. Instead, either 1) use a type annotation in the class body, or 2) wrap the type in `torch.jit.Attribute`.\n",
      "\n",
      "/Users/royalty/miniconda3/lib/python3.11/site-packages/torch/jit/_check.py:177: UserWarning:\n",
      "\n",
      "The TorchScript type system doesn't support instance-level annotations on empty non-base types in `__init__`. Instead, either 1) use a type annotation in the class body, or 2) wrap the type in `torch.jit.Attribute`.\n",
      "\n",
      "/Users/royalty/miniconda3/lib/python3.11/site-packages/torch/jit/_check.py:177: UserWarning:\n",
      "\n",
      "The TorchScript type system doesn't support instance-level annotations on empty non-base types in `__init__`. Instead, either 1) use a type annotation in the class body, or 2) wrap the type in `torch.jit.Attribute`.\n",
      "\n",
      "/Users/royalty/miniconda3/lib/python3.11/site-packages/torch/jit/_check.py:177: UserWarning:\n",
      "\n",
      "The TorchScript type system doesn't support instance-level annotations on empty non-base types in `__init__`. Instead, either 1) use a type annotation in the class body, or 2) wrap the type in `torch.jit.Attribute`.\n",
      "\n",
      "/Users/royalty/miniconda3/lib/python3.11/site-packages/torch/jit/_check.py:177: UserWarning:\n",
      "\n",
      "The TorchScript type system doesn't support instance-level annotations on empty non-base types in `__init__`. Instead, either 1) use a type annotation in the class body, or 2) wrap the type in `torch.jit.Attribute`.\n",
      "\n",
      "/Users/royalty/miniconda3/lib/python3.11/site-packages/torch/jit/_check.py:177: UserWarning:\n",
      "\n",
      "The TorchScript type system doesn't support instance-level annotations on empty non-base types in `__init__`. Instead, either 1) use a type annotation in the class body, or 2) wrap the type in `torch.jit.Attribute`.\n",
      "\n",
      "/Users/royalty/miniconda3/lib/python3.11/site-packages/torch/jit/_check.py:177: UserWarning:\n",
      "\n",
      "The TorchScript type system doesn't support instance-level annotations on empty non-base types in `__init__`. Instead, either 1) use a type annotation in the class body, or 2) wrap the type in `torch.jit.Attribute`.\n",
      "\n",
      "/Users/royalty/miniconda3/lib/python3.11/site-packages/torch/jit/_check.py:177: UserWarning:\n",
      "\n",
      "The TorchScript type system doesn't support instance-level annotations on empty non-base types in `__init__`. Instead, either 1) use a type annotation in the class body, or 2) wrap the type in `torch.jit.Attribute`.\n",
      "\n",
      "/Users/royalty/miniconda3/lib/python3.11/site-packages/torch/jit/_check.py:177: UserWarning:\n",
      "\n",
      "The TorchScript type system doesn't support instance-level annotations on empty non-base types in `__init__`. Instead, either 1) use a type annotation in the class body, or 2) wrap the type in `torch.jit.Attribute`.\n",
      "\n",
      "/Users/royalty/miniconda3/lib/python3.11/site-packages/torch/jit/_check.py:177: UserWarning:\n",
      "\n",
      "The TorchScript type system doesn't support instance-level annotations on empty non-base types in `__init__`. Instead, either 1) use a type annotation in the class body, or 2) wrap the type in `torch.jit.Attribute`.\n",
      "\n",
      "/Users/royalty/miniconda3/lib/python3.11/site-packages/torch/jit/_check.py:177: UserWarning:\n",
      "\n",
      "The TorchScript type system doesn't support instance-level annotations on empty non-base types in `__init__`. Instead, either 1) use a type annotation in the class body, or 2) wrap the type in `torch.jit.Attribute`.\n",
      "\n",
      "/Users/royalty/miniconda3/lib/python3.11/site-packages/torch/jit/_check.py:177: UserWarning:\n",
      "\n",
      "The TorchScript type system doesn't support instance-level annotations on empty non-base types in `__init__`. Instead, either 1) use a type annotation in the class body, or 2) wrap the type in `torch.jit.Attribute`.\n",
      "\n",
      "/Users/royalty/miniconda3/lib/python3.11/site-packages/torch/jit/_check.py:177: UserWarning:\n",
      "\n",
      "The TorchScript type system doesn't support instance-level annotations on empty non-base types in `__init__`. Instead, either 1) use a type annotation in the class body, or 2) wrap the type in `torch.jit.Attribute`.\n",
      "\n",
      "/Users/royalty/miniconda3/lib/python3.11/site-packages/torch/jit/_check.py:177: UserWarning:\n",
      "\n",
      "The TorchScript type system doesn't support instance-level annotations on empty non-base types in `__init__`. Instead, either 1) use a type annotation in the class body, or 2) wrap the type in `torch.jit.Attribute`.\n",
      "\n",
      "/Users/royalty/miniconda3/lib/python3.11/site-packages/torch/jit/_check.py:177: UserWarning:\n",
      "\n",
      "The TorchScript type system doesn't support instance-level annotations on empty non-base types in `__init__`. Instead, either 1) use a type annotation in the class body, or 2) wrap the type in `torch.jit.Attribute`.\n",
      "\n",
      "/Users/royalty/miniconda3/lib/python3.11/site-packages/torch/jit/_check.py:177: UserWarning:\n",
      "\n",
      "The TorchScript type system doesn't support instance-level annotations on empty non-base types in `__init__`. Instead, either 1) use a type annotation in the class body, or 2) wrap the type in `torch.jit.Attribute`.\n",
      "\n",
      "/Users/royalty/miniconda3/lib/python3.11/site-packages/torch/jit/_check.py:177: UserWarning:\n",
      "\n",
      "The TorchScript type system doesn't support instance-level annotations on empty non-base types in `__init__`. Instead, either 1) use a type annotation in the class body, or 2) wrap the type in `torch.jit.Attribute`.\n",
      "\n",
      "/Users/royalty/miniconda3/lib/python3.11/site-packages/torch/jit/_check.py:177: UserWarning:\n",
      "\n",
      "The TorchScript type system doesn't support instance-level annotations on empty non-base types in `__init__`. Instead, either 1) use a type annotation in the class body, or 2) wrap the type in `torch.jit.Attribute`.\n",
      "\n",
      "/Users/royalty/miniconda3/lib/python3.11/site-packages/torch/jit/_check.py:177: UserWarning:\n",
      "\n",
      "The TorchScript type system doesn't support instance-level annotations on empty non-base types in `__init__`. Instead, either 1) use a type annotation in the class body, or 2) wrap the type in `torch.jit.Attribute`.\n",
      "\n",
      "/Users/royalty/miniconda3/lib/python3.11/site-packages/torch/jit/_check.py:177: UserWarning:\n",
      "\n",
      "The TorchScript type system doesn't support instance-level annotations on empty non-base types in `__init__`. Instead, either 1) use a type annotation in the class body, or 2) wrap the type in `torch.jit.Attribute`.\n",
      "\n",
      "/Users/royalty/miniconda3/lib/python3.11/site-packages/torch/jit/_check.py:177: UserWarning:\n",
      "\n",
      "The TorchScript type system doesn't support instance-level annotations on empty non-base types in `__init__`. Instead, either 1) use a type annotation in the class body, or 2) wrap the type in `torch.jit.Attribute`.\n",
      "\n",
      "/Users/royalty/miniconda3/lib/python3.11/site-packages/torch/jit/_check.py:177: UserWarning:\n",
      "\n",
      "The TorchScript type system doesn't support instance-level annotations on empty non-base types in `__init__`. Instead, either 1) use a type annotation in the class body, or 2) wrap the type in `torch.jit.Attribute`.\n",
      "\n",
      "/Users/royalty/miniconda3/lib/python3.11/site-packages/torch/jit/_check.py:177: UserWarning:\n",
      "\n",
      "The TorchScript type system doesn't support instance-level annotations on empty non-base types in `__init__`. Instead, either 1) use a type annotation in the class body, or 2) wrap the type in `torch.jit.Attribute`.\n",
      "\n",
      "/Users/royalty/miniconda3/lib/python3.11/site-packages/torch/jit/_check.py:177: UserWarning:\n",
      "\n",
      "The TorchScript type system doesn't support instance-level annotations on empty non-base types in `__init__`. Instead, either 1) use a type annotation in the class body, or 2) wrap the type in `torch.jit.Attribute`.\n",
      "\n",
      "/Users/royalty/miniconda3/lib/python3.11/site-packages/torch/jit/_check.py:177: UserWarning:\n",
      "\n",
      "The TorchScript type system doesn't support instance-level annotations on empty non-base types in `__init__`. Instead, either 1) use a type annotation in the class body, or 2) wrap the type in `torch.jit.Attribute`.\n",
      "\n",
      "/Users/royalty/miniconda3/lib/python3.11/site-packages/torch/jit/_check.py:177: UserWarning:\n",
      "\n",
      "The TorchScript type system doesn't support instance-level annotations on empty non-base types in `__init__`. Instead, either 1) use a type annotation in the class body, or 2) wrap the type in `torch.jit.Attribute`.\n",
      "\n",
      "/Users/royalty/miniconda3/lib/python3.11/site-packages/torch/jit/_check.py:177: UserWarning:\n",
      "\n",
      "The TorchScript type system doesn't support instance-level annotations on empty non-base types in `__init__`. Instead, either 1) use a type annotation in the class body, or 2) wrap the type in `torch.jit.Attribute`.\n",
      "\n",
      "/Users/royalty/miniconda3/lib/python3.11/site-packages/torch/jit/_check.py:177: UserWarning:\n",
      "\n",
      "The TorchScript type system doesn't support instance-level annotations on empty non-base types in `__init__`. Instead, either 1) use a type annotation in the class body, or 2) wrap the type in `torch.jit.Attribute`.\n",
      "\n",
      "/Users/royalty/miniconda3/lib/python3.11/site-packages/torch/jit/_check.py:177: UserWarning:\n",
      "\n",
      "The TorchScript type system doesn't support instance-level annotations on empty non-base types in `__init__`. Instead, either 1) use a type annotation in the class body, or 2) wrap the type in `torch.jit.Attribute`.\n",
      "\n",
      "/Users/royalty/miniconda3/lib/python3.11/site-packages/torch/jit/_check.py:177: UserWarning:\n",
      "\n",
      "The TorchScript type system doesn't support instance-level annotations on empty non-base types in `__init__`. Instead, either 1) use a type annotation in the class body, or 2) wrap the type in `torch.jit.Attribute`.\n",
      "\n",
      "/Users/royalty/miniconda3/lib/python3.11/site-packages/torch/jit/_check.py:177: UserWarning:\n",
      "\n",
      "The TorchScript type system doesn't support instance-level annotations on empty non-base types in `__init__`. Instead, either 1) use a type annotation in the class body, or 2) wrap the type in `torch.jit.Attribute`.\n",
      "\n",
      "/Users/royalty/miniconda3/lib/python3.11/site-packages/torch/jit/_check.py:177: UserWarning:\n",
      "\n",
      "The TorchScript type system doesn't support instance-level annotations on empty non-base types in `__init__`. Instead, either 1) use a type annotation in the class body, or 2) wrap the type in `torch.jit.Attribute`.\n",
      "\n",
      "/Users/royalty/miniconda3/lib/python3.11/site-packages/torch/jit/_check.py:177: UserWarning:\n",
      "\n",
      "The TorchScript type system doesn't support instance-level annotations on empty non-base types in `__init__`. Instead, either 1) use a type annotation in the class body, or 2) wrap the type in `torch.jit.Attribute`.\n",
      "\n",
      "/Users/royalty/miniconda3/lib/python3.11/site-packages/torch/jit/_check.py:177: UserWarning:\n",
      "\n",
      "The TorchScript type system doesn't support instance-level annotations on empty non-base types in `__init__`. Instead, either 1) use a type annotation in the class body, or 2) wrap the type in `torch.jit.Attribute`.\n",
      "\n",
      "/Users/royalty/miniconda3/lib/python3.11/site-packages/torch/jit/_check.py:177: UserWarning:\n",
      "\n",
      "The TorchScript type system doesn't support instance-level annotations on empty non-base types in `__init__`. Instead, either 1) use a type annotation in the class body, or 2) wrap the type in `torch.jit.Attribute`.\n",
      "\n",
      "/Users/royalty/miniconda3/lib/python3.11/site-packages/torch/jit/_check.py:177: UserWarning:\n",
      "\n",
      "The TorchScript type system doesn't support instance-level annotations on empty non-base types in `__init__`. Instead, either 1) use a type annotation in the class body, or 2) wrap the type in `torch.jit.Attribute`.\n",
      "\n",
      "/Users/royalty/miniconda3/lib/python3.11/site-packages/torch/jit/_check.py:177: UserWarning:\n",
      "\n",
      "The TorchScript type system doesn't support instance-level annotations on empty non-base types in `__init__`. Instead, either 1) use a type annotation in the class body, or 2) wrap the type in `torch.jit.Attribute`.\n",
      "\n",
      "/Users/royalty/miniconda3/lib/python3.11/site-packages/torch/jit/_check.py:177: UserWarning:\n",
      "\n",
      "The TorchScript type system doesn't support instance-level annotations on empty non-base types in `__init__`. Instead, either 1) use a type annotation in the class body, or 2) wrap the type in `torch.jit.Attribute`.\n",
      "\n",
      "/Users/royalty/miniconda3/lib/python3.11/site-packages/torch/jit/_check.py:177: UserWarning:\n",
      "\n",
      "The TorchScript type system doesn't support instance-level annotations on empty non-base types in `__init__`. Instead, either 1) use a type annotation in the class body, or 2) wrap the type in `torch.jit.Attribute`.\n",
      "\n",
      "/Users/royalty/miniconda3/lib/python3.11/site-packages/torch/jit/_check.py:177: UserWarning:\n",
      "\n",
      "The TorchScript type system doesn't support instance-level annotations on empty non-base types in `__init__`. Instead, either 1) use a type annotation in the class body, or 2) wrap the type in `torch.jit.Attribute`.\n",
      "\n",
      "/Users/royalty/miniconda3/lib/python3.11/site-packages/torch/jit/_check.py:177: UserWarning:\n",
      "\n",
      "The TorchScript type system doesn't support instance-level annotations on empty non-base types in `__init__`. Instead, either 1) use a type annotation in the class body, or 2) wrap the type in `torch.jit.Attribute`.\n",
      "\n",
      "/Users/royalty/miniconda3/lib/python3.11/site-packages/torch/jit/_check.py:177: UserWarning:\n",
      "\n",
      "The TorchScript type system doesn't support instance-level annotations on empty non-base types in `__init__`. Instead, either 1) use a type annotation in the class body, or 2) wrap the type in `torch.jit.Attribute`.\n",
      "\n",
      "/Users/royalty/miniconda3/lib/python3.11/site-packages/torch/jit/_check.py:177: UserWarning:\n",
      "\n",
      "The TorchScript type system doesn't support instance-level annotations on empty non-base types in `__init__`. Instead, either 1) use a type annotation in the class body, or 2) wrap the type in `torch.jit.Attribute`.\n",
      "\n",
      "/Users/royalty/miniconda3/lib/python3.11/site-packages/torch/jit/_check.py:177: UserWarning:\n",
      "\n",
      "The TorchScript type system doesn't support instance-level annotations on empty non-base types in `__init__`. Instead, either 1) use a type annotation in the class body, or 2) wrap the type in `torch.jit.Attribute`.\n",
      "\n",
      "/Users/royalty/miniconda3/lib/python3.11/site-packages/torch/jit/_check.py:177: UserWarning:\n",
      "\n",
      "The TorchScript type system doesn't support instance-level annotations on empty non-base types in `__init__`. Instead, either 1) use a type annotation in the class body, or 2) wrap the type in `torch.jit.Attribute`.\n",
      "\n",
      "/Users/royalty/miniconda3/lib/python3.11/site-packages/torch/jit/_check.py:177: UserWarning:\n",
      "\n",
      "The TorchScript type system doesn't support instance-level annotations on empty non-base types in `__init__`. Instead, either 1) use a type annotation in the class body, or 2) wrap the type in `torch.jit.Attribute`.\n",
      "\n",
      "/Users/royalty/miniconda3/lib/python3.11/site-packages/torch/jit/_check.py:177: UserWarning:\n",
      "\n",
      "The TorchScript type system doesn't support instance-level annotations on empty non-base types in `__init__`. Instead, either 1) use a type annotation in the class body, or 2) wrap the type in `torch.jit.Attribute`.\n",
      "\n",
      "/Users/royalty/miniconda3/lib/python3.11/site-packages/torch/jit/_check.py:177: UserWarning:\n",
      "\n",
      "The TorchScript type system doesn't support instance-level annotations on empty non-base types in `__init__`. Instead, either 1) use a type annotation in the class body, or 2) wrap the type in `torch.jit.Attribute`.\n",
      "\n",
      "/Users/royalty/miniconda3/lib/python3.11/site-packages/torch/jit/_check.py:177: UserWarning:\n",
      "\n",
      "The TorchScript type system doesn't support instance-level annotations on empty non-base types in `__init__`. Instead, either 1) use a type annotation in the class body, or 2) wrap the type in `torch.jit.Attribute`.\n",
      "\n",
      "/Users/royalty/miniconda3/lib/python3.11/site-packages/torch/jit/_check.py:177: UserWarning:\n",
      "\n",
      "The TorchScript type system doesn't support instance-level annotations on empty non-base types in `__init__`. Instead, either 1) use a type annotation in the class body, or 2) wrap the type in `torch.jit.Attribute`.\n",
      "\n",
      "/Users/royalty/miniconda3/lib/python3.11/site-packages/torch/jit/_check.py:177: UserWarning:\n",
      "\n",
      "The TorchScript type system doesn't support instance-level annotations on empty non-base types in `__init__`. Instead, either 1) use a type annotation in the class body, or 2) wrap the type in `torch.jit.Attribute`.\n",
      "\n",
      "/Users/royalty/miniconda3/lib/python3.11/site-packages/torch/jit/_check.py:177: UserWarning:\n",
      "\n",
      "The TorchScript type system doesn't support instance-level annotations on empty non-base types in `__init__`. Instead, either 1) use a type annotation in the class body, or 2) wrap the type in `torch.jit.Attribute`.\n",
      "\n",
      "/Users/royalty/miniconda3/lib/python3.11/site-packages/torch/jit/_check.py:177: UserWarning:\n",
      "\n",
      "The TorchScript type system doesn't support instance-level annotations on empty non-base types in `__init__`. Instead, either 1) use a type annotation in the class body, or 2) wrap the type in `torch.jit.Attribute`.\n",
      "\n",
      "/Users/royalty/miniconda3/lib/python3.11/site-packages/torch/jit/_check.py:177: UserWarning:\n",
      "\n",
      "The TorchScript type system doesn't support instance-level annotations on empty non-base types in `__init__`. Instead, either 1) use a type annotation in the class body, or 2) wrap the type in `torch.jit.Attribute`.\n",
      "\n",
      "/Users/royalty/miniconda3/lib/python3.11/site-packages/torch/jit/_check.py:177: UserWarning:\n",
      "\n",
      "The TorchScript type system doesn't support instance-level annotations on empty non-base types in `__init__`. Instead, either 1) use a type annotation in the class body, or 2) wrap the type in `torch.jit.Attribute`.\n",
      "\n",
      "/Users/royalty/miniconda3/lib/python3.11/site-packages/torch/jit/_check.py:177: UserWarning:\n",
      "\n",
      "The TorchScript type system doesn't support instance-level annotations on empty non-base types in `__init__`. Instead, either 1) use a type annotation in the class body, or 2) wrap the type in `torch.jit.Attribute`.\n",
      "\n",
      "/Users/royalty/miniconda3/lib/python3.11/site-packages/torch/jit/_check.py:177: UserWarning:\n",
      "\n",
      "The TorchScript type system doesn't support instance-level annotations on empty non-base types in `__init__`. Instead, either 1) use a type annotation in the class body, or 2) wrap the type in `torch.jit.Attribute`.\n",
      "\n"
     ]
    },
    {
     "data": {
      "text/plain": [
       "MatrixMACE(\n",
       "  (mace): MACE(\n",
       "    (node_embedding): LinearNodeEmbeddingBlock(\n",
       "      (linear): Linear(2x0e -> 1x0e | 2 weights)\n",
       "    )\n",
       "    (radial_embedding): RadialEmbeddingBlock(\n",
       "      (bessel_fn): BesselBasis(r_max=10.0, num_basis=10, trainable=False)\n",
       "      (cutoff_fn): PolynomialCutoff(p=10.0, r_max=10.0)\n",
       "    )\n",
       "    (spherical_harmonics): SphericalHarmonics()\n",
       "    (atomic_energies_fn): AtomicEnergiesBlock(energies=[0.0000, 0.0000])\n",
       "    (interactions): ModuleList(\n",
       "      (0): RealAgnosticResidualInteractionBlock(\n",
       "        (linear_up): Linear(1x0e -> 1x0e | 1 weights)\n",
       "        (conv_tp): TensorProduct(1x0e x 1x0e+1x1o+1x2e -> 1x0e+1x1o+1x2e | 3 paths | 3 weights)\n",
       "        (conv_tp_weights): FullyConnectedNet[10, 64, 64, 64, 3]\n",
       "        (linear): Linear(1x0e+1x1o+1x2e -> 1x0e+1x1o+1x2e | 3 weights)\n",
       "        (skip_tp): FullyConnectedTensorProduct(1x0e x 2x0e -> 1x0e+1x1o | 2 paths | 2 weights)\n",
       "        (reshape): reshape_irreps()\n",
       "      )\n",
       "      (1): RealAgnosticResidualInteractionBlock(\n",
       "        (linear_up): Linear(1x0e+1x1o -> 1x0e+1x1o | 2 weights)\n",
       "        (conv_tp): TensorProduct(1x0e+1x1o x 1x0e+1x1o+1x2e -> 2x0e+3x1o+2x2e | 7 paths | 7 weights)\n",
       "        (conv_tp_weights): FullyConnectedNet[10, 64, 64, 64, 7]\n",
       "        (linear): Linear(2x0e+3x1o+2x2e -> 1x0e+1x1o+1x2e | 7 weights)\n",
       "        (skip_tp): FullyConnectedTensorProduct(1x0e+1x1o x 2x0e -> 1x0e+1x1o | 4 paths | 4 weights)\n",
       "        (reshape): reshape_irreps()\n",
       "      )\n",
       "      (2): RealAgnosticResidualInteractionBlock(\n",
       "        (linear_up): Linear(1x0e+1x1o -> 1x0e+1x1o | 2 weights)\n",
       "        (conv_tp): TensorProduct(1x0e+1x1o x 1x0e+1x1o+1x2e -> 2x0e+3x1o+2x2e | 7 paths | 7 weights)\n",
       "        (conv_tp_weights): FullyConnectedNet[10, 64, 64, 64, 7]\n",
       "        (linear): Linear(2x0e+3x1o+2x2e -> 1x0e+1x1o+1x2e | 7 weights)\n",
       "        (skip_tp): FullyConnectedTensorProduct(1x0e+1x1o x 2x0e -> 1x0e | 2 paths | 2 weights)\n",
       "        (reshape): reshape_irreps()\n",
       "      )\n",
       "    )\n",
       "    (products): ModuleList(\n",
       "      (0-1): 2 x EquivariantProductBasisBlock(\n",
       "        (symmetric_contractions): SymmetricContraction(\n",
       "          (contractions): ModuleList(\n",
       "            (0-1): 2 x Contraction(\n",
       "              (contractions_weighting): ModuleList(\n",
       "                (0): GraphModule()\n",
       "              )\n",
       "              (contractions_features): ModuleList(\n",
       "                (0): GraphModule()\n",
       "              )\n",
       "              (weights): ParameterList(  (0): Parameter containing: [torch.float32 of size 2x1x1])\n",
       "              (graph_opt_main): GraphModule()\n",
       "            )\n",
       "          )\n",
       "        )\n",
       "        (linear): Linear(1x0e+1x1o -> 1x0e+1x1o | 2 weights)\n",
       "      )\n",
       "      (2): EquivariantProductBasisBlock(\n",
       "        (symmetric_contractions): SymmetricContraction(\n",
       "          (contractions): ModuleList(\n",
       "            (0): Contraction(\n",
       "              (contractions_weighting): ModuleList(\n",
       "                (0): GraphModule()\n",
       "              )\n",
       "              (contractions_features): ModuleList(\n",
       "                (0): GraphModule()\n",
       "              )\n",
       "              (weights): ParameterList(  (0): Parameter containing: [torch.float32 of size 2x1x1])\n",
       "              (graph_opt_main): GraphModule()\n",
       "            )\n",
       "          )\n",
       "        )\n",
       "        (linear): Linear(1x0e -> 1x0e | 1 weights)\n",
       "      )\n",
       "    )\n",
       "    (readouts): ModuleList(\n",
       "      (0-1): 2 x LinearReadoutBlock(\n",
       "        (linear): Linear(1x0e+1x1o -> 1x0e | 1 weights)\n",
       "      )\n",
       "      (2): NonLinearReadoutBlock(\n",
       "        (linear_1): Linear(1x0e -> 2x0e | 2 weights)\n",
       "        (non_linearity): Activation [ ] (2x0e -> 2x0e)\n",
       "        (linear_2): Linear(2x0e -> 1x0e | 2 weights)\n",
       "      )\n",
       "    )\n",
       "  )\n",
       "  (matrix_readouts): ModuleList(\n",
       "    (0-1): 2 x E3nnGraph2Mat(\n",
       "      (preprocessing_edges): E3nnEdgeMessageBlock(\n",
       "        (linear_up): Linear(1x0e+1x1o -> 1x0e+1x1o | 2 weights)\n",
       "        (conv_tp): TensorProduct(1x0e+1x1o x 1x0e+1x1o+1x2e -> 2x0e+3x1o+2x2e | 7 paths | 7 weights)\n",
       "        (conv_tp_weights): FullyConnectedNet[10, 64, 64, 64, 7]\n",
       "        (linear): Linear(2x0e+3x1o+2x2e -> 10x0e+10x1o+10x2e | 70 weights)\n",
       "      )\n",
       "      (self_interactions): ModuleList(\n",
       "        (0): E3nnIrrepsMatrixBlock(\n",
       "          (operation): E3nnSimpleNodeBlock(\n",
       "            (tsq): TensorSquare(1x0e+1x1o -> 1x0e | 2 paths | 2 weights)\n",
       "          )\n",
       "        )\n",
       "        (1): E3nnIrrepsMatrixBlock(\n",
       "          (operation): E3nnSimpleNodeBlock(\n",
       "            (tsq): TensorSquare(1x0e+1x1o -> 5x0e+4x1o+1x1e+1x2e | 15 paths | 15 weights)\n",
       "          )\n",
       "        )\n",
       "      )\n",
       "      (interactions): ModuleDict(\n",
       "        ((0, 0, 0)): E3nnIrrepsMatrixBlock(\n",
       "          (operation): E3nnSimpleEdgeBlock(\n",
       "            (tensor_products): ModuleList(\n",
       "              (0): FullyConnectedTensorProduct(10x0e+10x1o+10x2e x 10x0e+10x1o+10x2e -> 1x0e | 300 paths | 300 weights)\n",
       "            )\n",
       "          )\n",
       "        )\n",
       "        ((0, 1, 1)): E3nnIrrepsMatrixBlock(\n",
       "          (operation): E3nnSimpleEdgeBlock(\n",
       "            (tensor_products): ModuleList(\n",
       "              (0): FullyConnectedTensorProduct(10x0e+10x1o+10x2e x 10x0e+10x1o+10x2e -> 2x0e+1x1o | 1000 paths | 1000 weights)\n",
       "            )\n",
       "          )\n",
       "        )\n",
       "        ((1, 0, -1)): E3nnIrrepsMatrixBlock(\n",
       "          (operation): E3nnSimpleEdgeBlock(\n",
       "            (tensor_products): ModuleList(\n",
       "              (0): FullyConnectedTensorProduct(10x0e+10x1o+10x2e x 10x0e+10x1o+10x2e -> 2x0e+1x1o | 1000 paths | 1000 weights)\n",
       "            )\n",
       "          )\n",
       "        )\n",
       "        ((1, 1, 2)): E3nnIrrepsMatrixBlock(\n",
       "          (operation): E3nnSimpleEdgeBlock(\n",
       "            (tensor_products): ModuleList(\n",
       "              (0): FullyConnectedTensorProduct(10x0e+10x1o+10x2e x 10x0e+10x1o+10x2e -> 5x0e+4x1o+1x1e+1x2e | 3700 paths | 3700 weights)\n",
       "            )\n",
       "          )\n",
       "        )\n",
       "      )\n",
       "    )\n",
       "    (2): E3nnGraph2Mat(\n",
       "      (preprocessing_edges): E3nnEdgeMessageBlock(\n",
       "        (linear_up): Linear(1x0e -> 1x0e | 1 weights)\n",
       "        (conv_tp): TensorProduct(1x0e x 1x0e+1x1o+1x2e -> 1x0e+1x1o+1x2e | 3 paths | 3 weights)\n",
       "        (conv_tp_weights): FullyConnectedNet[10, 64, 64, 64, 3]\n",
       "        (linear): Linear(1x0e+1x1o+1x2e -> 10x0e+10x1o+10x2e | 30 weights)\n",
       "      )\n",
       "      (self_interactions): ModuleList(\n",
       "        (0): E3nnIrrepsMatrixBlock(\n",
       "          (operation): E3nnSimpleNodeBlock(\n",
       "            (tsq): TensorSquare(1x0e -> 1x0e | 1 paths | 1 weights)\n",
       "          )\n",
       "        )\n",
       "        (1): E3nnIrrepsMatrixBlock(\n",
       "          (operation): E3nnSimpleNodeBlock(\n",
       "            (tsq): TensorSquare(1x0e -> 5x0e+4x1o+1x1e+1x2e | 5 paths | 5 weights)\n",
       "          )\n",
       "        )\n",
       "      )\n",
       "      (interactions): ModuleDict(\n",
       "        ((0, 0, 0)): E3nnIrrepsMatrixBlock(\n",
       "          (operation): E3nnSimpleEdgeBlock(\n",
       "            (tensor_products): ModuleList(\n",
       "              (0): FullyConnectedTensorProduct(10x0e+10x1o+10x2e x 10x0e+10x1o+10x2e -> 1x0e | 300 paths | 300 weights)\n",
       "            )\n",
       "          )\n",
       "        )\n",
       "        ((0, 1, 1)): E3nnIrrepsMatrixBlock(\n",
       "          (operation): E3nnSimpleEdgeBlock(\n",
       "            (tensor_products): ModuleList(\n",
       "              (0): FullyConnectedTensorProduct(10x0e+10x1o+10x2e x 10x0e+10x1o+10x2e -> 2x0e+1x1o | 1000 paths | 1000 weights)\n",
       "            )\n",
       "          )\n",
       "        )\n",
       "        ((1, 0, -1)): E3nnIrrepsMatrixBlock(\n",
       "          (operation): E3nnSimpleEdgeBlock(\n",
       "            (tensor_products): ModuleList(\n",
       "              (0): FullyConnectedTensorProduct(10x0e+10x1o+10x2e x 10x0e+10x1o+10x2e -> 2x0e+1x1o | 1000 paths | 1000 weights)\n",
       "            )\n",
       "          )\n",
       "        )\n",
       "        ((1, 1, 2)): E3nnIrrepsMatrixBlock(\n",
       "          (operation): E3nnSimpleEdgeBlock(\n",
       "            (tensor_products): ModuleList(\n",
       "              (0): FullyConnectedTensorProduct(10x0e+10x1o+10x2e x 10x0e+10x1o+10x2e -> 5x0e+4x1o+1x1e+1x2e | 3700 paths | 3700 weights)\n",
       "            )\n",
       "          )\n",
       "        )\n",
       "      )\n",
       "    )\n",
       "  )\n",
       ")"
      ]
     },
     "execution_count": 83,
     "metadata": {},
     "output_type": "execute_result"
    }
   ],
   "source": [
    "# Load the model state dictionary\n",
    "\n",
    "new_model = MatrixMACE(\n",
    "    mace_model,\n",
    "    unique_basis=table,\n",
    "    readout_per_interaction=True,\n",
    "    edge_hidden_irreps=o3.Irreps(\"10x0e + 10x1o + 10x2e\"),\n",
    "    preprocessing_edges=E3nnEdgeMessageBlock,\n",
    "    preprocessing_edges_reuse_nodes=False,\n",
    ")\n",
    "\n",
    "new_model.load_state_dict(torch.load('trained_model.pth'))\n",
    "\n",
    "# Set the model to evaluation mode\n",
    "new_model.eval()"
   ]
  },
  {
   "cell_type": "code",
   "execution_count": 84,
   "metadata": {},
   "outputs": [
    {
     "data": {
      "text/plain": [
       "{'energy': tensor([1.1492, 1.1708, 1.2230, 1.1503, 1.2012, 1.1794, 1.1517, 1.2087, 1.2078,\n",
       "         1.2209], grad_fn=<SumBackward1>),\n",
       " 'node_energy': tensor([0.6966, 0.1182, 0.1142, 0.1118, 0.1085, 0.7097, 0.1149, 0.1156, 0.1143,\n",
       "         0.1164, 0.7439, 0.1223, 0.1210, 0.1210, 0.1148, 0.6972, 0.1098, 0.1128,\n",
       "         0.1129, 0.1176, 0.7292, 0.1205, 0.1189, 0.1181, 0.1144, 0.7151, 0.1179,\n",
       "         0.1166, 0.1147, 0.1150, 0.6981, 0.1126, 0.1119, 0.1116, 0.1176, 0.7342,\n",
       "         0.1165, 0.1182, 0.1195, 0.1204, 0.7337, 0.1146, 0.1184, 0.1184, 0.1228,\n",
       "         0.7425, 0.1234, 0.1209, 0.1197, 0.1143], grad_fn=<SumBackward1>),\n",
       " 'contributions': tensor([[ 0.0000,  0.0000,  2.5538, -0.5848, -0.8197],\n",
       "         [ 0.0000,  0.0000,  2.6121, -0.5890, -0.8522],\n",
       "         [ 0.0000,  0.0000,  2.7498, -0.5933, -0.9335],\n",
       "         [ 0.0000,  0.0000,  2.5568, -0.5852, -0.8213],\n",
       "         [ 0.0000,  0.0000,  2.6923, -0.5922, -0.8989],\n",
       "         [ 0.0000,  0.0000,  2.6348, -0.5901, -0.8652],\n",
       "         [ 0.0000,  0.0000,  2.5608, -0.5856, -0.8234],\n",
       "         [ 0.0000,  0.0000,  2.7125, -0.5930, -0.9108],\n",
       "         [ 0.0000,  0.0000,  2.7096, -0.5925, -0.9093],\n",
       "         [ 0.0000,  0.0000,  2.7441, -0.5930, -0.9302]],\n",
       "        grad_fn=<StackBackward0>),\n",
       " 'forces': None,\n",
       " 'virials': None,\n",
       " 'stress': None,\n",
       " 'displacement': tensor([[[0., 0., 0.],\n",
       "          [0., 0., 0.],\n",
       "          [0., 0., 0.]],\n",
       " \n",
       "         [[0., 0., 0.],\n",
       "          [0., 0., 0.],\n",
       "          [0., 0., 0.]],\n",
       " \n",
       "         [[0., 0., 0.],\n",
       "          [0., 0., 0.],\n",
       "          [0., 0., 0.]],\n",
       " \n",
       "         [[0., 0., 0.],\n",
       "          [0., 0., 0.],\n",
       "          [0., 0., 0.]],\n",
       " \n",
       "         [[0., 0., 0.],\n",
       "          [0., 0., 0.],\n",
       "          [0., 0., 0.]],\n",
       " \n",
       "         [[0., 0., 0.],\n",
       "          [0., 0., 0.],\n",
       "          [0., 0., 0.]],\n",
       " \n",
       "         [[0., 0., 0.],\n",
       "          [0., 0., 0.],\n",
       "          [0., 0., 0.]],\n",
       " \n",
       "         [[0., 0., 0.],\n",
       "          [0., 0., 0.],\n",
       "          [0., 0., 0.]],\n",
       " \n",
       "         [[0., 0., 0.],\n",
       "          [0., 0., 0.],\n",
       "          [0., 0., 0.]],\n",
       " \n",
       "         [[0., 0., 0.],\n",
       "          [0., 0., 0.],\n",
       "          [0., 0., 0.]]]),\n",
       " 'hessian': None,\n",
       " 'node_feats': tensor([[ 2.7196e-01, -6.4223e-04, -1.9699e-03,  1.6512e-03,  1.2199e+00,\n",
       "           1.9273e-04,  5.9208e-04, -4.9975e-04,  1.2414e+00],\n",
       "         [ 6.5027e-01,  1.7923e-02,  2.2092e-01, -2.7995e-01, -5.5520e-01,\n",
       "          -5.8949e-03, -7.2659e-02,  9.2073e-02,  4.6081e-01],\n",
       "         [ 6.2879e-01,  2.9266e-01,  1.0426e-02,  1.6749e-01, -5.3706e-01,\n",
       "          -9.6267e-02, -3.4294e-03, -5.5093e-02,  4.4549e-01],\n",
       "         [ 6.1618e-01, -2.3852e-01,  1.2632e-01,  1.8264e-01, -5.2642e-01,\n",
       "           7.8465e-02, -4.1554e-02, -6.0082e-02,  4.3649e-01],\n",
       "         [ 5.9831e-01, -4.4140e-02, -2.7323e-01, -1.3915e-01, -5.1134e-01,\n",
       "           1.4523e-02,  8.9896e-02,  4.5781e-02,  4.2374e-01],\n",
       "         [ 2.6937e-01, -2.5963e-05, -1.7127e-03,  9.4077e-04,  1.2680e+00,\n",
       "           7.4693e-06,  5.1389e-04, -2.8201e-04,  1.2981e+00],\n",
       "         [ 6.3771e-01,  1.8665e-02,  2.0004e-01, -2.8111e-01, -5.4443e-01,\n",
       "          -6.1393e-03, -6.5794e-02,  9.2460e-02,  4.5567e-01],\n",
       "         [ 6.4144e-01,  3.1260e-01,  3.4292e-02,  1.5120e-01, -5.4757e-01,\n",
       "          -1.0282e-01, -1.1279e-02, -4.9731e-02,  4.5840e-01],\n",
       "         [ 6.3434e-01, -2.2075e-01,  1.4599e-01,  2.1728e-01, -5.4158e-01,\n",
       "           7.2610e-02, -4.8019e-02, -7.1467e-02,  4.5326e-01],\n",
       "         [ 6.4575e-01, -1.0922e-01, -3.1086e-01, -1.2641e-01, -5.5122e-01,\n",
       "           3.5921e-02,  1.0224e-01,  4.1575e-02,  4.6153e-01],\n",
       "         [ 2.6333e-01, -1.3506e-03, -2.3291e-03,  3.8536e-04,  1.3909e+00,\n",
       "           3.9436e-04,  6.8266e-04, -1.1493e-04,  1.4420e+00],\n",
       "         [ 6.9268e-01, -3.3375e-01,  2.0857e-01, -4.7994e-02, -5.9046e-01,\n",
       "           1.0974e-01, -6.8580e-02,  1.5780e-02,  5.0627e-01],\n",
       "         [ 6.8542e-01,  3.9271e-03, -3.8828e-01, -3.2849e-02, -5.8431e-01,\n",
       "          -1.2912e-03,  1.2767e-01,  1.0801e-02,  5.0093e-01],\n",
       "         [ 6.8535e-01,  2.2940e-01,  1.9144e-01, -2.5007e-01, -5.8426e-01,\n",
       "          -7.5428e-02, -6.2946e-02,  8.2227e-02,  5.0079e-01],\n",
       "         [ 6.5097e-01,  1.5403e-01,  8.3617e-02,  3.1183e-01, -5.5522e-01,\n",
       "          -5.0654e-02, -2.7499e-02, -1.0255e-01,  4.7534e-01],\n",
       "         [ 2.7182e-01, -2.5273e-03, -1.8601e-03,  1.0681e-03,  1.2220e+00,\n",
       "           7.6157e-04,  5.6433e-04, -3.2216e-04,  1.2439e+00],\n",
       "         [ 6.0539e-01, -1.1578e-01,  2.8746e-01,  6.2499e-02, -5.1730e-01,\n",
       "           3.8092e-02, -9.4571e-02, -2.0562e-02,  4.2891e-01],\n",
       "         [ 6.2188e-01, -1.0057e-01, -2.3160e-01,  2.1414e-01, -5.3122e-01,\n",
       "           3.3082e-02,  7.6185e-02, -7.0442e-02,  4.4077e-01],\n",
       "         [ 6.2197e-01, -2.5239e-02, -4.7671e-02, -3.2672e-01, -5.3130e-01,\n",
       "           8.3027e-03,  1.5682e-02,  1.0748e-01,  4.4077e-01],\n",
       "         [ 6.4766e-01,  3.4824e-01,  6.6876e-02,  6.4172e-03, -5.5299e-01,\n",
       "          -1.1454e-01, -2.1995e-02, -2.1107e-03,  4.5912e-01],\n",
       "         [ 2.6585e-01,  2.7279e-04,  3.8016e-04, -7.8502e-04,  1.3385e+00,\n",
       "          -8.1471e-05, -1.1239e-04,  2.3163e-04,  1.3807e+00],\n",
       "         [ 6.7631e-01, -3.0418e-01,  7.5953e-02, -2.1683e-01, -5.7679e-01,\n",
       "           1.0002e-01, -2.4976e-02,  7.1303e-02,  4.8964e-01],\n",
       "         [ 6.6744e-01,  1.8705e-01, -3.0517e-01, -1.0476e-01, -5.6930e-01,\n",
       "          -6.1510e-02,  1.0036e-01,  3.4449e-02,  4.8312e-01],\n",
       "         [ 6.6337e-01,  2.0530e-01,  3.0552e-01,  2.8228e-02, -5.6586e-01,\n",
       "          -6.7514e-02, -1.0047e-01, -9.2827e-03,  4.8014e-01],\n",
       "         [ 6.4257e-01, -9.9753e-02, -9.1407e-02,  3.2276e-01, -5.4829e-01,\n",
       "           3.2808e-02,  3.0063e-02, -1.0615e-01,  4.6487e-01],\n",
       "         [ 2.6837e-01, -8.6064e-04, -1.5247e-03, -1.0184e-03,  1.2877e+00,\n",
       "           2.5730e-04,  4.5543e-04,  3.0432e-04,  1.3211e+00],\n",
       "         [ 6.5637e-01, -3.0888e-01,  1.9008e-01,  3.0565e-03, -5.6011e-01,\n",
       "           1.0158e-01, -6.2513e-02, -1.0051e-03,  4.7080e-01],\n",
       "         [ 6.4905e-01, -3.6889e-02, -3.5401e-01,  3.3577e-03, -5.5394e-01,\n",
       "           1.2133e-02,  1.1643e-01, -1.1042e-03,  4.6552e-01],\n",
       "         [ 6.3898e-01,  1.9960e-01,  1.3639e-01, -2.4850e-01, -5.4544e-01,\n",
       "          -6.5649e-02, -4.4858e-02,  8.1733e-02,  4.5818e-01],\n",
       "         [ 6.4042e-01,  1.7980e-01,  8.9874e-02,  2.8408e-01, -5.4665e-01,\n",
       "          -5.9137e-02, -2.9560e-02, -9.3435e-02,  4.5920e-01],\n",
       "         [ 2.7164e-01, -4.6063e-04, -2.0072e-03, -1.3656e-03,  1.2252e+00,\n",
       "           1.4102e-04,  6.0804e-04,  4.1116e-04,  1.2476e+00],\n",
       "         [ 6.2081e-01, -2.0702e-01,  9.6595e-02, -2.3827e-01, -5.3031e-01,\n",
       "           6.8102e-02, -3.1775e-02,  7.8380e-02,  4.4021e-01],\n",
       "         [ 6.1710e-01,  2.4270e-01, -1.9394e-01, -1.0117e-01, -5.2717e-01,\n",
       "          -7.9838e-02,  6.3798e-02,  3.3283e-02,  4.3756e-01],\n",
       "         [ 6.1555e-01,  1.3096e-01,  2.8288e-01,  9.3093e-02, -5.2587e-01,\n",
       "          -4.3082e-02, -9.3057e-02, -3.0624e-02,  4.3639e-01],\n",
       "         [ 6.4796e-01, -1.4930e-01, -1.0433e-01,  3.0464e-01, -5.5323e-01,\n",
       "           4.9106e-02,  3.4315e-02, -1.0020e-01,  4.5963e-01],\n",
       "         [ 2.6496e-01, -6.6479e-04, -1.3508e-03, -1.8378e-03,  1.3564e+00,\n",
       "           1.9637e-04,  3.9851e-04,  5.4323e-04,  1.4017e+00],\n",
       "         [ 6.5613e-01, -2.5660e-01,  9.9841e-02, -2.3574e-01, -5.5968e-01,\n",
       "           8.4387e-02, -3.2834e-02,  7.7527e-02,  4.7633e-01],\n",
       "         [ 6.6562e-01,  2.3597e-01, -2.6691e-01, -1.0445e-01, -5.6770e-01,\n",
       "          -7.7598e-02,  8.7773e-02,  3.4348e-02,  4.8331e-01],\n",
       "         [ 6.7310e-01,  1.7554e-01,  3.2708e-01,  7.2391e-02, -5.7402e-01,\n",
       "          -5.7725e-02, -1.0756e-01, -2.3805e-02,  4.8876e-01],\n",
       "         [ 6.7762e-01, -1.2685e-01, -1.0440e-01,  3.4533e-01, -5.7784e-01,\n",
       "           4.1712e-02,  3.4329e-02, -1.1355e-01,  4.9211e-01],\n",
       "         [ 2.6509e-01, -8.9133e-04,  1.5987e-03,  8.3436e-04,  1.3543e+00,\n",
       "           2.6294e-04, -4.7426e-04, -2.4732e-04,  1.3992e+00],\n",
       "         [ 6.4532e-01,  4.2802e-02,  2.5734e-01, -2.3707e-01, -5.5057e-01,\n",
       "          -1.4077e-02, -8.4636e-02,  7.7968e-02,  4.6820e-01],\n",
       "         [ 6.6640e-01,  2.8363e-01, -3.3378e-02,  2.3835e-01, -5.6837e-01,\n",
       "          -9.3271e-02,  1.0976e-02, -7.8380e-02,  4.8368e-01],\n",
       "         [ 6.6645e-01, -3.3427e-01,  4.8955e-02,  1.5579e-01, -5.6841e-01,\n",
       "           1.0992e-01, -1.6099e-02, -5.1232e-02,  4.8375e-01],\n",
       "         [ 6.9095e-01,  4.4310e-02, -3.4258e-01, -1.9128e-01, -5.8911e-01,\n",
       "          -1.4570e-02,  1.1264e-01,  6.2893e-02,  5.0172e-01],\n",
       "         [ 2.6358e-01, -7.6056e-04, -1.7616e-03,  1.0786e-03,  1.3860e+00,\n",
       "           2.2029e-04,  5.1842e-04, -3.1547e-04,  1.4362e+00],\n",
       "         [ 6.9837e-01, -1.9135e-01,  3.4838e-01,  5.8848e-02, -5.9528e-01,\n",
       "           6.2914e-02, -1.1455e-01, -1.9349e-02,  5.1004e-01],\n",
       "         [ 6.8460e-01, -1.1222e-01, -3.0564e-01,  2.1273e-01, -5.8364e-01,\n",
       "           3.6898e-02,  1.0050e-01, -6.9948e-02,  4.9989e-01],\n",
       "         [ 6.7748e-01, -1.1192e-02, -3.8877e-02, -3.8014e-01, -5.7763e-01,\n",
       "           3.6804e-03,  1.2784e-02,  1.2500e-01,  4.9456e-01],\n",
       "         [ 6.4762e-01,  3.4174e-01,  6.9268e-02,  6.4578e-02, -5.5241e-01,\n",
       "          -1.1239e-01, -2.2780e-02, -2.1238e-02,  4.7245e-01]],\n",
       "        grad_fn=<CatBackward0>),\n",
       " 'node_labels': tensor([ 1.2607e+00, -2.1029e-01,  4.2076e-04,  1.2923e-03, -1.0896e-03,\n",
       "          6.8128e-01,  8.7470e-01,  2.6035e-04,  7.9884e-04, -6.7065e-04,\n",
       "         -3.0542e-04, -1.0057e-04, -3.4632e-03,  2.4219e-07, -2.0307e-07,\n",
       "         -9.3718e-04, -3.0864e-04,  2.4219e-07, -3.4626e-03, -6.2294e-07,\n",
       "          7.8691e-04,  2.5932e-04, -2.0307e-07, -6.2294e-07, -3.4628e-03,\n",
       "          1.3597e-01,  1.2724e-01,  1.2225e-01,  1.1535e-01,  1.3641e+00,\n",
       "         -2.3473e-01,  1.6935e-05,  1.1578e-03, -6.3546e-04,  7.4534e-01,\n",
       "          9.6162e-01,  1.0439e-05,  6.9530e-04, -3.8185e-04, -1.2248e-05,\n",
       "         -4.0354e-06,  2.6629e-03,  8.4948e-09, -4.6660e-09, -8.1659e-04,\n",
       "         -2.7011e-04,  8.4948e-09,  2.6635e-03, -3.0840e-07,  4.4845e-04,\n",
       "          1.4832e-04, -4.6660e-09, -3.0840e-07,  2.6631e-03,  1.3163e-01,\n",
       "          1.3317e-01,  1.3026e-01,  1.3495e-01,  1.6467e+00, -3.0191e-01,\n",
       "          9.6252e-04,  1.6653e-03, -2.7970e-04,  9.2101e-01,  1.1992e+00,\n",
       "          5.4751e-04,  9.4511e-04, -1.5706e-04, -6.4437e-04, -2.1497e-04,\n",
       "          1.9617e-02,  6.0071e-07, -9.9467e-08, -1.1124e-03, -3.7124e-04,\n",
       "          6.0071e-07,  1.9618e-02, -1.7157e-07,  1.8494e-04,  6.1825e-05,\n",
       "         -9.9467e-08, -1.7157e-07,  1.9617e-02,  1.5761e-01,  1.5435e-01,\n",
       "          1.5430e-01,  1.3932e-01,  1.2652e+00, -2.1136e-01,  1.6639e-03,\n",
       "          1.2317e-03, -7.0375e-04,  6.8407e-01,  8.7849e-01,  1.0255e-03,\n",
       "          7.5592e-04, -4.3347e-04, -1.2032e-03, -3.9643e-04, -3.1876e-03,\n",
       "          9.0054e-07, -5.1694e-07, -8.8706e-04, -2.9245e-04,  9.0054e-07,\n",
       "         -3.1882e-03, -3.8059e-07,  5.0860e-04,  1.6759e-04, -5.1694e-07,\n",
       "         -3.8059e-07, -3.1886e-03,  1.1808e-01,  1.2454e-01,  1.2456e-01,\n",
       "          1.3493e-01,  1.5229e+00, -2.7242e-01, -1.9203e-04, -2.6528e-04,\n",
       "          5.4686e-04,  8.4396e-01,  1.0951e+00, -1.1095e-04, -1.5423e-04,\n",
       "          3.1833e-04,  1.3049e-04,  4.3426e-05,  1.2157e-02,  1.9832e-08,\n",
       "         -4.0950e-08,  1.8136e-04,  6.0293e-05,  1.9832e-08,  1.2157e-02,\n",
       "         -5.7039e-08, -3.7430e-04, -1.2441e-04, -4.0950e-08, -5.7039e-08,\n",
       "          1.2157e-02,  1.4926e-01,  1.4540e-01,  1.4365e-01,  1.3485e-01,\n",
       "          1.4074e+00, -2.4498e-01,  5.8734e-04,  1.0397e-03,  6.9471e-04,\n",
       "          7.7219e-01,  9.9800e-01,  3.4937e-04,  6.1882e-04,  4.1336e-04,\n",
       "         -4.1046e-04, -1.3597e-04,  5.2375e-03,  2.5109e-07,  1.6771e-07,\n",
       "         -7.2701e-04, -2.4081e-04,  2.5109e-07,  5.2378e-03,  2.9710e-07,\n",
       "         -4.8563e-04, -1.6087e-04,  1.6771e-07,  2.9710e-07,  5.2376e-03,\n",
       "          1.3973e-01,  1.3667e-01,  1.3249e-01,  1.3308e-01,  1.2720e+00,\n",
       "         -2.1295e-01,  3.0802e-04,  1.3302e-03,  9.0032e-04,  6.8824e-01,\n",
       "          8.8416e-01,  1.8760e-04,  8.1549e-04,  5.5403e-04, -2.2020e-04,\n",
       "         -7.2683e-05, -2.7918e-03,  1.7724e-07,  1.2054e-07, -9.5700e-04,\n",
       "         -3.1557e-04,  1.7724e-07, -2.7911e-03,  5.2500e-07, -6.5008e-04,\n",
       "         -2.1424e-04,  1.2054e-07,  5.2500e-07, -2.7915e-03,  1.2415e-01,\n",
       "          1.2269e-01,  1.2207e-01,  1.3512e-01,  1.5645e+00, -2.8239e-01,\n",
       "          4.6865e-04,  9.5123e-04,  1.2963e-03,  8.6994e-01,  1.1302e+00,\n",
       "          2.6984e-04,  5.4812e-04,  7.4609e-04, -3.1743e-04, -1.0569e-04,\n",
       "          1.4703e-02,  1.7162e-07,  2.3352e-07, -6.4475e-04, -2.1465e-04,\n",
       "          1.7162e-07,  1.4703e-02,  4.7446e-07, -8.7767e-04, -2.9225e-04,\n",
       "          2.3352e-07,  4.7446e-07,  1.4703e-02,  1.4089e-01,  1.4496e-01,\n",
       "          1.4819e-01,  1.5018e-01,  1.5597e+00, -2.8114e-01,  6.2686e-04,\n",
       "         -1.1298e-03, -5.8922e-04,  8.6679e-01,  1.1260e+00,  3.6168e-04,\n",
       "         -6.4961e-04, -3.3896e-04, -4.2543e-04, -1.4160e-04,  1.4343e-02,\n",
       "         -2.7240e-07, -1.4216e-07,  7.6421e-04,  2.5451e-04, -2.7240e-07,\n",
       "          1.4343e-02,  2.5505e-07,  3.9875e-04,  1.3279e-04, -1.4216e-07,\n",
       "          2.5505e-07,  1.4343e-02,  1.3628e-01,  1.4525e-01,  1.4528e-01,\n",
       "          1.5606e-01,  1.6348e+00, -2.9904e-01,  5.3669e-04,  1.2603e-03,\n",
       "         -7.6755e-04,  9.1358e-01,  1.1892e+00,  3.0766e-04,  7.1541e-04,\n",
       "         -4.3737e-04, -3.6197e-04, -1.2061e-04,  1.8868e-02,  2.5581e-07,\n",
       "         -1.5659e-07, -8.4204e-04, -2.8100e-04,  2.5581e-07,  1.8868e-02,\n",
       "         -3.6295e-07,  5.1471e-04,  1.7166e-04, -1.5659e-07, -3.6295e-07,\n",
       "          1.8868e-02,  1.6009e-01,  1.5389e-01,  1.5071e-01,  1.3781e-01],\n",
       "        grad_fn=<SumBackward1>),\n",
       " 'edge_labels': tensor([-8.3984e-02,  2.2228e-01, -2.0181e-05, -2.2835e-04,  2.8650e-04,\n",
       "         -7.9410e-02,  2.1666e-01, -2.4099e-03, -9.2453e-05, -1.3723e-03,\n",
       "         -7.6726e-02,  2.1261e-01,  2.8949e-03, -1.5408e-03, -2.2127e-03,\n",
       "         -7.2942e-02,  2.0609e-01,  7.6170e-04,  4.7216e-03,  2.4134e-03,\n",
       "         -8.3224e-02,  2.2423e-01, -2.6333e-05, -2.8712e-04,  3.9848e-04,\n",
       "         -8.4048e-02,  2.2521e-01, -4.6541e-05, -1.0942e-05, -1.9266e-05,\n",
       "         -8.2493e-02,  2.2331e-01,  5.6963e-04, -3.8257e-04, -5.5755e-04,\n",
       "         -8.4997e-02,  2.2628e-01, -1.4777e-04, -4.2621e-04, -1.6772e-04,\n",
       "         -1.0097e-01,  2.4425e-01, -1.0340e-02,  6.4512e-03, -1.4849e-03,\n",
       "         -9.9309e-02,  2.4435e-01,  1.0426e-04, -1.0768e-02, -9.0898e-04,\n",
       "         -9.9272e-02,  2.4435e-01,  6.3595e-03,  5.3030e-03, -6.9363e-03,\n",
       "         -9.1322e-02,  2.4041e-01,  2.0685e-03,  1.1176e-03,  4.1984e-03,\n",
       "         -7.4505e-02,  2.0898e-01,  1.7437e-03, -4.3563e-03, -9.4223e-04,\n",
       "         -7.8029e-02,  2.1473e-01,  1.0239e-03,  2.3714e-03, -2.1948e-03,\n",
       "         -7.8031e-02,  2.1475e-01,  2.4861e-04,  4.7939e-04,  3.3325e-03,\n",
       "         -8.3511e-02,  2.2191e-01, -6.0842e-04, -1.2160e-04, -7.3772e-06,\n",
       "         -9.4820e-02,  2.3859e-01, -5.8148e-03,  1.4535e-03, -4.1484e-03,\n",
       "         -9.2819e-02,  2.3767e-01,  2.9026e-03, -4.7329e-03, -1.6278e-03,\n",
       "         -9.1901e-02,  2.3711e-01,  2.8518e-03,  4.2439e-03,  3.8931e-04,\n",
       "         -8.7185e-02,  2.3293e-01, -5.9574e-04, -5.4546e-04,  1.9279e-03,\n",
       "         -8.8143e-02,  2.3060e-01, -2.1232e-03,  1.2995e-03,  1.7490e-05,\n",
       "         -8.6536e-02,  2.2910e-01, -1.5586e-04, -1.4727e-03,  1.0440e-05,\n",
       "         -8.4302e-02,  2.2664e-01,  1.1423e-04,  7.4882e-05, -1.4933e-04,\n",
       "         -8.4613e-02,  2.2701e-01,  1.9654e-04,  9.4523e-05,  3.1169e-04,\n",
       "         -7.7911e-02,  2.1470e-01,  2.1348e-03, -1.0036e-03,  2.4542e-03,\n",
       "         -7.7122e-02,  2.1347e-01, -2.7843e-03,  2.2169e-03,  1.1555e-03,\n",
       "         -7.6775e-02,  2.1293e-01, -1.5571e-03, -3.3668e-03, -1.1104e-03,\n",
       "         -8.3715e-02,  2.2231e-01,  2.0568e-04,  1.3792e-04, -4.2764e-04,\n",
       "         -9.1034e-02,  2.3777e-01, -3.2250e-03,  1.2494e-03, -2.9670e-03,\n",
       "         -9.3197e-02,  2.3929e-01,  3.8496e-03, -4.3615e-03, -1.7113e-03,\n",
       "         -9.4886e-02,  2.4015e-01,  3.4060e-03,  6.3458e-03,  1.3992e-03,\n",
       "         -9.5917e-02,  2.4051e-01, -2.7026e-03, -2.2270e-03,  7.3450e-03,\n",
       "         -8.8477e-02,  2.3528e-01,  3.5059e-04,  2.1314e-03, -1.9557e-03,\n",
       "         -9.3280e-02,  2.3919e-01,  4.6675e-03, -5.4418e-04,  3.9278e-03,\n",
       "         -9.3299e-02,  2.3920e-01, -5.5063e-03,  8.1143e-04,  2.5677e-03,\n",
       "         -9.8834e-02,  2.4066e-01,  1.1845e-03, -9.1756e-03, -5.1232e-03,\n",
       "         -1.0202e-01,  2.4344e-01, -6.3315e-03,  1.1517e-02,  1.9501e-03,\n",
       "         -9.8893e-02,  2.4385e-01, -3.0212e-03, -8.2277e-03,  5.7261e-03,\n",
       "         -9.7243e-02,  2.4356e-01, -2.6974e-04, -9.3409e-04, -9.0713e-03,\n",
       "         -9.0336e-02,  2.3917e-01,  4.0129e-03,  8.0795e-04,  7.6240e-04],\n",
       "        grad_fn=<SumBackward1>)}"
      ]
     },
     "execution_count": 84,
     "metadata": {},
     "output_type": "execute_result"
    }
   ],
   "source": [
    "new_model(data_0)"
   ]
  }
 ],
 "metadata": {
  "kernelspec": {
   "display_name": "base",
   "language": "python",
   "name": "python3"
  },
  "language_info": {
   "codemirror_mode": {
    "name": "ipython",
    "version": 3
   },
   "file_extension": ".py",
   "mimetype": "text/x-python",
   "name": "python",
   "nbconvert_exporter": "python",
   "pygments_lexer": "ipython3",
   "version": "3.11.5"
  }
 },
 "nbformat": 4,
 "nbformat_minor": 2
}
