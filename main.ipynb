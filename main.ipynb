{
 "cells": [
  {
   "cell_type": "code",
   "execution_count": 1,
   "metadata": {},
   "outputs": [
    {
     "name": "stderr",
     "output_type": "stream",
     "text": [
      "/Users/royalty/miniconda3/lib/python3.11/site-packages/transformers/utils/generic.py:441: UserWarning: torch.utils._pytree._register_pytree_node is deprecated. Please use torch.utils._pytree.register_pytree_node instead.\n",
      "  _torch_pytree._register_pytree_node(\n",
      "2024-11-19 15:30:51.354554: I tensorflow/core/platform/cpu_feature_guard.cc:210] This TensorFlow binary is optimized to use available CPU instructions in performance-critical operations.\n",
      "To enable the following instructions: AVX2 FMA, in other operations, rebuild TensorFlow with the appropriate compiler flags.\n"
     ]
    }
   ],
   "source": [
    "import numpy as np\n",
    "import os\n",
    "import torch\n",
    "from torch_geometric.loader import DataLoader\n",
    "import torch.optim as optim\n",
    "from torch.utils.tensorboard import SummaryWriter\n",
    "\n",
    "from sklearn.model_selection import train_test_split\n",
    "\n",
    "from e3nn import o3\n",
    "\n",
    "from mace.modules import MACE, RealAgnosticResidualInteractionBlock\n",
    "\n",
    "from graph2mat import metrics\n",
    "\n",
    "from graph2mat import (\n",
    "    BasisConfiguration,\n",
    "    PointBasis,\n",
    "    BasisTableWithEdges,\n",
    "    MatrixDataProcessor,\n",
    ")\n",
    "from graph2mat.bindings.torch import TorchBasisMatrixDataset, TorchBasisMatrixData\n",
    "\n",
    "from graph2mat.bindings.e3nn import E3nnGraph2Mat\n",
    "\n",
    "# from graph2mat.tools.viz import plot_basis_matrix\n",
    "\n",
    "from graph2mat.models import MatrixMACE\n",
    "\n",
    "from graph2mat.bindings.e3nn import E3nnEdgeMessageBlock\n",
    "\n",
    "from tools import get_atom_list, get_atom_position_list\n",
    "\n",
    "import pickle"
   ]
  },
  {
   "cell_type": "code",
   "execution_count": 87,
   "metadata": {},
   "outputs": [
    {
     "name": "stderr",
     "output_type": "stream",
     "text": [
      "/Users/royalty/miniconda3/lib/python3.11/site-packages/torch/jit/_check.py:177: UserWarning:\n",
      "\n",
      "The TorchScript type system doesn't support instance-level annotations on empty non-base types in `__init__`. Instead, either 1) use a type annotation in the class body, or 2) wrap the type in `torch.jit.Attribute`.\n",
      "\n",
      "/Users/royalty/miniconda3/lib/python3.11/site-packages/mace/modules/blocks.py:140: UserWarning:\n",
      "\n",
      "To copy construct from a tensor, it is recommended to use sourceTensor.clone().detach() or sourceTensor.clone().detach().requires_grad_(True), rather than torch.tensor(sourceTensor).\n",
      "\n",
      "/Users/royalty/miniconda3/lib/python3.11/site-packages/torch/jit/_check.py:177: UserWarning:\n",
      "\n",
      "The TorchScript type system doesn't support instance-level annotations on empty non-base types in `__init__`. Instead, either 1) use a type annotation in the class body, or 2) wrap the type in `torch.jit.Attribute`.\n",
      "\n",
      "/Users/royalty/miniconda3/lib/python3.11/site-packages/torch/jit/_check.py:177: UserWarning:\n",
      "\n",
      "The TorchScript type system doesn't support instance-level annotations on empty non-base types in `__init__`. Instead, either 1) use a type annotation in the class body, or 2) wrap the type in `torch.jit.Attribute`.\n",
      "\n",
      "/Users/royalty/miniconda3/lib/python3.11/site-packages/torch/jit/_check.py:177: UserWarning:\n",
      "\n",
      "The TorchScript type system doesn't support instance-level annotations on empty non-base types in `__init__`. Instead, either 1) use a type annotation in the class body, or 2) wrap the type in `torch.jit.Attribute`.\n",
      "\n",
      "/Users/royalty/miniconda3/lib/python3.11/site-packages/torch/jit/_check.py:177: UserWarning:\n",
      "\n",
      "The TorchScript type system doesn't support instance-level annotations on empty non-base types in `__init__`. Instead, either 1) use a type annotation in the class body, or 2) wrap the type in `torch.jit.Attribute`.\n",
      "\n",
      "/Users/royalty/miniconda3/lib/python3.11/site-packages/torch/jit/_check.py:177: UserWarning:\n",
      "\n",
      "The TorchScript type system doesn't support instance-level annotations on empty non-base types in `__init__`. Instead, either 1) use a type annotation in the class body, or 2) wrap the type in `torch.jit.Attribute`.\n",
      "\n",
      "/Users/royalty/miniconda3/lib/python3.11/site-packages/torch/jit/_check.py:177: UserWarning:\n",
      "\n",
      "The TorchScript type system doesn't support instance-level annotations on empty non-base types in `__init__`. Instead, either 1) use a type annotation in the class body, or 2) wrap the type in `torch.jit.Attribute`.\n",
      "\n",
      "/Users/royalty/miniconda3/lib/python3.11/site-packages/torch/jit/_check.py:177: UserWarning:\n",
      "\n",
      "The TorchScript type system doesn't support instance-level annotations on empty non-base types in `__init__`. Instead, either 1) use a type annotation in the class body, or 2) wrap the type in `torch.jit.Attribute`.\n",
      "\n",
      "/Users/royalty/miniconda3/lib/python3.11/site-packages/torch/jit/_check.py:177: UserWarning:\n",
      "\n",
      "The TorchScript type system doesn't support instance-level annotations on empty non-base types in `__init__`. Instead, either 1) use a type annotation in the class body, or 2) wrap the type in `torch.jit.Attribute`.\n",
      "\n",
      "/Users/royalty/miniconda3/lib/python3.11/site-packages/torch/jit/_check.py:177: UserWarning:\n",
      "\n",
      "The TorchScript type system doesn't support instance-level annotations on empty non-base types in `__init__`. Instead, either 1) use a type annotation in the class body, or 2) wrap the type in `torch.jit.Attribute`.\n",
      "\n",
      "/Users/royalty/miniconda3/lib/python3.11/site-packages/torch/jit/_check.py:177: UserWarning:\n",
      "\n",
      "The TorchScript type system doesn't support instance-level annotations on empty non-base types in `__init__`. Instead, either 1) use a type annotation in the class body, or 2) wrap the type in `torch.jit.Attribute`.\n",
      "\n",
      "/Users/royalty/miniconda3/lib/python3.11/site-packages/torch/jit/_check.py:177: UserWarning:\n",
      "\n",
      "The TorchScript type system doesn't support instance-level annotations on empty non-base types in `__init__`. Instead, either 1) use a type annotation in the class body, or 2) wrap the type in `torch.jit.Attribute`.\n",
      "\n",
      "/Users/royalty/miniconda3/lib/python3.11/site-packages/torch/jit/_check.py:177: UserWarning:\n",
      "\n",
      "The TorchScript type system doesn't support instance-level annotations on empty non-base types in `__init__`. Instead, either 1) use a type annotation in the class body, or 2) wrap the type in `torch.jit.Attribute`.\n",
      "\n",
      "/Users/royalty/miniconda3/lib/python3.11/site-packages/torch/jit/_check.py:177: UserWarning:\n",
      "\n",
      "The TorchScript type system doesn't support instance-level annotations on empty non-base types in `__init__`. Instead, either 1) use a type annotation in the class body, or 2) wrap the type in `torch.jit.Attribute`.\n",
      "\n",
      "/Users/royalty/miniconda3/lib/python3.11/site-packages/torch/jit/_check.py:177: UserWarning:\n",
      "\n",
      "The TorchScript type system doesn't support instance-level annotations on empty non-base types in `__init__`. Instead, either 1) use a type annotation in the class body, or 2) wrap the type in `torch.jit.Attribute`.\n",
      "\n",
      "/Users/royalty/miniconda3/lib/python3.11/site-packages/torch/jit/_check.py:177: UserWarning:\n",
      "\n",
      "The TorchScript type system doesn't support instance-level annotations on empty non-base types in `__init__`. Instead, either 1) use a type annotation in the class body, or 2) wrap the type in `torch.jit.Attribute`.\n",
      "\n",
      "/Users/royalty/miniconda3/lib/python3.11/site-packages/torch/jit/_check.py:177: UserWarning:\n",
      "\n",
      "The TorchScript type system doesn't support instance-level annotations on empty non-base types in `__init__`. Instead, either 1) use a type annotation in the class body, or 2) wrap the type in `torch.jit.Attribute`.\n",
      "\n",
      "/Users/royalty/miniconda3/lib/python3.11/site-packages/torch/jit/_check.py:177: UserWarning:\n",
      "\n",
      "The TorchScript type system doesn't support instance-level annotations on empty non-base types in `__init__`. Instead, either 1) use a type annotation in the class body, or 2) wrap the type in `torch.jit.Attribute`.\n",
      "\n",
      "/Users/royalty/miniconda3/lib/python3.11/site-packages/torch/jit/_check.py:177: UserWarning:\n",
      "\n",
      "The TorchScript type system doesn't support instance-level annotations on empty non-base types in `__init__`. Instead, either 1) use a type annotation in the class body, or 2) wrap the type in `torch.jit.Attribute`.\n",
      "\n",
      "/Users/royalty/miniconda3/lib/python3.11/site-packages/torch/jit/_check.py:177: UserWarning:\n",
      "\n",
      "The TorchScript type system doesn't support instance-level annotations on empty non-base types in `__init__`. Instead, either 1) use a type annotation in the class body, or 2) wrap the type in `torch.jit.Attribute`.\n",
      "\n"
     ]
    }
   ],
   "source": [
    "# load the original data\n",
    "\n",
    "with open('data_631g.pkl', 'rb') as f:\n",
    "    data = pickle.load(f)\n",
    "    \n",
    "# The basis 6-31g\n",
    "hydrogen = PointBasis(\"H\", R=2, basis=\"2x0e\", basis_convention=\"spherical\")\n",
    "carbon = PointBasis(\"C\", R=5, basis=\"3x0e + 2x1o\", basis_convention=\"spherical\")\n",
    "basis_list = [hydrogen, carbon]\n",
    "\n",
    "# prepare basis table and preprocessor\n",
    "table = BasisTableWithEdges([hydrogen, carbon])\n",
    "\n",
    "processor = MatrixDataProcessor(\n",
    "    basis_table=table, symmetric_matrix=True, sub_point_matrix=False\n",
    ")\n",
    "\n",
    "# form the dataset\n",
    "\n",
    "def prepare_config(atom_data, density_matrixes):\n",
    "# def prepare_config(atom_data):\n",
    "    configs = []\n",
    "    for i in range(len(atom_data)):\n",
    "        config = BasisConfiguration(\n",
    "            point_types = [\"C\", \"H\", \"H\", \"H\", \"H\"],\n",
    "            positions = get_atom_position_list(atom_data[i]),\n",
    "            basis = basis_list,\n",
    "            cell=np.eye(3) * 100,\n",
    "            pbc=(False, False, False),\n",
    "            matrix = np.array(density_matrixes[i])\n",
    "        )\n",
    "        configs.append(config)\n",
    "    return configs\n",
    "\n",
    "configs = prepare_config(data['feature'], data['target'])\n",
    "\n",
    "# split the data and create the loaders\n",
    "\n",
    "train_configs, val_configs = train_test_split(configs, test_size=0.25, random_state=56)\n",
    "\n",
    "train_dataset = TorchBasisMatrixDataset(train_configs, data_processor=processor)\n",
    "val_dataset = TorchBasisMatrixDataset(val_configs, data_processor=processor)\n",
    "\n",
    "train_loader = DataLoader(train_dataset, batch_size=6, shuffle=True, pin_memory=True)\n",
    "val_loader = DataLoader(val_dataset, batch_size=5, shuffle=True, pin_memory=True)\n",
    "\n",
    "# define the model\n",
    "\n",
    "num_interactions = 3\n",
    "hidden_irreps = o3.Irreps(\"1x0e + 1x1o\")\n",
    "\n",
    "mace_model = MACE(\n",
    "    r_max=10,\n",
    "    num_bessel=10,\n",
    "    num_polynomial_cutoff=10,\n",
    "    max_ell=2,  # 1,\n",
    "    interaction_cls=RealAgnosticResidualInteractionBlock,\n",
    "    interaction_cls_first=RealAgnosticResidualInteractionBlock,\n",
    "    num_interactions=num_interactions,\n",
    "    num_elements=2,\n",
    "    hidden_irreps=hidden_irreps,\n",
    "    MLP_irreps=o3.Irreps(\"2x0e\"),\n",
    "    atomic_energies=torch.tensor([0, 0]),\n",
    "    avg_num_neighbors=2,\n",
    "    atomic_numbers=[0, 1],\n",
    "    correlation=2,\n",
    "    gate=None,\n",
    ")\n",
    "\n",
    "# model_100 = MatrixMACE(\n",
    "#     mace_model,\n",
    "#     unique_basis=table,\n",
    "#     readout_per_interaction=True,\n",
    "#     edge_hidden_irreps=o3.Irreps(\"10x0e + 10x1o + 10x2e\"),\n",
    "#     preprocessing_edges=E3nnEdgeMessageBlock,\n",
    "#     preprocessing_edges_reuse_nodes=False,\n",
    "# )"
   ]
  },
  {
   "cell_type": "code",
   "execution_count": null,
   "metadata": {},
   "outputs": [
    {
     "data": {
      "text/plain": [
       "<All keys matched successfully>"
      ]
     },
     "execution_count": 93,
     "metadata": {},
     "output_type": "execute_result"
    }
   ],
   "source": [
    "# # load the model\n",
    "\n",
    "model_1000 = MatrixMACE(\n",
    "    mace_model,\n",
    "    unique_basis=table,\n",
    "    readout_per_interaction=True,\n",
    "    edge_hidden_irreps=o3.Irreps(\"10x0e + 10x1o + 10x2e\"),\n",
    "    preprocessing_edges=E3nnEdgeMessageBlock,\n",
    "    preprocessing_edges_reuse_nodes=False,\n",
    ")"
   ]
  },
  {
   "cell_type": "code",
   "execution_count": null,
   "metadata": {},
   "outputs": [],
   "source": [
    "model_1000.load_state_dict(torch.load('./models_25/model_2000.pt', map_location=torch.device('cpu')))"
   ]
  },
  {
   "cell_type": "code",
   "execution_count": 94,
   "metadata": {},
   "outputs": [
    {
     "data": {
      "application/vnd.plotly.v1+json": {
       "config": {
        "plotlyServerURL": "https://plot.ly"
       },
       "data": [
        {
         "coloraxis": "coloraxis",
         "hovertemplate": "x: %{x}<br>y: %{y}<br>color: %{z}<extra></extra>",
         "name": "0",
         "texttemplate": "%{z:.2f}",
         "type": "heatmap",
         "xaxis": "x",
         "yaxis": "y",
         "z": [
          [
           2.0616786,
           -0.09592863,
           -0.18390502,
           -0.0014401635,
           0.00013278241,
           -0.00090713834,
           0.0012811751,
           -0.00076264335,
           0.00005789904,
           -0.049874537,
           -0.0036144506,
           -0.053749356,
           -0.008440982,
           -0.0556267,
           -0.0112022115,
           -0.05051857,
           -0.0075035165
          ],
          [
           -0.09592863,
           0.27851304,
           0.2887116,
           0.005230609,
           -0.0012007626,
           0.0026128779,
           0.0009737757,
           -0.000096695105,
           -0.00031618617,
           0.0930215,
           0.017728861,
           0.102177165,
           0.027920729,
           0.10694215,
           0.033586666,
           0.09429812,
           0.024304483
          ],
          [
           -0.18390502,
           0.2887116,
           0.30308995,
           -0.0030899514,
           0.0015649932,
           -0.002609236,
           -0.0034963903,
           0.0013006036,
           -0.0031135553,
           0.09913341,
           0.019851627,
           0.104811005,
           0.026994757,
           0.10632739,
           0.030582238,
           0.104228675,
           0.029789262
          ],
          [
           -0.0014401635,
           0.005230609,
           -0.0030899514,
           0.3766649,
           -0.00042569384,
           -0.0021022342,
           0.19535655,
           -0.0022451147,
           0.000098790515,
           -0.18870579,
           -0.15759963,
           0.15300073,
           0.1315771,
           0.13457051,
           0.11546985,
           -0.11225271,
           -0.0883144
          ],
          [
           0.00013278241,
           -0.0012007626,
           0.0015649932,
           -0.00042569384,
           0.3791674,
           -0.00016738346,
           -0.0017033922,
           0.19743036,
           0.009519202,
           0.03148304,
           0.03682471,
           0.20971556,
           0.16757855,
           -0.21286924,
           -0.17082238,
           -0.022239022,
           -0.03742214
          ],
          [
           -0.00090713834,
           0.0026128779,
           -0.002609236,
           -0.0021022342,
           -0.00016738346,
           0.3720923,
           0.00027021326,
           0.009297668,
           0.19800441,
           0.17997232,
           0.15752788,
           0.0012624146,
           0.01170466,
           0.053073656,
           0.025612455,
           -0.2283367,
           -0.20055345
          ],
          [
           0.0012811751,
           0.0009737757,
           -0.0034963903,
           0.19535655,
           -0.0017033922,
           0.00027021326,
           0.10134412,
           -0.0019056849,
           0.00074832875,
           -0.09794757,
           -0.08142675,
           0.0778937,
           0.06746584,
           0.07015435,
           0.06045457,
           -0.05959516,
           -0.046560604
          ],
          [
           -0.00076264335,
           -0.000096695105,
           0.0013006036,
           -0.0022451147,
           0.19743036,
           0.009297668,
           -0.0019056849,
           0.10304897,
           0.009941329,
           0.022086227,
           0.024000013,
           0.10861339,
           0.086910956,
           -0.110018715,
           -0.08885101,
           -0.016567716,
           -0.024029119
          ],
          [
           0.00005789904,
           -0.00031618617,
           -0.0031135553,
           0.000098790515,
           0.009519202,
           0.19800441,
           0.00074832875,
           0.009941329,
           0.105623424,
           0.095383786,
           0.08413547,
           0.0058737593,
           0.010743656,
           0.022655683,
           0.009487212,
           -0.123035185,
           -0.10812775
          ],
          [
           -0.049874537,
           0.0930215,
           0.09913341,
           -0.18870579,
           0.03148304,
           0.17997232,
           -0.09794757,
           0.022086227,
           0.095383786,
           0.2153754,
           0.16371489,
           -0.023950499,
           -0.037075706,
           -0.02366148,
           -0.048730575,
           -0.022510955,
           -0.046441633
          ],
          [
           -0.0036144506,
           0.017728861,
           0.019851627,
           -0.15759963,
           0.03682471,
           0.15752788,
           -0.08142675,
           0.024000013,
           0.08413547,
           0.16371489,
           0.13673593,
           -0.035981506,
           -0.031768266,
           -0.04719779,
           -0.051663134,
           -0.045007277,
           -0.049507592
          ],
          [
           -0.053749356,
           0.102177165,
           0.104811005,
           0.15300073,
           0.20971556,
           0.0012624146,
           0.0778937,
           0.10861339,
           0.0058737593,
           -0.023950499,
           -0.035981506,
           0.21493599,
           0.15595227,
           -0.024971467,
           -0.036122844,
           -0.023941666,
           -0.04813883
          ],
          [
           -0.008440982,
           0.027920729,
           0.026994757,
           0.1315771,
           0.16757855,
           0.01170466,
           0.06746584,
           0.086910956,
           0.010743656,
           -0.037075706,
           -0.031768266,
           0.15595227,
           0.123108245,
           -0.03537932,
           -0.03131108,
           -0.047534,
           -0.051652133
          ],
          [
           -0.0556267,
           0.10694215,
           0.10632739,
           0.13457051,
           -0.21286924,
           0.053073656,
           0.07015435,
           -0.110018715,
           0.022655683,
           -0.02366148,
           -0.04719779,
           -0.024971467,
           -0.03537932,
           0.21421698,
           0.15247227,
           -0.024057647,
           -0.029516557
          ],
          [
           -0.0112022115,
           0.033586666,
           0.030582238,
           0.11546985,
           -0.17082238,
           0.025612455,
           0.06045457,
           -0.08885101,
           0.009487212,
           -0.048730575,
           -0.051663134,
           -0.036122844,
           -0.03131108,
           0.15247227,
           0.117591456,
           -0.029518755,
           -0.021315815
          ],
          [
           -0.05051857,
           0.09429812,
           0.104228675,
           -0.11225271,
           -0.022239022,
           -0.2283367,
           -0.05959516,
           -0.016567716,
           -0.123035185,
           -0.022510955,
           -0.045007277,
           -0.023941666,
           -0.047534,
           -0.024057647,
           -0.029518755,
           0.20992057,
           0.16164659
          ],
          [
           -0.0075035165,
           0.024304483,
           0.029789262,
           -0.0883144,
           -0.03742214,
           -0.20055345,
           -0.046560604,
           -0.024029119,
           -0.10812775,
           -0.046441633,
           -0.049507592,
           -0.04813883,
           -0.051652133,
           -0.029516557,
           -0.021315815,
           0.16164659,
           0.13565712
          ]
         ]
        }
       ],
       "layout": {
        "coloraxis": {
         "cmid": 0,
         "colorscale": [
          [
           0,
           "rgb(103,0,31)"
          ],
          [
           0.1,
           "rgb(178,24,43)"
          ],
          [
           0.2,
           "rgb(214,96,77)"
          ],
          [
           0.3,
           "rgb(244,165,130)"
          ],
          [
           0.4,
           "rgb(253,219,199)"
          ],
          [
           0.5,
           "rgb(247,247,247)"
          ],
          [
           0.6,
           "rgb(209,229,240)"
          ],
          [
           0.7,
           "rgb(146,197,222)"
          ],
          [
           0.8,
           "rgb(67,147,195)"
          ],
          [
           0.9,
           "rgb(33,102,172)"
          ],
          [
           1,
           "rgb(5,48,97)"
          ]
         ]
        },
        "height": 700,
        "margin": {
         "t": 60
        },
        "shapes": [
         {
          "line": {
           "color": "#123456"
          },
          "type": "line",
          "x0": 0,
          "x1": 1,
          "xref": "x domain",
          "y0": 8.5,
          "y1": 8.5,
          "yref": "y"
         },
         {
          "line": {
           "color": "#123456"
          },
          "type": "line",
          "x0": 8.5,
          "x1": 8.5,
          "xref": "x",
          "y0": 0,
          "y1": 1,
          "yref": "y domain"
         },
         {
          "line": {
           "color": "#123456"
          },
          "type": "line",
          "x0": 0,
          "x1": 1,
          "xref": "x domain",
          "y0": 10.5,
          "y1": 10.5,
          "yref": "y"
         },
         {
          "line": {
           "color": "#123456"
          },
          "type": "line",
          "x0": 10.5,
          "x1": 10.5,
          "xref": "x",
          "y0": 0,
          "y1": 1,
          "yref": "y domain"
         },
         {
          "line": {
           "color": "#123456"
          },
          "type": "line",
          "x0": 0,
          "x1": 1,
          "xref": "x domain",
          "y0": 12.5,
          "y1": 12.5,
          "yref": "y"
         },
         {
          "line": {
           "color": "#123456"
          },
          "type": "line",
          "x0": 12.5,
          "x1": 12.5,
          "xref": "x",
          "y0": 0,
          "y1": 1,
          "yref": "y domain"
         },
         {
          "line": {
           "color": "#123456"
          },
          "type": "line",
          "x0": 0,
          "x1": 1,
          "xref": "x domain",
          "y0": 14.5,
          "y1": 14.5,
          "yref": "y"
         },
         {
          "line": {
           "color": "#123456"
          },
          "type": "line",
          "x0": 14.5,
          "x1": 14.5,
          "xref": "x",
          "y0": 0,
          "y1": 1,
          "yref": "y domain"
         },
         {
          "line": {
           "color": "#888888",
           "dash": "dot"
          },
          "type": "line",
          "x0": 0,
          "x1": 1,
          "xref": "x domain",
          "y0": 0.5,
          "y1": 0.5,
          "yref": "y"
         },
         {
          "line": {
           "color": "#888888",
           "dash": "dot"
          },
          "type": "line",
          "x0": 0.5,
          "x1": 0.5,
          "xref": "x",
          "y0": 0,
          "y1": 1,
          "yref": "y domain"
         },
         {
          "line": {
           "color": "#888888",
           "dash": "dot"
          },
          "type": "line",
          "x0": 0,
          "x1": 1,
          "xref": "x domain",
          "y0": 1.5,
          "y1": 1.5,
          "yref": "y"
         },
         {
          "line": {
           "color": "#888888",
           "dash": "dot"
          },
          "type": "line",
          "x0": 1.5,
          "x1": 1.5,
          "xref": "x",
          "y0": 0,
          "y1": 1,
          "yref": "y domain"
         },
         {
          "line": {
           "color": "#888888",
           "dash": "dot"
          },
          "type": "line",
          "x0": 0,
          "x1": 1,
          "xref": "x domain",
          "y0": 2.5,
          "y1": 2.5,
          "yref": "y"
         },
         {
          "line": {
           "color": "#888888",
           "dash": "dot"
          },
          "type": "line",
          "x0": 2.5,
          "x1": 2.5,
          "xref": "x",
          "y0": 0,
          "y1": 1,
          "yref": "y domain"
         },
         {
          "line": {
           "color": "#888888",
           "dash": "dot"
          },
          "type": "line",
          "x0": 0,
          "x1": 1,
          "xref": "x domain",
          "y0": 5.5,
          "y1": 5.5,
          "yref": "y"
         },
         {
          "line": {
           "color": "#888888",
           "dash": "dot"
          },
          "type": "line",
          "x0": 5.5,
          "x1": 5.5,
          "xref": "x",
          "y0": 0,
          "y1": 1,
          "yref": "y domain"
         },
         {
          "line": {
           "color": "#888888",
           "dash": "dot"
          },
          "type": "line",
          "x0": 0,
          "x1": 1,
          "xref": "x domain",
          "y0": 9.5,
          "y1": 9.5,
          "yref": "y"
         },
         {
          "line": {
           "color": "#888888",
           "dash": "dot"
          },
          "type": "line",
          "x0": 9.5,
          "x1": 9.5,
          "xref": "x",
          "y0": 0,
          "y1": 1,
          "yref": "y domain"
         },
         {
          "line": {
           "color": "#888888",
           "dash": "dot"
          },
          "type": "line",
          "x0": 0,
          "x1": 1,
          "xref": "x domain",
          "y0": 11.5,
          "y1": 11.5,
          "yref": "y"
         },
         {
          "line": {
           "color": "#888888",
           "dash": "dot"
          },
          "type": "line",
          "x0": 11.5,
          "x1": 11.5,
          "xref": "x",
          "y0": 0,
          "y1": 1,
          "yref": "y domain"
         },
         {
          "line": {
           "color": "#888888",
           "dash": "dot"
          },
          "type": "line",
          "x0": 0,
          "x1": 1,
          "xref": "x domain",
          "y0": 13.5,
          "y1": 13.5,
          "yref": "y"
         },
         {
          "line": {
           "color": "#888888",
           "dash": "dot"
          },
          "type": "line",
          "x0": 13.5,
          "x1": 13.5,
          "xref": "x",
          "y0": 0,
          "y1": 1,
          "yref": "y domain"
         },
         {
          "line": {
           "color": "#888888",
           "dash": "dot"
          },
          "type": "line",
          "x0": 0,
          "x1": 1,
          "xref": "x domain",
          "y0": 15.5,
          "y1": 15.5,
          "yref": "y"
         },
         {
          "line": {
           "color": "#888888",
           "dash": "dot"
          },
          "type": "line",
          "x0": 15.5,
          "x1": 15.5,
          "xref": "x",
          "y0": 0,
          "y1": 1,
          "yref": "y domain"
         }
        ],
        "template": {
         "data": {
          "bar": [
           {
            "error_x": {
             "color": "#2a3f5f"
            },
            "error_y": {
             "color": "#2a3f5f"
            },
            "marker": {
             "line": {
              "color": "#E5ECF6",
              "width": 0.5
             },
             "pattern": {
              "fillmode": "overlay",
              "size": 10,
              "solidity": 0.2
             }
            },
            "type": "bar"
           }
          ],
          "barpolar": [
           {
            "marker": {
             "line": {
              "color": "#E5ECF6",
              "width": 0.5
             },
             "pattern": {
              "fillmode": "overlay",
              "size": 10,
              "solidity": 0.2
             }
            },
            "type": "barpolar"
           }
          ],
          "carpet": [
           {
            "aaxis": {
             "endlinecolor": "#2a3f5f",
             "gridcolor": "white",
             "linecolor": "white",
             "minorgridcolor": "white",
             "startlinecolor": "#2a3f5f"
            },
            "baxis": {
             "endlinecolor": "#2a3f5f",
             "gridcolor": "white",
             "linecolor": "white",
             "minorgridcolor": "white",
             "startlinecolor": "#2a3f5f"
            },
            "type": "carpet"
           }
          ],
          "choropleth": [
           {
            "colorbar": {
             "outlinewidth": 0,
             "ticks": ""
            },
            "type": "choropleth"
           }
          ],
          "contour": [
           {
            "colorbar": {
             "outlinewidth": 0,
             "ticks": ""
            },
            "colorscale": [
             [
              0,
              "#0d0887"
             ],
             [
              0.1111111111111111,
              "#46039f"
             ],
             [
              0.2222222222222222,
              "#7201a8"
             ],
             [
              0.3333333333333333,
              "#9c179e"
             ],
             [
              0.4444444444444444,
              "#bd3786"
             ],
             [
              0.5555555555555556,
              "#d8576b"
             ],
             [
              0.6666666666666666,
              "#ed7953"
             ],
             [
              0.7777777777777778,
              "#fb9f3a"
             ],
             [
              0.8888888888888888,
              "#fdca26"
             ],
             [
              1,
              "#f0f921"
             ]
            ],
            "type": "contour"
           }
          ],
          "contourcarpet": [
           {
            "colorbar": {
             "outlinewidth": 0,
             "ticks": ""
            },
            "type": "contourcarpet"
           }
          ],
          "heatmap": [
           {
            "colorbar": {
             "outlinewidth": 0,
             "ticks": ""
            },
            "colorscale": [
             [
              0,
              "#0d0887"
             ],
             [
              0.1111111111111111,
              "#46039f"
             ],
             [
              0.2222222222222222,
              "#7201a8"
             ],
             [
              0.3333333333333333,
              "#9c179e"
             ],
             [
              0.4444444444444444,
              "#bd3786"
             ],
             [
              0.5555555555555556,
              "#d8576b"
             ],
             [
              0.6666666666666666,
              "#ed7953"
             ],
             [
              0.7777777777777778,
              "#fb9f3a"
             ],
             [
              0.8888888888888888,
              "#fdca26"
             ],
             [
              1,
              "#f0f921"
             ]
            ],
            "type": "heatmap"
           }
          ],
          "heatmapgl": [
           {
            "colorbar": {
             "outlinewidth": 0,
             "ticks": ""
            },
            "colorscale": [
             [
              0,
              "#0d0887"
             ],
             [
              0.1111111111111111,
              "#46039f"
             ],
             [
              0.2222222222222222,
              "#7201a8"
             ],
             [
              0.3333333333333333,
              "#9c179e"
             ],
             [
              0.4444444444444444,
              "#bd3786"
             ],
             [
              0.5555555555555556,
              "#d8576b"
             ],
             [
              0.6666666666666666,
              "#ed7953"
             ],
             [
              0.7777777777777778,
              "#fb9f3a"
             ],
             [
              0.8888888888888888,
              "#fdca26"
             ],
             [
              1,
              "#f0f921"
             ]
            ],
            "type": "heatmapgl"
           }
          ],
          "histogram": [
           {
            "marker": {
             "pattern": {
              "fillmode": "overlay",
              "size": 10,
              "solidity": 0.2
             }
            },
            "type": "histogram"
           }
          ],
          "histogram2d": [
           {
            "colorbar": {
             "outlinewidth": 0,
             "ticks": ""
            },
            "colorscale": [
             [
              0,
              "#0d0887"
             ],
             [
              0.1111111111111111,
              "#46039f"
             ],
             [
              0.2222222222222222,
              "#7201a8"
             ],
             [
              0.3333333333333333,
              "#9c179e"
             ],
             [
              0.4444444444444444,
              "#bd3786"
             ],
             [
              0.5555555555555556,
              "#d8576b"
             ],
             [
              0.6666666666666666,
              "#ed7953"
             ],
             [
              0.7777777777777778,
              "#fb9f3a"
             ],
             [
              0.8888888888888888,
              "#fdca26"
             ],
             [
              1,
              "#f0f921"
             ]
            ],
            "type": "histogram2d"
           }
          ],
          "histogram2dcontour": [
           {
            "colorbar": {
             "outlinewidth": 0,
             "ticks": ""
            },
            "colorscale": [
             [
              0,
              "#0d0887"
             ],
             [
              0.1111111111111111,
              "#46039f"
             ],
             [
              0.2222222222222222,
              "#7201a8"
             ],
             [
              0.3333333333333333,
              "#9c179e"
             ],
             [
              0.4444444444444444,
              "#bd3786"
             ],
             [
              0.5555555555555556,
              "#d8576b"
             ],
             [
              0.6666666666666666,
              "#ed7953"
             ],
             [
              0.7777777777777778,
              "#fb9f3a"
             ],
             [
              0.8888888888888888,
              "#fdca26"
             ],
             [
              1,
              "#f0f921"
             ]
            ],
            "type": "histogram2dcontour"
           }
          ],
          "mesh3d": [
           {
            "colorbar": {
             "outlinewidth": 0,
             "ticks": ""
            },
            "type": "mesh3d"
           }
          ],
          "parcoords": [
           {
            "line": {
             "colorbar": {
              "outlinewidth": 0,
              "ticks": ""
             }
            },
            "type": "parcoords"
           }
          ],
          "pie": [
           {
            "automargin": true,
            "type": "pie"
           }
          ],
          "scatter": [
           {
            "fillpattern": {
             "fillmode": "overlay",
             "size": 10,
             "solidity": 0.2
            },
            "type": "scatter"
           }
          ],
          "scatter3d": [
           {
            "line": {
             "colorbar": {
              "outlinewidth": 0,
              "ticks": ""
             }
            },
            "marker": {
             "colorbar": {
              "outlinewidth": 0,
              "ticks": ""
             }
            },
            "type": "scatter3d"
           }
          ],
          "scattercarpet": [
           {
            "marker": {
             "colorbar": {
              "outlinewidth": 0,
              "ticks": ""
             }
            },
            "type": "scattercarpet"
           }
          ],
          "scattergeo": [
           {
            "marker": {
             "colorbar": {
              "outlinewidth": 0,
              "ticks": ""
             }
            },
            "type": "scattergeo"
           }
          ],
          "scattergl": [
           {
            "marker": {
             "colorbar": {
              "outlinewidth": 0,
              "ticks": ""
             }
            },
            "type": "scattergl"
           }
          ],
          "scattermapbox": [
           {
            "marker": {
             "colorbar": {
              "outlinewidth": 0,
              "ticks": ""
             }
            },
            "type": "scattermapbox"
           }
          ],
          "scatterpolar": [
           {
            "marker": {
             "colorbar": {
              "outlinewidth": 0,
              "ticks": ""
             }
            },
            "type": "scatterpolar"
           }
          ],
          "scatterpolargl": [
           {
            "marker": {
             "colorbar": {
              "outlinewidth": 0,
              "ticks": ""
             }
            },
            "type": "scatterpolargl"
           }
          ],
          "scatterternary": [
           {
            "marker": {
             "colorbar": {
              "outlinewidth": 0,
              "ticks": ""
             }
            },
            "type": "scatterternary"
           }
          ],
          "surface": [
           {
            "colorbar": {
             "outlinewidth": 0,
             "ticks": ""
            },
            "colorscale": [
             [
              0,
              "#0d0887"
             ],
             [
              0.1111111111111111,
              "#46039f"
             ],
             [
              0.2222222222222222,
              "#7201a8"
             ],
             [
              0.3333333333333333,
              "#9c179e"
             ],
             [
              0.4444444444444444,
              "#bd3786"
             ],
             [
              0.5555555555555556,
              "#d8576b"
             ],
             [
              0.6666666666666666,
              "#ed7953"
             ],
             [
              0.7777777777777778,
              "#fb9f3a"
             ],
             [
              0.8888888888888888,
              "#fdca26"
             ],
             [
              1,
              "#f0f921"
             ]
            ],
            "type": "surface"
           }
          ],
          "table": [
           {
            "cells": {
             "fill": {
              "color": "#EBF0F8"
             },
             "line": {
              "color": "white"
             }
            },
            "header": {
             "fill": {
              "color": "#C8D4E3"
             },
             "line": {
              "color": "white"
             }
            },
            "type": "table"
           }
          ]
         },
         "layout": {
          "annotationdefaults": {
           "arrowcolor": "#2a3f5f",
           "arrowhead": 0,
           "arrowwidth": 1
          },
          "autotypenumbers": "strict",
          "coloraxis": {
           "colorbar": {
            "outlinewidth": 0,
            "ticks": ""
           }
          },
          "colorscale": {
           "diverging": [
            [
             0,
             "#8e0152"
            ],
            [
             0.1,
             "#c51b7d"
            ],
            [
             0.2,
             "#de77ae"
            ],
            [
             0.3,
             "#f1b6da"
            ],
            [
             0.4,
             "#fde0ef"
            ],
            [
             0.5,
             "#f7f7f7"
            ],
            [
             0.6,
             "#e6f5d0"
            ],
            [
             0.7,
             "#b8e186"
            ],
            [
             0.8,
             "#7fbc41"
            ],
            [
             0.9,
             "#4d9221"
            ],
            [
             1,
             "#276419"
            ]
           ],
           "sequential": [
            [
             0,
             "#0d0887"
            ],
            [
             0.1111111111111111,
             "#46039f"
            ],
            [
             0.2222222222222222,
             "#7201a8"
            ],
            [
             0.3333333333333333,
             "#9c179e"
            ],
            [
             0.4444444444444444,
             "#bd3786"
            ],
            [
             0.5555555555555556,
             "#d8576b"
            ],
            [
             0.6666666666666666,
             "#ed7953"
            ],
            [
             0.7777777777777778,
             "#fb9f3a"
            ],
            [
             0.8888888888888888,
             "#fdca26"
            ],
            [
             1,
             "#f0f921"
            ]
           ],
           "sequentialminus": [
            [
             0,
             "#0d0887"
            ],
            [
             0.1111111111111111,
             "#46039f"
            ],
            [
             0.2222222222222222,
             "#7201a8"
            ],
            [
             0.3333333333333333,
             "#9c179e"
            ],
            [
             0.4444444444444444,
             "#bd3786"
            ],
            [
             0.5555555555555556,
             "#d8576b"
            ],
            [
             0.6666666666666666,
             "#ed7953"
            ],
            [
             0.7777777777777778,
             "#fb9f3a"
            ],
            [
             0.8888888888888888,
             "#fdca26"
            ],
            [
             1,
             "#f0f921"
            ]
           ]
          },
          "colorway": [
           "#636efa",
           "#EF553B",
           "#00cc96",
           "#ab63fa",
           "#FFA15A",
           "#19d3f3",
           "#FF6692",
           "#B6E880",
           "#FF97FF",
           "#FECB52"
          ],
          "font": {
           "color": "#2a3f5f"
          },
          "geo": {
           "bgcolor": "white",
           "lakecolor": "white",
           "landcolor": "#E5ECF6",
           "showlakes": true,
           "showland": true,
           "subunitcolor": "white"
          },
          "hoverlabel": {
           "align": "left"
          },
          "hovermode": "closest",
          "mapbox": {
           "style": "light"
          },
          "paper_bgcolor": "white",
          "plot_bgcolor": "#E5ECF6",
          "polar": {
           "angularaxis": {
            "gridcolor": "white",
            "linecolor": "white",
            "ticks": ""
           },
           "bgcolor": "#E5ECF6",
           "radialaxis": {
            "gridcolor": "white",
            "linecolor": "white",
            "ticks": ""
           }
          },
          "scene": {
           "xaxis": {
            "backgroundcolor": "#E5ECF6",
            "gridcolor": "white",
            "gridwidth": 2,
            "linecolor": "white",
            "showbackground": true,
            "ticks": "",
            "zerolinecolor": "white"
           },
           "yaxis": {
            "backgroundcolor": "#E5ECF6",
            "gridcolor": "white",
            "gridwidth": 2,
            "linecolor": "white",
            "showbackground": true,
            "ticks": "",
            "zerolinecolor": "white"
           },
           "zaxis": {
            "backgroundcolor": "#E5ECF6",
            "gridcolor": "white",
            "gridwidth": 2,
            "linecolor": "white",
            "showbackground": true,
            "ticks": "",
            "zerolinecolor": "white"
           }
          },
          "shapedefaults": {
           "line": {
            "color": "#2a3f5f"
           }
          },
          "ternary": {
           "aaxis": {
            "gridcolor": "white",
            "linecolor": "white",
            "ticks": ""
           },
           "baxis": {
            "gridcolor": "white",
            "linecolor": "white",
            "ticks": ""
           },
           "bgcolor": "#E5ECF6",
           "caxis": {
            "gridcolor": "white",
            "linecolor": "white",
            "ticks": ""
           }
          },
          "title": {
           "x": 0.05
          },
          "xaxis": {
           "automargin": true,
           "gridcolor": "white",
           "linecolor": "white",
           "ticks": "",
           "title": {
            "standoff": 15
           },
           "zerolinecolor": "white",
           "zerolinewidth": 2
          },
          "yaxis": {
           "automargin": true,
           "gridcolor": "white",
           "linecolor": "white",
           "ticks": "",
           "title": {
            "standoff": 15
           },
           "zerolinecolor": "white",
           "zerolinewidth": 2
          }
         }
        },
        "title": {
         "text": "Target matrix [0]"
        },
        "width": 700,
        "xaxis": {
         "anchor": "y",
         "constrain": "domain",
         "domain": [
          0,
          1
         ],
         "scaleanchor": "y",
         "ticktext": [
          "0: (0, 0)",
          "0: (0, 0)",
          "0: (0, 0)",
          "0: (1, -1)",
          "0: (1, 0)",
          "0: (1, 1)",
          "0: (1, -1)",
          "0: (1, 0)",
          "0: (1, 1)",
          "1: (0, 0)",
          "1: (0, 0)",
          "2: (0, 0)",
          "2: (0, 0)",
          "3: (0, 0)",
          "3: (0, 0)",
          "4: (0, 0)",
          "4: (0, 0)"
         ],
         "tickvals": [
          0,
          1,
          2,
          3,
          4,
          5,
          6,
          7,
          8,
          9,
          10,
          11,
          12,
          13,
          14,
          15,
          16
         ]
        },
        "yaxis": {
         "anchor": "x",
         "autorange": "reversed",
         "constrain": "domain",
         "domain": [
          0,
          1
         ],
         "ticktext": [
          "0: (0, 0)",
          "0: (0, 0)",
          "0: (0, 0)",
          "0: (1, -1)",
          "0: (1, 0)",
          "0: (1, 1)",
          "0: (1, -1)",
          "0: (1, 0)",
          "0: (1, 1)",
          "1: (0, 0)",
          "1: (0, 0)",
          "2: (0, 0)",
          "2: (0, 0)",
          "3: (0, 0)",
          "3: (0, 0)",
          "4: (0, 0)",
          "4: (0, 0)"
         ],
         "tickvals": [
          0,
          1,
          2,
          3,
          4,
          5,
          6,
          7,
          8,
          9,
          10,
          11,
          12,
          13,
          14,
          15,
          16
         ]
        }
       }
      }
     },
     "metadata": {},
     "output_type": "display_data"
    },
    {
     "data": {
      "application/vnd.plotly.v1+json": {
       "config": {
        "plotlyServerURL": "https://plot.ly"
       },
       "data": [
        {
         "coloraxis": "coloraxis",
         "hovertemplate": "x: %{x}<br>y: %{y}<br>color: %{z}<extra></extra>",
         "name": "0",
         "texttemplate": "%{z:.2f}",
         "type": "heatmap",
         "xaxis": "x",
         "yaxis": "y",
         "z": [
          [
           2.082556,
           -0.09792814,
           -0.19155052,
           0.00010596386,
           0.00003646835,
           -0.0000969618,
           -0.00018574187,
           -0.00007485185,
           0.0001898364,
           -0.04738077,
           -0.00672945,
           -0.051970135,
           -0.0116944425,
           -0.055436585,
           -0.010822669,
           -0.04963763,
           -0.0037983172
          ],
          [
           -0.10169858,
           0.28300416,
           0.3015793,
           -0.0004659145,
           -0.0001449759,
           0.00039837405,
           -0.0000010665099,
           0.000024945912,
           -0.00004506251,
           0.096330345,
           0.018271817,
           0.105273485,
           0.02849989,
           0.10689962,
           0.032681666,
           0.08823578,
           0.023959793
          ],
          [
           -0.1962359,
           0.2919733,
           0.2906647,
           0.00047193875,
           0.00008720416,
           -0.0002950423,
           0.00052458514,
           0.00016546529,
           -0.00045260123,
           0.10037378,
           0.018245082,
           0.10594028,
           0.026459683,
           0.1060603,
           0.031328358,
           0.103881106,
           0.03044901
          ],
          [
           0.000106480395,
           0.00009527907,
           0.00042733538,
           0.35182974,
           -0.000012062721,
           0.000028785013,
           0.193634,
           -0.00006563674,
           0.00015016217,
           -0.096743986,
           -0.09550394,
           0.018284768,
           0.01014385,
           -0.0009642169,
           -0.00027983263,
           0.023896962,
           0.030625153
          ],
          [
           0.00003653625,
           -0.00016977865,
           0.00008445216,
           -0.000012062721,
           0.35184884,
           0.000011847314,
           -0.00006563674,
           0.19370191,
           0.000089142166,
           -0.016384311,
           -0.016565546,
           0.043471955,
           0.01838661,
           -0.10910142,
           -0.08146525,
           0.027288169,
           0.023506954
          ],
          [
           -0.00009723459,
           0.00028124265,
           -0.00027714216,
           0.000028785013,
           0.000011847314,
           0.35182357,
           0.00015016217,
           0.000089142166,
           0.19353496,
           -0.025308646,
           -0.021054354,
           0.0034562424,
           0.0034955554,
           0.087596655,
           0.06641596,
           -0.056696482,
           -0.04337672
          ],
          [
           -0.0001839419,
           -0.0000061153405,
           0.0005311984,
           0.20122981,
           -0.00004842382,
           0.00009572107,
           0.11085169,
           0.00004332357,
           -0.00009256101,
           -0.05345955,
           -0.04704001,
           0.008719515,
           0.009494115,
           0.00038337335,
           0.002349766,
           0.0140409535,
           0.011009586
          ],
          [
           -0.00007500884,
           0.000025425652,
           0.0001651182,
           -0.00004842382,
           0.20119621,
           0.00012325424,
           0.00004332357,
           0.110843286,
           -0.00008385276,
           -0.0084121935,
           -0.004655147,
           0.020059986,
           0.016917953,
           -0.05752381,
           -0.048049577,
           0.014800917,
           0.016371064
          ],
          [
           0.00018960159,
           -0.00004447544,
           -0.00045388192,
           0.00009572107,
           0.00012325424,
           0.20100443,
           -0.00009256101,
           -0.00008385276,
           0.110983334,
           -0.014015943,
           -0.014110787,
           0.0026079006,
           0.0020702556,
           0.044936538,
           0.035894252,
           -0.029141927,
           -0.020166583
          ],
          [
           -0.04738077,
           0.096330345,
           0.10037378,
           -0.096743986,
           -0.016384311,
           -0.025308646,
           -0.05345955,
           -0.0084121935,
           -0.014015943,
           0.21868375,
           0.15970474,
           -0.023856638,
           -0.03809936,
           -0.023183549,
           -0.04877743,
           -0.022134326,
           -0.046404224
          ],
          [
           -0.00672945,
           0.018271817,
           0.018245082,
           -0.09550394,
           -0.016565546,
           -0.021054354,
           -0.04704001,
           -0.004655147,
           -0.014110787,
           0.1674993,
           0.13587311,
           -0.03620397,
           -0.032564767,
           -0.04821518,
           -0.053479414,
           -0.04588257,
           -0.050438337
          ],
          [
           -0.051970135,
           0.105273485,
           0.10594028,
           0.018284768,
           0.043471955,
           0.0034562424,
           0.008719515,
           0.020059986,
           0.0026079006,
           -0.023856638,
           -0.03620397,
           0.21314666,
           0.15583107,
           -0.025974602,
           -0.038970143,
           -0.02435743,
           -0.046869658
          ],
          [
           -0.0116944425,
           0.02849989,
           0.026459683,
           0.01014385,
           0.01838661,
           0.0034955554,
           0.009494115,
           0.016917953,
           0.0020702556,
           -0.03809936,
           -0.032564767,
           0.15812959,
           0.12578282,
           -0.038117215,
           -0.034207933,
           -0.047144994,
           -0.05201945
          ],
          [
           -0.055436585,
           0.10689962,
           0.1060603,
           -0.0009642169,
           -0.10910142,
           0.087596655,
           0.00038337335,
           -0.05752381,
           0.044936538,
           -0.023183549,
           -0.04821518,
           -0.025974602,
           -0.038117215,
           0.2101129,
           0.15450972,
           -0.02374489,
           -0.030909495
          ],
          [
           -0.010822669,
           0.032681666,
           0.031328358,
           -0.00027983263,
           -0.08146525,
           0.06641596,
           0.002349766,
           -0.048049577,
           0.035894252,
           -0.04877743,
           -0.053479414,
           -0.038970143,
           -0.034207933,
           0.15501629,
           0.12596712,
           -0.03252097,
           -0.022972148
          ],
          [
           -0.04963763,
           0.08823578,
           0.103881106,
           0.023896962,
           0.027288169,
           -0.056696482,
           0.0140409535,
           0.014800917,
           -0.029141927,
           -0.022134326,
           -0.04588257,
           -0.02435743,
           -0.047144994,
           -0.02374489,
           -0.03252097,
           0.20855823,
           0.157563
          ],
          [
           -0.0037983172,
           0.023959793,
           0.03044901,
           0.030625153,
           0.023506954,
           -0.04337672,
           0.011009586,
           0.016371064,
           -0.020166583,
           -0.046404224,
           -0.050438337,
           -0.046869658,
           -0.05201945,
           -0.030909495,
           -0.022972148,
           0.16132577,
           0.12901568
          ]
         ]
        }
       ],
       "layout": {
        "coloraxis": {
         "cmid": 0,
         "colorscale": [
          [
           0,
           "rgb(103,0,31)"
          ],
          [
           0.1,
           "rgb(178,24,43)"
          ],
          [
           0.2,
           "rgb(214,96,77)"
          ],
          [
           0.3,
           "rgb(244,165,130)"
          ],
          [
           0.4,
           "rgb(253,219,199)"
          ],
          [
           0.5,
           "rgb(247,247,247)"
          ],
          [
           0.6,
           "rgb(209,229,240)"
          ],
          [
           0.7,
           "rgb(146,197,222)"
          ],
          [
           0.8,
           "rgb(67,147,195)"
          ],
          [
           0.9,
           "rgb(33,102,172)"
          ],
          [
           1,
           "rgb(5,48,97)"
          ]
         ]
        },
        "height": 700,
        "margin": {
         "t": 60
        },
        "shapes": [
         {
          "line": {
           "color": "#123456"
          },
          "type": "line",
          "x0": 0,
          "x1": 1,
          "xref": "x domain",
          "y0": 8.5,
          "y1": 8.5,
          "yref": "y"
         },
         {
          "line": {
           "color": "#123456"
          },
          "type": "line",
          "x0": 8.5,
          "x1": 8.5,
          "xref": "x",
          "y0": 0,
          "y1": 1,
          "yref": "y domain"
         },
         {
          "line": {
           "color": "#123456"
          },
          "type": "line",
          "x0": 0,
          "x1": 1,
          "xref": "x domain",
          "y0": 10.5,
          "y1": 10.5,
          "yref": "y"
         },
         {
          "line": {
           "color": "#123456"
          },
          "type": "line",
          "x0": 10.5,
          "x1": 10.5,
          "xref": "x",
          "y0": 0,
          "y1": 1,
          "yref": "y domain"
         },
         {
          "line": {
           "color": "#123456"
          },
          "type": "line",
          "x0": 0,
          "x1": 1,
          "xref": "x domain",
          "y0": 12.5,
          "y1": 12.5,
          "yref": "y"
         },
         {
          "line": {
           "color": "#123456"
          },
          "type": "line",
          "x0": 12.5,
          "x1": 12.5,
          "xref": "x",
          "y0": 0,
          "y1": 1,
          "yref": "y domain"
         },
         {
          "line": {
           "color": "#123456"
          },
          "type": "line",
          "x0": 0,
          "x1": 1,
          "xref": "x domain",
          "y0": 14.5,
          "y1": 14.5,
          "yref": "y"
         },
         {
          "line": {
           "color": "#123456"
          },
          "type": "line",
          "x0": 14.5,
          "x1": 14.5,
          "xref": "x",
          "y0": 0,
          "y1": 1,
          "yref": "y domain"
         },
         {
          "line": {
           "color": "#888888",
           "dash": "dot"
          },
          "type": "line",
          "x0": 0,
          "x1": 1,
          "xref": "x domain",
          "y0": 0.5,
          "y1": 0.5,
          "yref": "y"
         },
         {
          "line": {
           "color": "#888888",
           "dash": "dot"
          },
          "type": "line",
          "x0": 0.5,
          "x1": 0.5,
          "xref": "x",
          "y0": 0,
          "y1": 1,
          "yref": "y domain"
         },
         {
          "line": {
           "color": "#888888",
           "dash": "dot"
          },
          "type": "line",
          "x0": 0,
          "x1": 1,
          "xref": "x domain",
          "y0": 1.5,
          "y1": 1.5,
          "yref": "y"
         },
         {
          "line": {
           "color": "#888888",
           "dash": "dot"
          },
          "type": "line",
          "x0": 1.5,
          "x1": 1.5,
          "xref": "x",
          "y0": 0,
          "y1": 1,
          "yref": "y domain"
         },
         {
          "line": {
           "color": "#888888",
           "dash": "dot"
          },
          "type": "line",
          "x0": 0,
          "x1": 1,
          "xref": "x domain",
          "y0": 2.5,
          "y1": 2.5,
          "yref": "y"
         },
         {
          "line": {
           "color": "#888888",
           "dash": "dot"
          },
          "type": "line",
          "x0": 2.5,
          "x1": 2.5,
          "xref": "x",
          "y0": 0,
          "y1": 1,
          "yref": "y domain"
         },
         {
          "line": {
           "color": "#888888",
           "dash": "dot"
          },
          "type": "line",
          "x0": 0,
          "x1": 1,
          "xref": "x domain",
          "y0": 5.5,
          "y1": 5.5,
          "yref": "y"
         },
         {
          "line": {
           "color": "#888888",
           "dash": "dot"
          },
          "type": "line",
          "x0": 5.5,
          "x1": 5.5,
          "xref": "x",
          "y0": 0,
          "y1": 1,
          "yref": "y domain"
         },
         {
          "line": {
           "color": "#888888",
           "dash": "dot"
          },
          "type": "line",
          "x0": 0,
          "x1": 1,
          "xref": "x domain",
          "y0": 9.5,
          "y1": 9.5,
          "yref": "y"
         },
         {
          "line": {
           "color": "#888888",
           "dash": "dot"
          },
          "type": "line",
          "x0": 9.5,
          "x1": 9.5,
          "xref": "x",
          "y0": 0,
          "y1": 1,
          "yref": "y domain"
         },
         {
          "line": {
           "color": "#888888",
           "dash": "dot"
          },
          "type": "line",
          "x0": 0,
          "x1": 1,
          "xref": "x domain",
          "y0": 11.5,
          "y1": 11.5,
          "yref": "y"
         },
         {
          "line": {
           "color": "#888888",
           "dash": "dot"
          },
          "type": "line",
          "x0": 11.5,
          "x1": 11.5,
          "xref": "x",
          "y0": 0,
          "y1": 1,
          "yref": "y domain"
         },
         {
          "line": {
           "color": "#888888",
           "dash": "dot"
          },
          "type": "line",
          "x0": 0,
          "x1": 1,
          "xref": "x domain",
          "y0": 13.5,
          "y1": 13.5,
          "yref": "y"
         },
         {
          "line": {
           "color": "#888888",
           "dash": "dot"
          },
          "type": "line",
          "x0": 13.5,
          "x1": 13.5,
          "xref": "x",
          "y0": 0,
          "y1": 1,
          "yref": "y domain"
         },
         {
          "line": {
           "color": "#888888",
           "dash": "dot"
          },
          "type": "line",
          "x0": 0,
          "x1": 1,
          "xref": "x domain",
          "y0": 15.5,
          "y1": 15.5,
          "yref": "y"
         },
         {
          "line": {
           "color": "#888888",
           "dash": "dot"
          },
          "type": "line",
          "x0": 15.5,
          "x1": 15.5,
          "xref": "x",
          "y0": 0,
          "y1": 1,
          "yref": "y domain"
         }
        ],
        "template": {
         "data": {
          "bar": [
           {
            "error_x": {
             "color": "#2a3f5f"
            },
            "error_y": {
             "color": "#2a3f5f"
            },
            "marker": {
             "line": {
              "color": "#E5ECF6",
              "width": 0.5
             },
             "pattern": {
              "fillmode": "overlay",
              "size": 10,
              "solidity": 0.2
             }
            },
            "type": "bar"
           }
          ],
          "barpolar": [
           {
            "marker": {
             "line": {
              "color": "#E5ECF6",
              "width": 0.5
             },
             "pattern": {
              "fillmode": "overlay",
              "size": 10,
              "solidity": 0.2
             }
            },
            "type": "barpolar"
           }
          ],
          "carpet": [
           {
            "aaxis": {
             "endlinecolor": "#2a3f5f",
             "gridcolor": "white",
             "linecolor": "white",
             "minorgridcolor": "white",
             "startlinecolor": "#2a3f5f"
            },
            "baxis": {
             "endlinecolor": "#2a3f5f",
             "gridcolor": "white",
             "linecolor": "white",
             "minorgridcolor": "white",
             "startlinecolor": "#2a3f5f"
            },
            "type": "carpet"
           }
          ],
          "choropleth": [
           {
            "colorbar": {
             "outlinewidth": 0,
             "ticks": ""
            },
            "type": "choropleth"
           }
          ],
          "contour": [
           {
            "colorbar": {
             "outlinewidth": 0,
             "ticks": ""
            },
            "colorscale": [
             [
              0,
              "#0d0887"
             ],
             [
              0.1111111111111111,
              "#46039f"
             ],
             [
              0.2222222222222222,
              "#7201a8"
             ],
             [
              0.3333333333333333,
              "#9c179e"
             ],
             [
              0.4444444444444444,
              "#bd3786"
             ],
             [
              0.5555555555555556,
              "#d8576b"
             ],
             [
              0.6666666666666666,
              "#ed7953"
             ],
             [
              0.7777777777777778,
              "#fb9f3a"
             ],
             [
              0.8888888888888888,
              "#fdca26"
             ],
             [
              1,
              "#f0f921"
             ]
            ],
            "type": "contour"
           }
          ],
          "contourcarpet": [
           {
            "colorbar": {
             "outlinewidth": 0,
             "ticks": ""
            },
            "type": "contourcarpet"
           }
          ],
          "heatmap": [
           {
            "colorbar": {
             "outlinewidth": 0,
             "ticks": ""
            },
            "colorscale": [
             [
              0,
              "#0d0887"
             ],
             [
              0.1111111111111111,
              "#46039f"
             ],
             [
              0.2222222222222222,
              "#7201a8"
             ],
             [
              0.3333333333333333,
              "#9c179e"
             ],
             [
              0.4444444444444444,
              "#bd3786"
             ],
             [
              0.5555555555555556,
              "#d8576b"
             ],
             [
              0.6666666666666666,
              "#ed7953"
             ],
             [
              0.7777777777777778,
              "#fb9f3a"
             ],
             [
              0.8888888888888888,
              "#fdca26"
             ],
             [
              1,
              "#f0f921"
             ]
            ],
            "type": "heatmap"
           }
          ],
          "heatmapgl": [
           {
            "colorbar": {
             "outlinewidth": 0,
             "ticks": ""
            },
            "colorscale": [
             [
              0,
              "#0d0887"
             ],
             [
              0.1111111111111111,
              "#46039f"
             ],
             [
              0.2222222222222222,
              "#7201a8"
             ],
             [
              0.3333333333333333,
              "#9c179e"
             ],
             [
              0.4444444444444444,
              "#bd3786"
             ],
             [
              0.5555555555555556,
              "#d8576b"
             ],
             [
              0.6666666666666666,
              "#ed7953"
             ],
             [
              0.7777777777777778,
              "#fb9f3a"
             ],
             [
              0.8888888888888888,
              "#fdca26"
             ],
             [
              1,
              "#f0f921"
             ]
            ],
            "type": "heatmapgl"
           }
          ],
          "histogram": [
           {
            "marker": {
             "pattern": {
              "fillmode": "overlay",
              "size": 10,
              "solidity": 0.2
             }
            },
            "type": "histogram"
           }
          ],
          "histogram2d": [
           {
            "colorbar": {
             "outlinewidth": 0,
             "ticks": ""
            },
            "colorscale": [
             [
              0,
              "#0d0887"
             ],
             [
              0.1111111111111111,
              "#46039f"
             ],
             [
              0.2222222222222222,
              "#7201a8"
             ],
             [
              0.3333333333333333,
              "#9c179e"
             ],
             [
              0.4444444444444444,
              "#bd3786"
             ],
             [
              0.5555555555555556,
              "#d8576b"
             ],
             [
              0.6666666666666666,
              "#ed7953"
             ],
             [
              0.7777777777777778,
              "#fb9f3a"
             ],
             [
              0.8888888888888888,
              "#fdca26"
             ],
             [
              1,
              "#f0f921"
             ]
            ],
            "type": "histogram2d"
           }
          ],
          "histogram2dcontour": [
           {
            "colorbar": {
             "outlinewidth": 0,
             "ticks": ""
            },
            "colorscale": [
             [
              0,
              "#0d0887"
             ],
             [
              0.1111111111111111,
              "#46039f"
             ],
             [
              0.2222222222222222,
              "#7201a8"
             ],
             [
              0.3333333333333333,
              "#9c179e"
             ],
             [
              0.4444444444444444,
              "#bd3786"
             ],
             [
              0.5555555555555556,
              "#d8576b"
             ],
             [
              0.6666666666666666,
              "#ed7953"
             ],
             [
              0.7777777777777778,
              "#fb9f3a"
             ],
             [
              0.8888888888888888,
              "#fdca26"
             ],
             [
              1,
              "#f0f921"
             ]
            ],
            "type": "histogram2dcontour"
           }
          ],
          "mesh3d": [
           {
            "colorbar": {
             "outlinewidth": 0,
             "ticks": ""
            },
            "type": "mesh3d"
           }
          ],
          "parcoords": [
           {
            "line": {
             "colorbar": {
              "outlinewidth": 0,
              "ticks": ""
             }
            },
            "type": "parcoords"
           }
          ],
          "pie": [
           {
            "automargin": true,
            "type": "pie"
           }
          ],
          "scatter": [
           {
            "fillpattern": {
             "fillmode": "overlay",
             "size": 10,
             "solidity": 0.2
            },
            "type": "scatter"
           }
          ],
          "scatter3d": [
           {
            "line": {
             "colorbar": {
              "outlinewidth": 0,
              "ticks": ""
             }
            },
            "marker": {
             "colorbar": {
              "outlinewidth": 0,
              "ticks": ""
             }
            },
            "type": "scatter3d"
           }
          ],
          "scattercarpet": [
           {
            "marker": {
             "colorbar": {
              "outlinewidth": 0,
              "ticks": ""
             }
            },
            "type": "scattercarpet"
           }
          ],
          "scattergeo": [
           {
            "marker": {
             "colorbar": {
              "outlinewidth": 0,
              "ticks": ""
             }
            },
            "type": "scattergeo"
           }
          ],
          "scattergl": [
           {
            "marker": {
             "colorbar": {
              "outlinewidth": 0,
              "ticks": ""
             }
            },
            "type": "scattergl"
           }
          ],
          "scattermapbox": [
           {
            "marker": {
             "colorbar": {
              "outlinewidth": 0,
              "ticks": ""
             }
            },
            "type": "scattermapbox"
           }
          ],
          "scatterpolar": [
           {
            "marker": {
             "colorbar": {
              "outlinewidth": 0,
              "ticks": ""
             }
            },
            "type": "scatterpolar"
           }
          ],
          "scatterpolargl": [
           {
            "marker": {
             "colorbar": {
              "outlinewidth": 0,
              "ticks": ""
             }
            },
            "type": "scatterpolargl"
           }
          ],
          "scatterternary": [
           {
            "marker": {
             "colorbar": {
              "outlinewidth": 0,
              "ticks": ""
             }
            },
            "type": "scatterternary"
           }
          ],
          "surface": [
           {
            "colorbar": {
             "outlinewidth": 0,
             "ticks": ""
            },
            "colorscale": [
             [
              0,
              "#0d0887"
             ],
             [
              0.1111111111111111,
              "#46039f"
             ],
             [
              0.2222222222222222,
              "#7201a8"
             ],
             [
              0.3333333333333333,
              "#9c179e"
             ],
             [
              0.4444444444444444,
              "#bd3786"
             ],
             [
              0.5555555555555556,
              "#d8576b"
             ],
             [
              0.6666666666666666,
              "#ed7953"
             ],
             [
              0.7777777777777778,
              "#fb9f3a"
             ],
             [
              0.8888888888888888,
              "#fdca26"
             ],
             [
              1,
              "#f0f921"
             ]
            ],
            "type": "surface"
           }
          ],
          "table": [
           {
            "cells": {
             "fill": {
              "color": "#EBF0F8"
             },
             "line": {
              "color": "white"
             }
            },
            "header": {
             "fill": {
              "color": "#C8D4E3"
             },
             "line": {
              "color": "white"
             }
            },
            "type": "table"
           }
          ]
         },
         "layout": {
          "annotationdefaults": {
           "arrowcolor": "#2a3f5f",
           "arrowhead": 0,
           "arrowwidth": 1
          },
          "autotypenumbers": "strict",
          "coloraxis": {
           "colorbar": {
            "outlinewidth": 0,
            "ticks": ""
           }
          },
          "colorscale": {
           "diverging": [
            [
             0,
             "#8e0152"
            ],
            [
             0.1,
             "#c51b7d"
            ],
            [
             0.2,
             "#de77ae"
            ],
            [
             0.3,
             "#f1b6da"
            ],
            [
             0.4,
             "#fde0ef"
            ],
            [
             0.5,
             "#f7f7f7"
            ],
            [
             0.6,
             "#e6f5d0"
            ],
            [
             0.7,
             "#b8e186"
            ],
            [
             0.8,
             "#7fbc41"
            ],
            [
             0.9,
             "#4d9221"
            ],
            [
             1,
             "#276419"
            ]
           ],
           "sequential": [
            [
             0,
             "#0d0887"
            ],
            [
             0.1111111111111111,
             "#46039f"
            ],
            [
             0.2222222222222222,
             "#7201a8"
            ],
            [
             0.3333333333333333,
             "#9c179e"
            ],
            [
             0.4444444444444444,
             "#bd3786"
            ],
            [
             0.5555555555555556,
             "#d8576b"
            ],
            [
             0.6666666666666666,
             "#ed7953"
            ],
            [
             0.7777777777777778,
             "#fb9f3a"
            ],
            [
             0.8888888888888888,
             "#fdca26"
            ],
            [
             1,
             "#f0f921"
            ]
           ],
           "sequentialminus": [
            [
             0,
             "#0d0887"
            ],
            [
             0.1111111111111111,
             "#46039f"
            ],
            [
             0.2222222222222222,
             "#7201a8"
            ],
            [
             0.3333333333333333,
             "#9c179e"
            ],
            [
             0.4444444444444444,
             "#bd3786"
            ],
            [
             0.5555555555555556,
             "#d8576b"
            ],
            [
             0.6666666666666666,
             "#ed7953"
            ],
            [
             0.7777777777777778,
             "#fb9f3a"
            ],
            [
             0.8888888888888888,
             "#fdca26"
            ],
            [
             1,
             "#f0f921"
            ]
           ]
          },
          "colorway": [
           "#636efa",
           "#EF553B",
           "#00cc96",
           "#ab63fa",
           "#FFA15A",
           "#19d3f3",
           "#FF6692",
           "#B6E880",
           "#FF97FF",
           "#FECB52"
          ],
          "font": {
           "color": "#2a3f5f"
          },
          "geo": {
           "bgcolor": "white",
           "lakecolor": "white",
           "landcolor": "#E5ECF6",
           "showlakes": true,
           "showland": true,
           "subunitcolor": "white"
          },
          "hoverlabel": {
           "align": "left"
          },
          "hovermode": "closest",
          "mapbox": {
           "style": "light"
          },
          "paper_bgcolor": "white",
          "plot_bgcolor": "#E5ECF6",
          "polar": {
           "angularaxis": {
            "gridcolor": "white",
            "linecolor": "white",
            "ticks": ""
           },
           "bgcolor": "#E5ECF6",
           "radialaxis": {
            "gridcolor": "white",
            "linecolor": "white",
            "ticks": ""
           }
          },
          "scene": {
           "xaxis": {
            "backgroundcolor": "#E5ECF6",
            "gridcolor": "white",
            "gridwidth": 2,
            "linecolor": "white",
            "showbackground": true,
            "ticks": "",
            "zerolinecolor": "white"
           },
           "yaxis": {
            "backgroundcolor": "#E5ECF6",
            "gridcolor": "white",
            "gridwidth": 2,
            "linecolor": "white",
            "showbackground": true,
            "ticks": "",
            "zerolinecolor": "white"
           },
           "zaxis": {
            "backgroundcolor": "#E5ECF6",
            "gridcolor": "white",
            "gridwidth": 2,
            "linecolor": "white",
            "showbackground": true,
            "ticks": "",
            "zerolinecolor": "white"
           }
          },
          "shapedefaults": {
           "line": {
            "color": "#2a3f5f"
           }
          },
          "ternary": {
           "aaxis": {
            "gridcolor": "white",
            "linecolor": "white",
            "ticks": ""
           },
           "baxis": {
            "gridcolor": "white",
            "linecolor": "white",
            "ticks": ""
           },
           "bgcolor": "#E5ECF6",
           "caxis": {
            "gridcolor": "white",
            "linecolor": "white",
            "ticks": ""
           }
          },
          "title": {
           "x": 0.05
          },
          "xaxis": {
           "automargin": true,
           "gridcolor": "white",
           "linecolor": "white",
           "ticks": "",
           "title": {
            "standoff": 15
           },
           "zerolinecolor": "white",
           "zerolinewidth": 2
          },
          "yaxis": {
           "automargin": true,
           "gridcolor": "white",
           "linecolor": "white",
           "ticks": "",
           "title": {
            "standoff": 15
           },
           "zerolinecolor": "white",
           "zerolinewidth": 2
          }
         }
        },
        "title": {
         "text": "Prediction after 200 training steps [0]"
        },
        "width": 700,
        "xaxis": {
         "anchor": "y",
         "constrain": "domain",
         "domain": [
          0,
          1
         ],
         "scaleanchor": "y",
         "ticktext": [
          "0: (0, 0)",
          "0: (0, 0)",
          "0: (0, 0)",
          "0: (1, -1)",
          "0: (1, 0)",
          "0: (1, 1)",
          "0: (1, -1)",
          "0: (1, 0)",
          "0: (1, 1)",
          "1: (0, 0)",
          "1: (0, 0)",
          "2: (0, 0)",
          "2: (0, 0)",
          "3: (0, 0)",
          "3: (0, 0)",
          "4: (0, 0)",
          "4: (0, 0)"
         ],
         "tickvals": [
          0,
          1,
          2,
          3,
          4,
          5,
          6,
          7,
          8,
          9,
          10,
          11,
          12,
          13,
          14,
          15,
          16
         ]
        },
        "yaxis": {
         "anchor": "x",
         "autorange": "reversed",
         "constrain": "domain",
         "domain": [
          0,
          1
         ],
         "ticktext": [
          "0: (0, 0)",
          "0: (0, 0)",
          "0: (0, 0)",
          "0: (1, -1)",
          "0: (1, 0)",
          "0: (1, 1)",
          "0: (1, -1)",
          "0: (1, 0)",
          "0: (1, 1)",
          "1: (0, 0)",
          "1: (0, 0)",
          "2: (0, 0)",
          "2: (0, 0)",
          "3: (0, 0)",
          "3: (0, 0)",
          "4: (0, 0)",
          "4: (0, 0)"
         ],
         "tickvals": [
          0,
          1,
          2,
          3,
          4,
          5,
          6,
          7,
          8,
          9,
          10,
          11,
          12,
          13,
          14,
          15,
          16
         ]
        }
       }
      }
     },
     "metadata": {},
     "output_type": "display_data"
    }
   ],
   "source": [
    "from graph2mat.tools.viz import plot_basis_matrix\n",
    "\n",
    "# predict the density matrixes of the first sample of the validation set\n",
    "sample = next(iter(val_loader))\n",
    "# model_100.eval()\n",
    "# prediction = model_100(sample)\n",
    "model_1000.eval()\n",
    "prediction = model_1000(sample)\n",
    "\n",
    "def plot_matrices(data, predictions=None, title=\"\", show=True):\n",
    "    \"\"\"Helper function to plot (possibly batched) matrices\"\"\"\n",
    "\n",
    "    matrices = processor.matrix_from_data(data, predictions=predictions)\n",
    "\n",
    "    if not isinstance(matrices, (tuple, list)):\n",
    "        matrices = (matrices,)\n",
    "\n",
    "    for i, (config, matrix) in enumerate(zip(configs, matrices)):\n",
    "        if show is True or show == i:\n",
    "            plot_basis_matrix(\n",
    "                matrix,\n",
    "                config,\n",
    "                point_lines={\"color\": \"#123456\"},\n",
    "                basis_lines={\"color\": \"#888888\"},\n",
    "                colorscale=\"RdBu\",\n",
    "                text=\".2f\",\n",
    "                basis_labels=True,\n",
    "            ).update_layout(title=f\"{title} [{i}]\", width=700, height=700).show()\n",
    "\n",
    "          \n",
    "plot_matrices(sample, title=f\"Target matrix\", show=0)\n",
    "plot_matrices(\n",
    "    sample,\n",
    "    predictions={\n",
    "        \"node_labels\": prediction['node_labels'],\n",
    "        \"edge_labels\": prediction['edge_labels'],\n",
    "    },\n",
    "    title=f\"Prediction after {200} training steps\",\n",
    "    show=0,\n",
    ")"
   ]
  },
  {
   "cell_type": "code",
   "execution_count": 99,
   "metadata": {},
   "outputs": [
    {
     "data": {
      "image/png": "[encoded data removed]",
      "text/plain": [
       "<Figure size 640x480 with 2 Axes>"
      ]
     },
     "metadata": {},
     "output_type": "display_data"
    }
   ],
   "source": [
    "# find the difference between the predicted and the target density matrixes\n",
    "\n",
    "special_config = BasisConfiguration(\n",
    "            point_types = [\"C\", \"H\", \"H\", \"H\", \"H\"],\n",
    "            positions = get_atom_position_list(data['feature'][0]),\n",
    "            basis = basis_list,\n",
    "            cell=np.eye(3) * 100,\n",
    "            pbc=(False, False, False),\n",
    "            matrix = np.array(data['target'][0])\n",
    "        )\n",
    "\n",
    "target_density_matrix = np.array(data['target'][0])\n",
    "\n",
    "special_dataset = TorchBasisMatrixDataset([special_config], data_processor=processor)\n",
    "\n",
    "special_loader = DataLoader(special_dataset, batch_size=1)\n",
    "\n",
    "special_sample = next(iter(special_loader))\n",
    "\n",
    "predicted_density_matrix = processor.matrix_from_data(special_sample, predictions=prediction)\n",
    "\n",
    "predicted_density_matrix = predicted_density_matrix[0].toarray()\n",
    "\n",
    "special_diff = target_density_matrix - predicted_density_matrix\n",
    "\n",
    "import matplotlib.pyplot as plt\n",
    "\n",
    "# plt.figure(figsize=(10, 10))\n",
    "plt.imshow(special_diff, cmap='RdBu')\n",
    "plt.colorbar()\n",
    "plt.title('Difference between Predicted and Target Density Matrices')\n",
    "plt.show()"
   ]
  },
  {
   "cell_type": "code",
   "execution_count": 97,
   "metadata": {},
   "outputs": [
    {
     "name": "stdout",
     "output_type": "stream",
     "text": [
      "converged SCF energy = -40.1804247851503\n",
      "Target electronic energy: -93.4732259297991\n",
      "Predicted electronic energy: -82.36551568964317\n"
     ]
    }
   ],
   "source": [
    "from pyscf import gto, scf\n",
    "import pickle\n",
    "from tools import get_atom_coords, format_for_pyscf\n",
    "\n",
    "# Load and parse the .xyz file\n",
    "filename = \"CH4.xyz\"  # Replace with your .xyz file path\n",
    "molecular_data = get_atom_coords(filename)\n",
    "\n",
    "# take one frame every 25 frames\n",
    "\n",
    "un_correlated_structures = []\n",
    "for i in range(0, len(molecular_data), 25):\n",
    "    mol = gto.Mole()\n",
    "    mol.atom = format_for_pyscf(molecular_data[i])\n",
    "    mol.basis = '6-31g'\n",
    "    mol.build()\n",
    "    un_correlated_structures.append(mol)\n",
    "    \n",
    "special_mol = un_correlated_structures[0]\n",
    "\n",
    "mf = scf.RHF(special_mol)\n",
    "mf.kernel()\n",
    "\n",
    "dm = mf.make_rdm1()\n",
    "# dm = target_density_matrix\n",
    "hcore = mf.get_hcore() \n",
    "fock = mf.get_fock(dm=dm)\n",
    "\n",
    "\n",
    "target_elec_energy = np.einsum('ij,ji->', dm, hcore) + 0.5 * np.einsum('ij,ji->', dm, fock)\n",
    "\n",
    "predicted_elec_energy = np.einsum('ij,ji->', predicted_density_matrix, hcore) + 0.5 * np.einsum('ij,ji->', predicted_density_matrix, fock)\n",
    "\n",
    "print(f'Target electronic energy: {target_elec_energy}')\n",
    "print(f'Predicted electronic energy: {predicted_elec_energy}')"
   ]
  }
 ],
 "metadata": {
  "kernelspec": {
   "display_name": "base",
   "language": "python",
   "name": "python3"
  },
  "language_info": {
   "codemirror_mode": {
    "name": "ipython",
    "version": 3
   },
   "file_extension": ".py",
   "mimetype": "text/x-python",
   "name": "python",
   "nbconvert_exporter": "python",
   "pygments_lexer": "ipython3",
   "version": "3.11.5"
  }
 },
 "nbformat": 4,
 "nbformat_minor": 2
}
